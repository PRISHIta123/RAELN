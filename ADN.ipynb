{
 "cells": [
  {
   "cell_type": "code",
   "execution_count": 3,
   "metadata": {},
   "outputs": [],
   "source": [
    "import numpy as np\n",
    "import pandas as pd\n",
    "import tensorflow as tf\n",
    "import matplotlib.pyplot as plt"
   ]
  },
  {
   "cell_type": "code",
   "execution_count": 4,
   "metadata": {},
   "outputs": [],
   "source": [
    "from tensorflow.contrib.layers import fully_connected"
   ]
  },
  {
   "cell_type": "code",
   "execution_count": 41,
   "metadata": {},
   "outputs": [],
   "source": [
    "training_df=pd.read_csv(\"F://ML Paper Project//UNSW_NB15_training-set.csv\")\n",
    "testing_df=pd.read_csv(\"F://ML Paper Project//UNSW_NB15_testing-set.csv\")\n",
    "\n",
    "#Choosing columns of best selected features obtained using autoencoder L1\n",
    "training_df_selectedf=training_df[['dmean','id','is_ftp_login','dwin','dloss','smean','dur','stcpb','dinpkt','dbytes','attack_cat']].copy()\n",
    "testing_df_selectedf=testing_df[['dmean','id','is_ftp_login','dwin','dloss','smean','dur','stcpb','dinpkt','dbytes','attack_cat']].copy()"
   ]
  },
  {
   "cell_type": "code",
   "execution_count": 42,
   "metadata": {},
   "outputs": [],
   "source": [
    "training_data=np.array(training_df_selectedf)\n",
    "testing_data=np.array(testing_df_selectedf)"
   ]
  },
  {
   "cell_type": "code",
   "execution_count": 43,
   "metadata": {},
   "outputs": [
    {
     "data": {
      "text/plain": [
       "array([[0, 1, 0, ..., 0.0, 0, 'Normal'],\n",
       "       [0, 2, 0, ..., 0.0, 0, 'Normal'],\n",
       "       [0, 3, 0, ..., 0.0, 0, 'Normal'],\n",
       "       ...,\n",
       "       [0, 82330, 0, ..., 0.0, 0, 'Normal'],\n",
       "       [0, 82331, 0, ..., 0.0, 0, 'Normal'],\n",
       "       [0, 82332, 0, ..., 0.0, 0, 'Normal']], dtype=object)"
      ]
     },
     "execution_count": 43,
     "metadata": {},
     "output_type": "execute_result"
    }
   ],
   "source": [
    "testing_data"
   ]
  },
  {
   "cell_type": "code",
   "execution_count": 44,
   "metadata": {},
   "outputs": [
    {
     "data": {
      "text/plain": [
       "array([[43, 1, 0, ..., 8.375, 172, 'Normal'],\n",
       "       [1106, 2, 0, ..., 15.432865, 42014, 'Normal'],\n",
       "       [824, 3, 0, ..., 102.73720300000001, 13186, 'Normal'],\n",
       "       ...,\n",
       "       [0, 175339, 0, ..., 0.0, 0, 'Generic'],\n",
       "       [0, 175340, 0, ..., 0.0, 0, 'Generic'],\n",
       "       [0, 175341, 0, ..., 0.0, 0, 'Generic']], dtype=object)"
      ]
     },
     "execution_count": 44,
     "metadata": {},
     "output_type": "execute_result"
    }
   ],
   "source": [
    "training_data"
   ]
  },
  {
   "cell_type": "code",
   "execution_count": 46,
   "metadata": {},
   "outputs": [
    {
     "data": {
      "text/plain": [
       "(82332, 11)"
      ]
     },
     "execution_count": 46,
     "metadata": {},
     "output_type": "execute_result"
    }
   ],
   "source": [
    "testing_data.shape"
   ]
  },
  {
   "cell_type": "code",
   "execution_count": 47,
   "metadata": {},
   "outputs": [],
   "source": [
    "training_labels=training_data[:,10]"
   ]
  },
  {
   "cell_type": "code",
   "execution_count": 48,
   "metadata": {},
   "outputs": [],
   "source": [
    "training_features=training_data[:,0:10]"
   ]
  },
  {
   "cell_type": "code",
   "execution_count": 49,
   "metadata": {},
   "outputs": [
    {
     "data": {
      "text/plain": [
       "array(['Normal', 'Normal', 'Normal', ..., 'Generic', 'Generic', 'Generic'],\n",
       "      dtype=object)"
      ]
     },
     "execution_count": 49,
     "metadata": {},
     "output_type": "execute_result"
    }
   ],
   "source": [
    "training_labels"
   ]
  },
  {
   "cell_type": "code",
   "execution_count": 50,
   "metadata": {},
   "outputs": [
    {
     "data": {
      "text/plain": [
       "array([[43, 1, 0, ..., 621772692, 8.375, 172],\n",
       "       [1106, 2, 0, ..., 1417884146, 15.432865, 42014],\n",
       "       [824, 3, 0, ..., 2116150707, 102.73720300000001, 13186],\n",
       "       ...,\n",
       "       [0, 175339, 0, ..., 0, 0.0, 0],\n",
       "       [0, 175340, 0, ..., 0, 0.0, 0],\n",
       "       [0, 175341, 0, ..., 0, 0.0, 0]], dtype=object)"
      ]
     },
     "execution_count": 50,
     "metadata": {},
     "output_type": "execute_result"
    }
   ],
   "source": [
    "training_features"
   ]
  },
  {
   "cell_type": "code",
   "execution_count": 51,
   "metadata": {},
   "outputs": [],
   "source": [
    "#Integer Encoding Labels\n",
    "for i in range(0,len(training_labels)):\n",
    "    if training_labels[i]=='Normal':\n",
    "        training_labels[i]=0\n",
    "    elif training_labels[i]=='Fuzzers':\n",
    "        training_labels[i]=1\n",
    "    elif training_labels[i]=='Analysis':\n",
    "        training_labels[i]=2\n",
    "    elif training_labels[i]=='Backdoor':\n",
    "        training_labels[i]=3\n",
    "    elif training_labels[i]=='DoS':\n",
    "        training_labels[i]=4\n",
    "    elif training_labels[i]=='Exploits':\n",
    "        training_labels[i]=5\n",
    "    elif training_labels[i]=='Generic':\n",
    "        training_labels[i]=6\n",
    "    elif training_labels[i]=='Reconaissance':\n",
    "        training_labels[i]=7\n",
    "    elif training_labels[i]=='Shellcode':\n",
    "        training_labels[i]=8\n",
    "    elif training_labels[i]=='Worms':\n",
    "        training_labels[i]=9"
   ]
  },
  {
   "cell_type": "code",
   "execution_count": 52,
   "metadata": {},
   "outputs": [
    {
     "data": {
      "text/plain": [
       "array([0, 0, 0, ..., 6, 6, 6], dtype=object)"
      ]
     },
     "execution_count": 52,
     "metadata": {},
     "output_type": "execute_result"
    }
   ],
   "source": [
    "training_labels"
   ]
  },
  {
   "cell_type": "code",
   "execution_count": 53,
   "metadata": {},
   "outputs": [],
   "source": [
    "#Perform normalization on dataset\n",
    "for i in range(0,10):\n",
    "    mean=np.mean(training_features[:,i])\n",
    "    std=np.std(training_features[:,i])\n",
    "    std_list.append(std)\n",
    "    for j in range(0,175341):\n",
    "        training_features[j][i]=(training_features[j][i]-mean)/std"
   ]
  },
  {
   "cell_type": "code",
   "execution_count": 54,
   "metadata": {},
   "outputs": [
    {
     "data": {
      "text/plain": [
       "array([[-0.31424023983157745, -1.7320409294122083, -0.11859016079104731,\n",
       "        ..., -0.25639185934862463, -0.08088549744723539,\n",
       "        -0.10272556475988137],\n",
       "       [3.800869492980194, -1.7320211730425332, -0.11859016079104731,\n",
       "        ..., 0.33103138642993124, -0.07373532645652427,\n",
       "        0.18854412422877523],\n",
       "       [2.7091846908607966, -1.7320014166728581, -0.11859016079104731,\n",
       "        ..., 0.8462582527441168, 0.014710817657997251,\n",
       "        -0.012132769661693492],\n",
       "       ...,\n",
       "       [-0.4807028160412728, 1.7320014166728581, -0.11859016079104731,\n",
       "        ..., -0.7151765320674652, -0.0893700295326756,\n",
       "        -0.10392288770108993],\n",
       "       [-0.4807028160412728, 1.7320211730425332, -0.11859016079104731,\n",
       "        ..., -0.7151765320674652, -0.0893700295326756,\n",
       "        -0.10392288770108993],\n",
       "       [-0.4807028160412728, 1.7320409294122083, -0.11859016079104731,\n",
       "        ..., -0.7151765320674652, -0.0893700295326756,\n",
       "        -0.10392288770108993]], dtype=object)"
      ]
     },
     "execution_count": 54,
     "metadata": {},
     "output_type": "execute_result"
    }
   ],
   "source": [
    "training_features"
   ]
  },
  {
   "cell_type": "code",
   "execution_count": 56,
   "metadata": {},
   "outputs": [],
   "source": [
    "testing_labels=testing_data[:,10]"
   ]
  },
  {
   "cell_type": "code",
   "execution_count": 60,
   "metadata": {},
   "outputs": [],
   "source": [
    "testing_features=testing_data[:,0:10]"
   ]
  },
  {
   "cell_type": "code",
   "execution_count": 61,
   "metadata": {},
   "outputs": [
    {
     "data": {
      "text/plain": [
       "array(['Normal', 'Normal', 'Normal', ..., 'Normal', 'Normal', 'Normal'],\n",
       "      dtype=object)"
      ]
     },
     "execution_count": 61,
     "metadata": {},
     "output_type": "execute_result"
    }
   ],
   "source": [
    "testing_labels"
   ]
  },
  {
   "cell_type": "code",
   "execution_count": 62,
   "metadata": {},
   "outputs": [
    {
     "data": {
      "text/plain": [
       "array([[0, 1, 0, ..., 0, 0.0, 0],\n",
       "       [0, 2, 0, ..., 0, 0.0, 0],\n",
       "       [0, 3, 0, ..., 0, 0.0, 0],\n",
       "       ...,\n",
       "       [0, 82330, 0, ..., 0, 0.0, 0],\n",
       "       [0, 82331, 0, ..., 0, 0.0, 0],\n",
       "       [0, 82332, 0, ..., 0, 0.0, 0]], dtype=object)"
      ]
     },
     "execution_count": 62,
     "metadata": {},
     "output_type": "execute_result"
    }
   ],
   "source": [
    "testing_features"
   ]
  },
  {
   "cell_type": "code",
   "execution_count": 63,
   "metadata": {},
   "outputs": [],
   "source": [
    "#Integer Encoding Labels\n",
    "for i in range(0,len(testing_labels)):\n",
    "    if testing_labels[i]=='Normal':\n",
    "        testing_labels[i]=0\n",
    "    elif testing_labels[i]=='Fuzzers':\n",
    "        testing_labels[i]=1\n",
    "    elif testing_labels[i]=='Analysis':\n",
    "        testing_labels[i]=2\n",
    "    elif testing_labels[i]=='Backdoor':\n",
    "        testing_labels[i]=3\n",
    "    elif testing_labels[i]=='DoS':\n",
    "        testing_labels[i]=4\n",
    "    elif testing_labels[i]=='Exploits':\n",
    "        testing_labels[i]=5\n",
    "    elif testing_labels[i]=='Generic':\n",
    "        testing_labels[i]=6\n",
    "    elif testing_labels[i]=='Reconaissance':\n",
    "        testing_labels[i]=7\n",
    "    elif testing_labels[i]=='Shellcode':\n",
    "        testing_labels[i]=8\n",
    "    elif testing_labels[i]=='Worms':\n",
    "        testing_labels[i]=9"
   ]
  },
  {
   "cell_type": "code",
   "execution_count": 64,
   "metadata": {},
   "outputs": [
    {
     "data": {
      "text/plain": [
       "array([0, 0, 0, ..., 0, 0, 0], dtype=object)"
      ]
     },
     "execution_count": 64,
     "metadata": {},
     "output_type": "execute_result"
    }
   ],
   "source": [
    "testing_labels"
   ]
  },
  {
   "cell_type": "code",
   "execution_count": 66,
   "metadata": {},
   "outputs": [],
   "source": [
    "std_list=[]"
   ]
  },
  {
   "cell_type": "code",
   "execution_count": 68,
   "metadata": {},
   "outputs": [],
   "source": [
    "#Perform normalization on dataset\n",
    "for i in range(0,10):\n",
    "    mean=np.mean(testing_features[:,i])\n",
    "    std=np.std(testing_features[:,i])\n",
    "    std_list.append(std)\n",
    "    for j in range(0,82332):\n",
    "        testing_features[j][i]=(testing_features[j][i]-mean)/std"
   ]
  },
  {
   "cell_type": "code",
   "execution_count": 69,
   "metadata": {},
   "outputs": [
    {
     "data": {
      "text/plain": [
       "array([[-0.4753705901536123, -1.7320297703016059, -0.09085748405330417,\n",
       "        ..., -0.7798400443464907, -0.09416902481512969,\n",
       "        -0.08736871139940909],\n",
       "       [-0.4753705901536123, -1.7319876955115439, -0.09085748405330417,\n",
       "        ..., -0.7798400443464907, -0.09416902481512969,\n",
       "        -0.08736871139940909],\n",
       "       [-0.4753705901536123, -1.7319456207214818, -0.09085748405330417,\n",
       "        ..., -0.7798400443464907, -0.09416902481512969,\n",
       "        -0.08736871139940909],\n",
       "       ...,\n",
       "       [-0.4753705901536123, 1.7319456207214818, -0.09085748405330417,\n",
       "        ..., -0.7798400443464907, -0.09416902481512969,\n",
       "        -0.08736871139940909],\n",
       "       [-0.4753705901536123, 1.7319876955115439, -0.09085748405330417,\n",
       "        ..., -0.7798400443464907, -0.09416902481512969,\n",
       "        -0.08736871139940909],\n",
       "       [-0.4753705901536123, 1.7320297703016059, -0.09085748405330417,\n",
       "        ..., -0.7798400443464907, -0.09416902481512969,\n",
       "        -0.08736871139940909]], dtype=object)"
      ]
     },
     "execution_count": 69,
     "metadata": {},
     "output_type": "execute_result"
    }
   ],
   "source": [
    "testing_features"
   ]
  },
  {
   "cell_type": "code",
   "execution_count": 88,
   "metadata": {},
   "outputs": [],
   "source": [
    "#Number of units in input layer (Number of features)\n",
    "D=10\n",
    "#Number of units in output layer (Number of classes 9+1)\n",
    "C=10\n",
    "#Number of units in hidden layers ((D+C)^0.5 + (1-10))\n",
    "H1=6\n",
    "H2=6\n",
    "H3=8\n",
    "actf=tf.nn.relu"
   ]
  },
  {
   "cell_type": "code",
   "execution_count": 89,
   "metadata": {},
   "outputs": [],
   "source": [
    "input_layer=tf.placeholder(tf.float32,shape=[None,D])"
   ]
  },
  {
   "cell_type": "code",
   "execution_count": 90,
   "metadata": {},
   "outputs": [],
   "source": [
    "initializer=tf.variance_scaling_initializer()"
   ]
  },
  {
   "cell_type": "code",
   "execution_count": 91,
   "metadata": {},
   "outputs": [],
   "source": [
    "#Initializing inner hidden layers and label layer\n",
    "w1=tf.Variable(initializer([D,H1]),dtype=tf.float32)\n",
    "w2=tf.Variable(initializer([H1,H2]),dtype=tf.float32)\n",
    "w3=tf.Variable(initializer([H2,H3]),dtype=tf.float32)\n",
    "w4=tf.Variable(initializer([H3,C]),dtype=tf.float32)"
   ]
  },
  {
   "cell_type": "code",
   "execution_count": 92,
   "metadata": {},
   "outputs": [],
   "source": [
    "b1=tf.Variable(tf.zeros(H1))\n",
    "b2=tf.Variable(tf.zeros(H2))\n",
    "b3=tf.Variable(tf.zeros(H3))\n",
    "b4=tf.Variable(tf.zeros(C))"
   ]
  },
  {
   "cell_type": "code",
   "execution_count": 95,
   "metadata": {},
   "outputs": [],
   "source": [
    "hid_layer1=actf(tf.matmul(input_layer,w1)+b1)\n",
    "hid_layer2=actf(tf.matmul(hid_layer1,w2)+b2)\n",
    "hid_layer3=actf(tf.matmul(hid_layer2,w3)+b3)\n",
    "label_layer=actf(tf.matmul(hid_layer3,w4)+b4)"
   ]
  },
  {
   "cell_type": "code",
   "execution_count": 113,
   "metadata": {},
   "outputs": [
    {
     "name": "stdout",
     "output_type": "stream",
     "text": [
      "Tensor(\"strided_slice:0\", shape=(), dtype=float32)\n"
     ]
    }
   ],
   "source": [
    "print(b1[0])"
   ]
  },
  {
   "cell_type": "code",
   "execution_count": null,
   "metadata": {},
   "outputs": [],
   "source": []
  },
  {
   "cell_type": "code",
   "execution_count": 114,
   "metadata": {},
   "outputs": [],
   "source": [
    "def energy(hk,hkm1,wk,bkm1,ck):\n",
    "    t1=0\n",
    "    for i in range(0,wk.shape[0]):\n",
    "        for x in wk[i]:\n",
    "            t1=t1+x\n",
    "    \n",
    "    t2=0\n",
    "    for i in range(0,bkm1.shape[0]):\n",
    "        t2=t2+bkm1[i]\n",
    "    \n",
    "    t3=0\n",
    "    for i in range(0,ck.shape[0]):\n",
    "        t3=t3+ck[i]\n",
    "        \n",
    "    total_energy=(-1*t1) + (-1*t2) + (-1*t3)\n",
    "    return total_energy\n",
    "    "
   ]
  },
  {
   "cell_type": "code",
   "execution_count": 115,
   "metadata": {},
   "outputs": [],
   "source": [
    "def exp_energy(e):\n",
    "    return exp(-1*e)\n",
    "    "
   ]
  },
  {
   "cell_type": "code",
   "execution_count": 116,
   "metadata": {},
   "outputs": [
    {
     "ename": "TypeError",
     "evalue": "`Tensor` objects are not iterable when eager execution is not enabled. To iterate over this tensor use `tf.map_fn`.",
     "output_type": "error",
     "traceback": [
      "\u001b[1;31m---------------------------------------------------------------------------\u001b[0m",
      "\u001b[1;31mTypeError\u001b[0m                                 Traceback (most recent call last)",
      "\u001b[1;32m<ipython-input-116-050b9412b484>\u001b[0m in \u001b[0;36m<module>\u001b[1;34m()\u001b[0m\n\u001b[1;32m----> 1\u001b[1;33m \u001b[0mval2_1\u001b[0m\u001b[1;33m=\u001b[0m\u001b[0mexp_energy\u001b[0m\u001b[1;33m(\u001b[0m\u001b[0menergy\u001b[0m\u001b[1;33m(\u001b[0m\u001b[0mhid_layer2\u001b[0m\u001b[1;33m,\u001b[0m\u001b[0mhid_layer1\u001b[0m\u001b[1;33m,\u001b[0m\u001b[0mw2\u001b[0m\u001b[1;33m,\u001b[0m\u001b[0mb1\u001b[0m\u001b[1;33m,\u001b[0m\u001b[0mb2\u001b[0m\u001b[1;33m)\u001b[0m\u001b[1;33m)\u001b[0m\u001b[1;33m\u001b[0m\u001b[0m\n\u001b[0m\u001b[0;32m      2\u001b[0m \u001b[0mval3_1\u001b[0m\u001b[1;33m=\u001b[0m\u001b[0mexp_energy\u001b[0m\u001b[1;33m(\u001b[0m\u001b[0menergy\u001b[0m\u001b[1;33m(\u001b[0m\u001b[0mhid_layer3\u001b[0m\u001b[1;33m,\u001b[0m\u001b[0mhid_layer1\u001b[0m\u001b[1;33m,\u001b[0m\u001b[0mw3\u001b[0m\u001b[1;33m,\u001b[0m\u001b[0mb1\u001b[0m\u001b[1;33m,\u001b[0m\u001b[0mb3\u001b[0m\u001b[1;33m)\u001b[0m\u001b[1;33m)\u001b[0m\u001b[1;33m\u001b[0m\u001b[0m\n\u001b[0;32m      3\u001b[0m \u001b[0mval3_2\u001b[0m\u001b[1;33m=\u001b[0m\u001b[0mexp_energy\u001b[0m\u001b[1;33m(\u001b[0m\u001b[0menergy\u001b[0m\u001b[1;33m(\u001b[0m\u001b[0mhid_layer3\u001b[0m\u001b[1;33m,\u001b[0m\u001b[0mhid_layer2\u001b[0m\u001b[1;33m,\u001b[0m\u001b[0mw3\u001b[0m\u001b[1;33m,\u001b[0m\u001b[0mb2\u001b[0m\u001b[1;33m,\u001b[0m\u001b[0mb3\u001b[0m\u001b[1;33m)\u001b[0m\u001b[1;33m)\u001b[0m\u001b[1;33m\u001b[0m\u001b[0m\n\u001b[0;32m      4\u001b[0m \u001b[0mval4_1\u001b[0m\u001b[1;33m=\u001b[0m\u001b[0mexp_energy\u001b[0m\u001b[1;33m(\u001b[0m\u001b[0menergy\u001b[0m\u001b[1;33m(\u001b[0m\u001b[0mhid_layer4\u001b[0m\u001b[1;33m,\u001b[0m\u001b[0mhid_layer1\u001b[0m\u001b[1;33m,\u001b[0m\u001b[0mw4\u001b[0m\u001b[1;33m,\u001b[0m\u001b[0mb1\u001b[0m\u001b[1;33m,\u001b[0m\u001b[0mb4\u001b[0m\u001b[1;33m)\u001b[0m\u001b[1;33m)\u001b[0m\u001b[1;33m\u001b[0m\u001b[0m\n\u001b[0;32m      5\u001b[0m \u001b[0mval4_2\u001b[0m\u001b[1;33m=\u001b[0m\u001b[0mexp_energy\u001b[0m\u001b[1;33m(\u001b[0m\u001b[0menergy\u001b[0m\u001b[1;33m(\u001b[0m\u001b[0mhid_layer4\u001b[0m\u001b[1;33m,\u001b[0m\u001b[0mhid_layer2\u001b[0m\u001b[1;33m,\u001b[0m\u001b[0mw4\u001b[0m\u001b[1;33m,\u001b[0m\u001b[0mb2\u001b[0m\u001b[1;33m,\u001b[0m\u001b[0mb4\u001b[0m\u001b[1;33m)\u001b[0m\u001b[1;33m)\u001b[0m\u001b[1;33m\u001b[0m\u001b[0m\n",
      "\u001b[1;32m<ipython-input-114-598e5dd03b71>\u001b[0m in \u001b[0;36menergy\u001b[1;34m(hk, hkm1, wk, bkm1, ck)\u001b[0m\n\u001b[0;32m      2\u001b[0m     \u001b[0mt1\u001b[0m\u001b[1;33m=\u001b[0m\u001b[1;36m0\u001b[0m\u001b[1;33m\u001b[0m\u001b[0m\n\u001b[0;32m      3\u001b[0m     \u001b[1;32mfor\u001b[0m \u001b[0mi\u001b[0m \u001b[1;32min\u001b[0m \u001b[0mrange\u001b[0m\u001b[1;33m(\u001b[0m\u001b[1;36m0\u001b[0m\u001b[1;33m,\u001b[0m\u001b[0mwk\u001b[0m\u001b[1;33m.\u001b[0m\u001b[0mshape\u001b[0m\u001b[1;33m[\u001b[0m\u001b[1;36m0\u001b[0m\u001b[1;33m]\u001b[0m\u001b[1;33m)\u001b[0m\u001b[1;33m:\u001b[0m\u001b[1;33m\u001b[0m\u001b[0m\n\u001b[1;32m----> 4\u001b[1;33m         \u001b[1;32mfor\u001b[0m \u001b[0mx\u001b[0m \u001b[1;32min\u001b[0m \u001b[0mwk\u001b[0m\u001b[1;33m[\u001b[0m\u001b[0mi\u001b[0m\u001b[1;33m]\u001b[0m\u001b[1;33m:\u001b[0m\u001b[1;33m\u001b[0m\u001b[0m\n\u001b[0m\u001b[0;32m      5\u001b[0m             \u001b[0mt1\u001b[0m\u001b[1;33m=\u001b[0m\u001b[0mt1\u001b[0m\u001b[1;33m+\u001b[0m\u001b[0mx\u001b[0m\u001b[1;33m\u001b[0m\u001b[0m\n\u001b[0;32m      6\u001b[0m \u001b[1;33m\u001b[0m\u001b[0m\n",
      "\u001b[1;32mc:\\users\\prishitaray\\appdata\\local\\programs\\python\\python35\\lib\\site-packages\\tensorflow\\python\\framework\\ops.py\u001b[0m in \u001b[0;36m__iter__\u001b[1;34m(self)\u001b[0m\n\u001b[0;32m    394\u001b[0m     \u001b[1;32mif\u001b[0m \u001b[0mcontext\u001b[0m\u001b[1;33m.\u001b[0m\u001b[0min_graph_mode\u001b[0m\u001b[1;33m(\u001b[0m\u001b[1;33m)\u001b[0m\u001b[1;33m:\u001b[0m\u001b[1;33m\u001b[0m\u001b[0m\n\u001b[0;32m    395\u001b[0m       raise TypeError(\n\u001b[1;32m--> 396\u001b[1;33m           \u001b[1;34m\"`Tensor` objects are not iterable when eager execution is not \"\u001b[0m\u001b[1;33m\u001b[0m\u001b[0m\n\u001b[0m\u001b[0;32m    397\u001b[0m           \"enabled. To iterate over this tensor use `tf.map_fn`.\")\n\u001b[0;32m    398\u001b[0m     \u001b[0mshape\u001b[0m \u001b[1;33m=\u001b[0m \u001b[0mself\u001b[0m\u001b[1;33m.\u001b[0m\u001b[0m_shape_tuple\u001b[0m\u001b[1;33m(\u001b[0m\u001b[1;33m)\u001b[0m\u001b[1;33m\u001b[0m\u001b[0m\n",
      "\u001b[1;31mTypeError\u001b[0m: `Tensor` objects are not iterable when eager execution is not enabled. To iterate over this tensor use `tf.map_fn`."
     ]
    }
   ],
   "source": [
    "val2_1=exp_energy(energy(hid_layer2,hid_layer1,w2,b1,b2))\n",
    "val3_1=exp_energy(energy(hid_layer3,hid_layer1,w3,b1,b3)) \n",
    "val3_2=exp_energy(energy(hid_layer3,hid_layer2,w3,b2,b3)) \n",
    "val4_1=exp_energy(energy(hid_layer4,hid_layer1,w4,b1,b4)) \n",
    "val4_2=exp_energy(energy(hid_layer4,hid_layer2,w4,b2,b4)) \n",
    "val4_3=exp_energy(energy(hid_layer4,hid_layer3,w4,b3,b4))\n",
    "\n",
    "#Defining the normalization constant\n",
    "Z=val2_1 + val3_1 + val3_2 + val4_1 + val4_2 + val4_3\n",
    "\n",
    "num=val2_1 + val3_2 + val4_3\n",
    "\n",
    "Prob = num/Z\n",
    "p1=p2=p3=Prob"
   ]
  },
  {
   "cell_type": "code",
   "execution_count": null,
   "metadata": {},
   "outputs": [],
   "source": []
  },
  {
   "cell_type": "code",
   "execution_count": null,
   "metadata": {},
   "outputs": [],
   "source": []
  },
  {
   "cell_type": "code",
   "execution_count": null,
   "metadata": {},
   "outputs": [],
   "source": []
  },
  {
   "cell_type": "code",
   "execution_count": null,
   "metadata": {},
   "outputs": [],
   "source": []
  }
 ],
 "metadata": {
  "kernelspec": {
   "display_name": "Python 3",
   "language": "python",
   "name": "python3"
  },
  "language_info": {
   "codemirror_mode": {
    "name": "ipython",
    "version": 3
   },
   "file_extension": ".py",
   "mimetype": "text/x-python",
   "name": "python",
   "nbconvert_exporter": "python",
   "pygments_lexer": "ipython3",
   "version": "3.5.2"
  }
 },
 "nbformat": 4,
 "nbformat_minor": 2
}
