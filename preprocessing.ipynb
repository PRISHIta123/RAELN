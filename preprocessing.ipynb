{
 "cells": [
  {
   "cell_type": "code",
   "execution_count": null,
   "metadata": {},
   "outputs": [],
   "source": [
    "from sklearn.preprocessing import LabelEncoder"
   ]
  },
  {
   "cell_type": "code",
   "execution_count": null,
   "metadata": {},
   "outputs": [],
   "source": [
    "def integer_encode(df):\n",
    "    col_list=df.select_dtypes(include='object')\n",
    "    \n",
    "    le=LabelEncoder()\n",
    "    \n",
    "    for i in range(0,len(col_list)):\n",
    "        df[col_list[i]] = le.fit_transform(df[col_list[i]])\n",
    "        \n",
    "    return df"
   ]
  },
  {
   "cell_type": "code",
   "execution_count": null,
   "metadata": {},
   "outputs": [],
   "source": [
    "def normalize_dataset(features):\n",
    "    \n",
    "    num_rows,num_cols=features.shape\n",
    "    \n",
    "    for i in range(0,num_cols):\n",
    "        mean=np.mean(features[:,i])\n",
    "        std=np.std(features[:,i])\n",
    "        \n",
    "        for j in range(0,num_rows):\n",
    "            training_features[j][i]=(training_features[j][i]-mean)/std"
   ]
  }
 ],
 "metadata": {
  "kernelspec": {
   "display_name": "Python 3",
   "language": "python",
   "name": "python3"
  },
  "language_info": {
   "codemirror_mode": {
    "name": "ipython",
    "version": 3
   },
   "file_extension": ".py",
   "mimetype": "text/x-python",
   "name": "python",
   "nbconvert_exporter": "python",
   "pygments_lexer": "ipython3",
   "version": "3.5.2"
  }
 },
 "nbformat": 4,
 "nbformat_minor": 2
}
