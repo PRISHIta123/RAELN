{
 "cells": [
  {
   "cell_type": "code",
   "execution_count": 1,
   "metadata": {},
   "outputs": [],
   "source": [
    "import numpy as np\n",
    "import pandas as pd"
   ]
  },
  {
   "cell_type": "code",
   "execution_count": 2,
   "metadata": {},
   "outputs": [],
   "source": [
    "training_df=pd.read_csv(\"F://ML Paper Project//UNSW_NB15_training-set.csv\")\n",
    "testing_df=pd.read_csv(\"F://ML Paper Project//UNSW_NB15_testing-set.csv\")"
   ]
  },
  {
   "cell_type": "code",
   "execution_count": 3,
   "metadata": {},
   "outputs": [],
   "source": [
    "training_data=np.array(training_df)"
   ]
  },
  {
   "cell_type": "code",
   "execution_count": 7,
   "metadata": {},
   "outputs": [
    {
     "data": {
      "text/plain": [
       "(175341, 45)"
      ]
     },
     "execution_count": 7,
     "metadata": {},
     "output_type": "execute_result"
    }
   ],
   "source": [
    "training_data.shape"
   ]
  },
  {
   "cell_type": "code",
   "execution_count": 36,
   "metadata": {},
   "outputs": [],
   "source": [
    "training_labels=training_data[:,43]"
   ]
  },
  {
   "cell_type": "code",
   "execution_count": 37,
   "metadata": {},
   "outputs": [],
   "source": [
    "training_features=training_data[:,0:43]"
   ]
  },
  {
   "cell_type": "code",
   "execution_count": 43,
   "metadata": {},
   "outputs": [
    {
     "data": {
      "text/plain": [
       "array(['Normal', 'Normal', 'Normal', ..., 'Generic', 'Generic', 'Generic'],\n",
       "      dtype=object)"
      ]
     },
     "execution_count": 43,
     "metadata": {},
     "output_type": "execute_result"
    }
   ],
   "source": [
    "training_labels"
   ]
  },
  {
   "cell_type": "code",
   "execution_count": 44,
   "metadata": {},
   "outputs": [
    {
     "data": {
      "text/plain": [
       "array([[1, 0.121478, 'tcp', ..., 1, 1, 0],\n",
       "       [2, 0.6499020000000001, 'tcp', ..., 1, 6, 0],\n",
       "       [3, 1.623129, 'tcp', ..., 2, 6, 0],\n",
       "       ...,\n",
       "       [175339, 9e-06, 'udp', ..., 3, 12, 0],\n",
       "       [175340, 9e-06, 'udp', ..., 30, 30, 0],\n",
       "       [175341, 9e-06, 'udp', ..., 30, 30, 0]], dtype=object)"
      ]
     },
     "execution_count": 44,
     "metadata": {},
     "output_type": "execute_result"
    }
   ],
   "source": [
    "training_features"
   ]
  },
  {
   "cell_type": "code",
   "execution_count": 48,
   "metadata": {},
   "outputs": [],
   "source": [
    "#Integer Encoding Labels\n",
    "for i in range(0,len(training_labels)):\n",
    "    if training_labels[i]=='Normal':\n",
    "        training_labels[i]=0\n",
    "    elif training_labels[i]=='Fuzzers':\n",
    "        training_labels[i]=1\n",
    "    elif training_labels[i]=='Analysis':\n",
    "        training_labels[i]=2\n",
    "    elif training_labels[i]=='Backdoor':\n",
    "        training_labels[i]=3\n",
    "    elif training_labels[i]=='DoS':\n",
    "        training_labels[i]=4\n",
    "    elif training_labels[i]=='Exploits':\n",
    "        training_labels[i]=5\n",
    "    elif training_labels[i]=='Generic':\n",
    "        training_labels[i]=6\n",
    "    elif training_labels[i]=='Reconaissance':\n",
    "        training_labels[i]=7\n",
    "    elif training_labels[i]=='Shellcode':\n",
    "        training_labels[i]=8\n",
    "    elif training_labels[i]=='Worms':\n",
    "        training_labels[i]=9"
   ]
  },
  {
   "cell_type": "code",
   "execution_count": 49,
   "metadata": {},
   "outputs": [
    {
     "data": {
      "text/plain": [
       "array([0, 0, 0, ..., 6, 6, 6], dtype=object)"
      ]
     },
     "execution_count": 49,
     "metadata": {},
     "output_type": "execute_result"
    }
   ],
   "source": [
    "training_labels"
   ]
  },
  {
   "cell_type": "code",
   "execution_count": 58,
   "metadata": {},
   "outputs": [],
   "source": [
    "proto=np.unique(training_features[:,2])"
   ]
  },
  {
   "cell_type": "code",
   "execution_count": 52,
   "metadata": {},
   "outputs": [],
   "source": [
    "l=training_features[:,3]\n",
    "for i in range(0,len(l)):\n",
    "    if l[i]=='-':\n",
    "        l[i]=0\n",
    "    elif l[i]=='dhcp':\n",
    "        l[i]=1\n",
    "    elif l[i]=='dns':\n",
    "        l[i]=2\n",
    "    elif l[i]=='ftp':\n",
    "        l[i]=3\n",
    "    elif l[i]=='ftp-data':\n",
    "        l[i]=4\n",
    "    elif l[i]=='http':\n",
    "        l[i]=5\n",
    "    elif l[i]=='irc':\n",
    "        l[i]=6\n",
    "    elif l[i]=='pop3':\n",
    "        l[i]=7\n",
    "    elif l[i]=='radius':\n",
    "        l[i]=8\n",
    "    elif l[i]=='smtp':\n",
    "        l[i]=9\n",
    "    elif l[i]=='snmp':\n",
    "        l[i]=10\n",
    "    elif l[i]=='ssh':\n",
    "        l[i]=11\n",
    "    elif l[i]=='ssl':\n",
    "        l[i]=12\n",
    "\n",
    "training_features[:,3]=l"
   ]
  },
  {
   "cell_type": "code",
   "execution_count": 53,
   "metadata": {},
   "outputs": [
    {
     "data": {
      "text/plain": [
       "array([0, 0, 0, ..., 2, 2, 2], dtype=object)"
      ]
     },
     "execution_count": 53,
     "metadata": {},
     "output_type": "execute_result"
    }
   ],
   "source": [
    "training_features[:,3]"
   ]
  },
  {
   "cell_type": "code",
   "execution_count": 54,
   "metadata": {},
   "outputs": [
    {
     "data": {
      "text/plain": [
       "array(['CON', 'ECO', 'FIN', 'INT', 'PAR', 'REQ', 'RST', 'URN', 'no'],\n",
       "      dtype=object)"
      ]
     },
     "execution_count": 54,
     "metadata": {},
     "output_type": "execute_result"
    }
   ],
   "source": [
    "np.unique(training_features[:,4])"
   ]
  },
  {
   "cell_type": "code",
   "execution_count": 55,
   "metadata": {},
   "outputs": [],
   "source": [
    "l=training_features[:,4]\n",
    "for i in range(0,len(l)):\n",
    "    if l[i]=='CON':\n",
    "        l[i]=0\n",
    "    elif l[i]=='ECO':\n",
    "        l[i]=1\n",
    "    elif l[i]=='FIN':\n",
    "        l[i]=2\n",
    "    elif l[i]=='INT':\n",
    "        l[i]=3\n",
    "    elif l[i]=='PAR':\n",
    "        l[i]=4\n",
    "    elif l[i]=='REQ':\n",
    "        l[i]=5\n",
    "    elif l[i]=='RST':\n",
    "        l[i]=6\n",
    "    elif l[i]=='URN':\n",
    "        l[i]=7\n",
    "    elif l[i]=='no':\n",
    "        l[i]=8\n",
    "\n",
    "training_features[:,4]=l"
   ]
  },
  {
   "cell_type": "code",
   "execution_count": 56,
   "metadata": {},
   "outputs": [
    {
     "data": {
      "text/plain": [
       "array([2, 2, 2, ..., 3, 3, 3], dtype=object)"
      ]
     },
     "execution_count": 56,
     "metadata": {},
     "output_type": "execute_result"
    }
   ],
   "source": [
    "training_features[:,4]"
   ]
  },
  {
   "cell_type": "code",
   "execution_count": 57,
   "metadata": {},
   "outputs": [
    {
     "data": {
      "text/plain": [
       "array([[1, 0.121478, 'tcp', ..., 1, 1, 0],\n",
       "       [2, 0.6499020000000001, 'tcp', ..., 1, 6, 0],\n",
       "       [3, 1.623129, 'tcp', ..., 2, 6, 0],\n",
       "       ...,\n",
       "       [175339, 9e-06, 'udp', ..., 3, 12, 0],\n",
       "       [175340, 9e-06, 'udp', ..., 30, 30, 0],\n",
       "       [175341, 9e-06, 'udp', ..., 30, 30, 0]], dtype=object)"
      ]
     },
     "execution_count": 57,
     "metadata": {},
     "output_type": "execute_result"
    }
   ],
   "source": [
    "training_features"
   ]
  },
  {
   "cell_type": "code",
   "execution_count": 59,
   "metadata": {},
   "outputs": [
    {
     "data": {
      "text/plain": [
       "array(['3pc', 'a/n', 'aes-sp3-d', 'any', 'argus', 'aris', 'arp', 'ax.25',\n",
       "       'bbn-rcc', 'bna', 'br-sat-mon', 'cbt', 'cftp', 'chaos',\n",
       "       'compaq-peer', 'cphb', 'cpnx', 'crtp', 'crudp', 'dcn', 'ddp',\n",
       "       'ddx', 'dgp', 'egp', 'eigrp', 'emcon', 'encap', 'etherip', 'fc',\n",
       "       'fire', 'ggp', 'gmtp', 'gre', 'hmp', 'i-nlsp', 'iatp', 'ib',\n",
       "       'icmp', 'idpr', 'idpr-cmtp', 'idrp', 'ifmp', 'igmp', 'igp', 'il',\n",
       "       'ip', 'ipcomp', 'ipcv', 'ipip', 'iplt', 'ipnip', 'ippc', 'ipv6',\n",
       "       'ipv6-frag', 'ipv6-no', 'ipv6-opts', 'ipv6-route', 'ipx-n-ip',\n",
       "       'irtp', 'isis', 'iso-ip', 'iso-tp4', 'kryptolan', 'l2tp', 'larp',\n",
       "       'leaf-1', 'leaf-2', 'merit-inp', 'mfe-nsp', 'mhrp', 'micp',\n",
       "       'mobile', 'mtp', 'mux', 'narp', 'netblt', 'nsfnet-igp', 'nvp',\n",
       "       'ospf', 'pgm', 'pim', 'pipe', 'pnni', 'pri-enc', 'prm', 'ptp',\n",
       "       'pup', 'pvp', 'qnx', 'rdp', 'rsvp', 'rtp', 'rvd', 'sat-expak',\n",
       "       'sat-mon', 'sccopmce', 'scps', 'sctp', 'sdrp', 'secure-vmtp',\n",
       "       'sep', 'skip', 'sm', 'smp', 'snp', 'sprite-rpc', 'sps', 'srp',\n",
       "       'st2', 'stp', 'sun-nd', 'swipe', 'tcf', 'tcp', 'tlsp', 'tp++',\n",
       "       'trunk-1', 'trunk-2', 'ttp', 'udp', 'unas', 'uti', 'vines', 'visa',\n",
       "       'vmtp', 'vrrp', 'wb-expak', 'wb-mon', 'wsn', 'xnet', 'xns-idp',\n",
       "       'xtp', 'zero'], dtype=object)"
      ]
     },
     "execution_count": 59,
     "metadata": {},
     "output_type": "execute_result"
    }
   ],
   "source": [
    "proto"
   ]
  },
  {
   "cell_type": "code",
   "execution_count": 60,
   "metadata": {},
   "outputs": [],
   "source": [
    "d=dict.fromkeys(proto)"
   ]
  },
  {
   "cell_type": "code",
   "execution_count": 64,
   "metadata": {},
   "outputs": [],
   "source": [
    "l=d.keys()"
   ]
  },
  {
   "cell_type": "code",
   "execution_count": 65,
   "metadata": {},
   "outputs": [],
   "source": [
    "v=0\n",
    "for x in l:\n",
    "    d[x]=v\n",
    "    v=v+1"
   ]
  },
  {
   "cell_type": "code",
   "execution_count": 66,
   "metadata": {},
   "outputs": [
    {
     "data": {
      "text/plain": [
       "{'3pc': 94,\n",
       " 'a/n': 77,\n",
       " 'aes-sp3-d': 86,\n",
       " 'any': 57,\n",
       " 'argus': 115,\n",
       " 'aris': 102,\n",
       " 'arp': 70,\n",
       " 'ax.25': 39,\n",
       " 'bbn-rcc': 62,\n",
       " 'bna': 87,\n",
       " 'br-sat-mon': 46,\n",
       " 'cbt': 54,\n",
       " 'cftp': 50,\n",
       " 'chaos': 72,\n",
       " 'compaq-peer': 10,\n",
       " 'cphb': 90,\n",
       " 'cpnx': 9,\n",
       " 'crtp': 43,\n",
       " 'crudp': 3,\n",
       " 'dcn': 109,\n",
       " 'ddp': 97,\n",
       " 'ddx': 4,\n",
       " 'dgp': 0,\n",
       " 'egp': 106,\n",
       " 'eigrp': 121,\n",
       " 'emcon': 95,\n",
       " 'encap': 25,\n",
       " 'etherip': 127,\n",
       " 'fc': 105,\n",
       " 'fire': 12,\n",
       " 'ggp': 88,\n",
       " 'gmtp': 82,\n",
       " 'gre': 38,\n",
       " 'hmp': 114,\n",
       " 'i-nlsp': 17,\n",
       " 'iatp': 14,\n",
       " 'ib': 44,\n",
       " 'icmp': 32,\n",
       " 'idpr': 80,\n",
       " 'idpr-cmtp': 128,\n",
       " 'idrp': 15,\n",
       " 'ifmp': 8,\n",
       " 'igmp': 36,\n",
       " 'igp': 120,\n",
       " 'il': 112,\n",
       " 'ip': 52,\n",
       " 'ipcomp': 76,\n",
       " 'ipcv': 19,\n",
       " 'ipip': 68,\n",
       " 'iplt': 42,\n",
       " 'ipnip': 27,\n",
       " 'ippc': 5,\n",
       " 'ipv6': 129,\n",
       " 'ipv6-frag': 53,\n",
       " 'ipv6-no': 40,\n",
       " 'ipv6-opts': 131,\n",
       " 'ipv6-route': 58,\n",
       " 'ipx-n-ip': 100,\n",
       " 'irtp': 132,\n",
       " 'isis': 110,\n",
       " 'iso-ip': 28,\n",
       " 'iso-tp4': 122,\n",
       " 'kryptolan': 85,\n",
       " 'l2tp': 30,\n",
       " 'larp': 107,\n",
       " 'leaf-1': 7,\n",
       " 'leaf-2': 60,\n",
       " 'merit-inp': 2,\n",
       " 'mfe-nsp': 65,\n",
       " 'mhrp': 123,\n",
       " 'micp': 69,\n",
       " 'mobile': 16,\n",
       " 'mtp': 101,\n",
       " 'mux': 67,\n",
       " 'narp': 116,\n",
       " 'netblt': 26,\n",
       " 'nsfnet-igp': 93,\n",
       " 'nvp': 33,\n",
       " 'ospf': 31,\n",
       " 'pgm': 83,\n",
       " 'pim': 49,\n",
       " 'pipe': 18,\n",
       " 'pnni': 75,\n",
       " 'pri-enc': 47,\n",
       " 'prm': 89,\n",
       " 'ptp': 124,\n",
       " 'pup': 22,\n",
       " 'pvp': 74,\n",
       " 'qnx': 61,\n",
       " 'rdp': 113,\n",
       " 'rsvp': 29,\n",
       " 'rtp': 96,\n",
       " 'rvd': 20,\n",
       " 'sat-expak': 117,\n",
       " 'sat-mon': 79,\n",
       " 'sccopmce': 1,\n",
       " 'scps': 119,\n",
       " 'sctp': 66,\n",
       " 'sdrp': 118,\n",
       " 'secure-vmtp': 111,\n",
       " 'sep': 63,\n",
       " 'skip': 13,\n",
       " 'sm': 6,\n",
       " 'smp': 21,\n",
       " 'snp': 51,\n",
       " 'sprite-rpc': 56,\n",
       " 'sps': 41,\n",
       " 'srp': 99,\n",
       " 'st2': 84,\n",
       " 'stp': 103,\n",
       " 'sun-nd': 92,\n",
       " 'swipe': 24,\n",
       " 'tcf': 130,\n",
       " 'tcp': 48,\n",
       " 'tlsp': 71,\n",
       " 'tp++': 55,\n",
       " 'trunk-1': 35,\n",
       " 'trunk-2': 104,\n",
       " 'ttp': 64,\n",
       " 'udp': 78,\n",
       " 'unas': 81,\n",
       " 'uti': 59,\n",
       " 'vines': 37,\n",
       " 'visa': 73,\n",
       " 'vmtp': 45,\n",
       " 'vrrp': 34,\n",
       " 'wb-expak': 23,\n",
       " 'wb-mon': 11,\n",
       " 'wsn': 98,\n",
       " 'xnet': 126,\n",
       " 'xns-idp': 91,\n",
       " 'xtp': 108,\n",
       " 'zero': 125}"
      ]
     },
     "execution_count": 66,
     "metadata": {},
     "output_type": "execute_result"
    }
   ],
   "source": []
  },
  {
   "cell_type": "code",
   "execution_count": 67,
   "metadata": {},
   "outputs": [],
   "source": [
    "proto_list=training_features[:,2]\n",
    "for i in range(0,len(proto_list)):\n",
    "    for j in l:\n",
    "        if proto_list[i]==j:\n",
    "            proto_list[i]=d[j]\n",
    "\n",
    "training_features[:,2]=proto_list"
   ]
  },
  {
   "cell_type": "code",
   "execution_count": 68,
   "metadata": {},
   "outputs": [
    {
     "data": {
      "text/plain": [
       "array([[1, 0.121478, 48, ..., 1, 1, 0],\n",
       "       [2, 0.6499020000000001, 48, ..., 1, 6, 0],\n",
       "       [3, 1.623129, 48, ..., 2, 6, 0],\n",
       "       ...,\n",
       "       [175339, 9e-06, 78, ..., 3, 12, 0],\n",
       "       [175340, 9e-06, 78, ..., 30, 30, 0],\n",
       "       [175341, 9e-06, 78, ..., 30, 30, 0]], dtype=object)"
      ]
     },
     "execution_count": 68,
     "metadata": {},
     "output_type": "execute_result"
    }
   ],
   "source": [
    "training_features"
   ]
  },
  {
   "cell_type": "code",
   "execution_count": 69,
   "metadata": {},
   "outputs": [
    {
     "data": {
      "text/plain": [
       "array([48, 48, 48, ..., 78, 78, 78], dtype=object)"
      ]
     },
     "execution_count": 69,
     "metadata": {},
     "output_type": "execute_result"
    }
   ],
   "source": [
    "training_features[:,2]"
   ]
  },
  {
   "cell_type": "code",
   "execution_count": null,
   "metadata": {},
   "outputs": [],
   "source": []
  }
 ],
 "metadata": {
  "kernelspec": {
   "display_name": "Python 3",
   "language": "python",
   "name": "python3"
  },
  "language_info": {
   "codemirror_mode": {
    "name": "ipython",
    "version": 3
   },
   "file_extension": ".py",
   "mimetype": "text/x-python",
   "name": "python",
   "nbconvert_exporter": "python",
   "pygments_lexer": "ipython3",
   "version": "3.5.2"
  }
 },
 "nbformat": 4,
 "nbformat_minor": 2
}
