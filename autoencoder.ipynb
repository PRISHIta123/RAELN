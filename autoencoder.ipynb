{
 "cells": [
  {
   "cell_type": "code",
   "execution_count": 1,
   "metadata": {},
   "outputs": [
    {
     "name": "stderr",
     "output_type": "stream",
     "text": [
      "c:\\users\\prishitaray\\appdata\\local\\programs\\python\\python35\\lib\\site-packages\\h5py\\__init__.py:36: FutureWarning: Conversion of the second argument of issubdtype from `float` to `np.floating` is deprecated. In future, it will be treated as `np.float64 == np.dtype(float).type`.\n",
      "  from ._conv import register_converters as _register_converters\n"
     ]
    }
   ],
   "source": [
    "import numpy as np\n",
    "import pandas as pd\n",
    "import tensorflow as tf\n",
    "import matplotlib.pyplot as plt"
   ]
  },
  {
   "cell_type": "code",
   "execution_count": 2,
   "metadata": {},
   "outputs": [],
   "source": [
    "from tensorflow.contrib.layers import fully_connected"
   ]
  },
  {
   "cell_type": "code",
   "execution_count": 3,
   "metadata": {},
   "outputs": [],
   "source": [
    "training_df=pd.read_csv(\"F://ML Paper Project//UNSW_NB15_training-set.csv\")\n",
    "testing_df=pd.read_csv(\"F://ML Paper Project//UNSW_NB15_testing-set.csv\")"
   ]
  },
  {
   "cell_type": "code",
   "execution_count": 4,
   "metadata": {},
   "outputs": [],
   "source": [
    "training_data=np.array(training_df)\n",
    "testing_data=np.array(testing_df)"
   ]
  },
  {
   "cell_type": "code",
   "execution_count": 5,
   "metadata": {},
   "outputs": [
    {
     "data": {
      "text/plain": [
       "(175341, 45)"
      ]
     },
     "execution_count": 5,
     "metadata": {},
     "output_type": "execute_result"
    }
   ],
   "source": [
    "training_data.shape"
   ]
  },
  {
   "cell_type": "code",
   "execution_count": 6,
   "metadata": {},
   "outputs": [],
   "source": [
    "training_labels=training_data[:,43]"
   ]
  },
  {
   "cell_type": "code",
   "execution_count": 7,
   "metadata": {},
   "outputs": [],
   "source": [
    "training_features=training_data[:,0:43]"
   ]
  },
  {
   "cell_type": "code",
   "execution_count": 8,
   "metadata": {},
   "outputs": [
    {
     "data": {
      "text/plain": [
       "array(['Normal', 'Normal', 'Normal', ..., 'Generic', 'Generic', 'Generic'],\n",
       "      dtype=object)"
      ]
     },
     "execution_count": 8,
     "metadata": {},
     "output_type": "execute_result"
    }
   ],
   "source": [
    "training_labels"
   ]
  },
  {
   "cell_type": "code",
   "execution_count": 9,
   "metadata": {},
   "outputs": [
    {
     "data": {
      "text/plain": [
       "array([[1, 0.121478, 'tcp', ..., 1, 1, 0],\n",
       "       [2, 0.6499020000000001, 'tcp', ..., 1, 6, 0],\n",
       "       [3, 1.623129, 'tcp', ..., 2, 6, 0],\n",
       "       ...,\n",
       "       [175339, 9e-06, 'udp', ..., 3, 12, 0],\n",
       "       [175340, 9e-06, 'udp', ..., 30, 30, 0],\n",
       "       [175341, 9e-06, 'udp', ..., 30, 30, 0]], dtype=object)"
      ]
     },
     "execution_count": 9,
     "metadata": {},
     "output_type": "execute_result"
    }
   ],
   "source": [
    "training_features"
   ]
  },
  {
   "cell_type": "code",
   "execution_count": 10,
   "metadata": {},
   "outputs": [],
   "source": [
    "#Integer Encoding Labels\n",
    "for i in range(0,len(training_labels)):\n",
    "    if training_labels[i]=='Normal':\n",
    "        training_labels[i]=0\n",
    "    elif training_labels[i]=='Fuzzers':\n",
    "        training_labels[i]=1\n",
    "    elif training_labels[i]=='Analysis':\n",
    "        training_labels[i]=2\n",
    "    elif training_labels[i]=='Backdoor':\n",
    "        training_labels[i]=3\n",
    "    elif training_labels[i]=='DoS':\n",
    "        training_labels[i]=4\n",
    "    elif training_labels[i]=='Exploits':\n",
    "        training_labels[i]=5\n",
    "    elif training_labels[i]=='Generic':\n",
    "        training_labels[i]=6\n",
    "    elif training_labels[i]=='Reconaissance':\n",
    "        training_labels[i]=7\n",
    "    elif training_labels[i]=='Shellcode':\n",
    "        training_labels[i]=8\n",
    "    elif training_labels[i]=='Worms':\n",
    "        training_labels[i]=9"
   ]
  },
  {
   "cell_type": "code",
   "execution_count": 11,
   "metadata": {},
   "outputs": [
    {
     "data": {
      "text/plain": [
       "array([0, 0, 0, ..., 6, 6, 6], dtype=object)"
      ]
     },
     "execution_count": 11,
     "metadata": {},
     "output_type": "execute_result"
    }
   ],
   "source": [
    "training_labels"
   ]
  },
  {
   "cell_type": "code",
   "execution_count": null,
   "metadata": {},
   "outputs": [],
   "source": []
  },
  {
   "cell_type": "code",
   "execution_count": null,
   "metadata": {},
   "outputs": [],
   "source": []
  },
  {
   "cell_type": "code",
   "execution_count": 12,
   "metadata": {},
   "outputs": [],
   "source": [
    "proto=np.unique(training_features[:,2])"
   ]
  },
  {
   "cell_type": "code",
   "execution_count": 13,
   "metadata": {},
   "outputs": [],
   "source": [
    "l=training_features[:,3]\n",
    "for i in range(0,len(l)):\n",
    "    if l[i]=='-':\n",
    "        l[i]=0\n",
    "    elif l[i]=='dhcp':\n",
    "        l[i]=1\n",
    "    elif l[i]=='dns':\n",
    "        l[i]=2\n",
    "    elif l[i]=='ftp':\n",
    "        l[i]=3\n",
    "    elif l[i]=='ftp-data':\n",
    "        l[i]=4\n",
    "    elif l[i]=='http':\n",
    "        l[i]=5\n",
    "    elif l[i]=='irc':\n",
    "        l[i]=6\n",
    "    elif l[i]=='pop3':\n",
    "        l[i]=7\n",
    "    elif l[i]=='radius':\n",
    "        l[i]=8\n",
    "    elif l[i]=='smtp':\n",
    "        l[i]=9\n",
    "    elif l[i]=='snmp':\n",
    "        l[i]=10\n",
    "    elif l[i]=='ssh':\n",
    "        l[i]=11\n",
    "    elif l[i]=='ssl':\n",
    "        l[i]=12\n",
    "\n",
    "training_features[:,3]=l"
   ]
  },
  {
   "cell_type": "code",
   "execution_count": 14,
   "metadata": {
    "scrolled": true
   },
   "outputs": [
    {
     "data": {
      "text/plain": [
       "array([0, 0, 0, ..., 2, 2, 2], dtype=object)"
      ]
     },
     "execution_count": 14,
     "metadata": {},
     "output_type": "execute_result"
    }
   ],
   "source": [
    "training_features[:,3]"
   ]
  },
  {
   "cell_type": "code",
   "execution_count": 15,
   "metadata": {},
   "outputs": [
    {
     "data": {
      "text/plain": [
       "array(['CON', 'ECO', 'FIN', 'INT', 'PAR', 'REQ', 'RST', 'URN', 'no'],\n",
       "      dtype=object)"
      ]
     },
     "execution_count": 15,
     "metadata": {},
     "output_type": "execute_result"
    }
   ],
   "source": [
    "np.unique(training_features[:,4])"
   ]
  },
  {
   "cell_type": "code",
   "execution_count": 16,
   "metadata": {},
   "outputs": [],
   "source": [
    "l=training_features[:,4]\n",
    "for i in range(0,len(l)):\n",
    "    if l[i]=='CON':\n",
    "        l[i]=0\n",
    "    elif l[i]=='ECO':\n",
    "        l[i]=1\n",
    "    elif l[i]=='FIN':\n",
    "        l[i]=2\n",
    "    elif l[i]=='INT':\n",
    "        l[i]=3\n",
    "    elif l[i]=='PAR':\n",
    "        l[i]=4\n",
    "    elif l[i]=='REQ':\n",
    "        l[i]=5\n",
    "    elif l[i]=='RST':\n",
    "        l[i]=6\n",
    "    elif l[i]=='URN':\n",
    "        l[i]=7\n",
    "    elif l[i]=='no':\n",
    "        l[i]=8\n",
    "\n",
    "training_features[:,4]=l"
   ]
  },
  {
   "cell_type": "code",
   "execution_count": 17,
   "metadata": {},
   "outputs": [
    {
     "data": {
      "text/plain": [
       "array([2, 2, 2, ..., 3, 3, 3], dtype=object)"
      ]
     },
     "execution_count": 17,
     "metadata": {},
     "output_type": "execute_result"
    }
   ],
   "source": [
    "training_features[:,4]"
   ]
  },
  {
   "cell_type": "code",
   "execution_count": 18,
   "metadata": {
    "scrolled": true
   },
   "outputs": [
    {
     "data": {
      "text/plain": [
       "array([[1, 0.121478, 'tcp', ..., 1, 1, 0],\n",
       "       [2, 0.6499020000000001, 'tcp', ..., 1, 6, 0],\n",
       "       [3, 1.623129, 'tcp', ..., 2, 6, 0],\n",
       "       ...,\n",
       "       [175339, 9e-06, 'udp', ..., 3, 12, 0],\n",
       "       [175340, 9e-06, 'udp', ..., 30, 30, 0],\n",
       "       [175341, 9e-06, 'udp', ..., 30, 30, 0]], dtype=object)"
      ]
     },
     "execution_count": 18,
     "metadata": {},
     "output_type": "execute_result"
    }
   ],
   "source": [
    "training_features"
   ]
  },
  {
   "cell_type": "code",
   "execution_count": 19,
   "metadata": {},
   "outputs": [
    {
     "data": {
      "text/plain": [
       "array(['3pc', 'a/n', 'aes-sp3-d', 'any', 'argus', 'aris', 'arp', 'ax.25',\n",
       "       'bbn-rcc', 'bna', 'br-sat-mon', 'cbt', 'cftp', 'chaos',\n",
       "       'compaq-peer', 'cphb', 'cpnx', 'crtp', 'crudp', 'dcn', 'ddp',\n",
       "       'ddx', 'dgp', 'egp', 'eigrp', 'emcon', 'encap', 'etherip', 'fc',\n",
       "       'fire', 'ggp', 'gmtp', 'gre', 'hmp', 'i-nlsp', 'iatp', 'ib',\n",
       "       'icmp', 'idpr', 'idpr-cmtp', 'idrp', 'ifmp', 'igmp', 'igp', 'il',\n",
       "       'ip', 'ipcomp', 'ipcv', 'ipip', 'iplt', 'ipnip', 'ippc', 'ipv6',\n",
       "       'ipv6-frag', 'ipv6-no', 'ipv6-opts', 'ipv6-route', 'ipx-n-ip',\n",
       "       'irtp', 'isis', 'iso-ip', 'iso-tp4', 'kryptolan', 'l2tp', 'larp',\n",
       "       'leaf-1', 'leaf-2', 'merit-inp', 'mfe-nsp', 'mhrp', 'micp',\n",
       "       'mobile', 'mtp', 'mux', 'narp', 'netblt', 'nsfnet-igp', 'nvp',\n",
       "       'ospf', 'pgm', 'pim', 'pipe', 'pnni', 'pri-enc', 'prm', 'ptp',\n",
       "       'pup', 'pvp', 'qnx', 'rdp', 'rsvp', 'rtp', 'rvd', 'sat-expak',\n",
       "       'sat-mon', 'sccopmce', 'scps', 'sctp', 'sdrp', 'secure-vmtp',\n",
       "       'sep', 'skip', 'sm', 'smp', 'snp', 'sprite-rpc', 'sps', 'srp',\n",
       "       'st2', 'stp', 'sun-nd', 'swipe', 'tcf', 'tcp', 'tlsp', 'tp++',\n",
       "       'trunk-1', 'trunk-2', 'ttp', 'udp', 'unas', 'uti', 'vines', 'visa',\n",
       "       'vmtp', 'vrrp', 'wb-expak', 'wb-mon', 'wsn', 'xnet', 'xns-idp',\n",
       "       'xtp', 'zero'], dtype=object)"
      ]
     },
     "execution_count": 19,
     "metadata": {},
     "output_type": "execute_result"
    }
   ],
   "source": [
    "proto"
   ]
  },
  {
   "cell_type": "code",
   "execution_count": 20,
   "metadata": {},
   "outputs": [],
   "source": [
    "d=dict.fromkeys(proto)"
   ]
  },
  {
   "cell_type": "code",
   "execution_count": 21,
   "metadata": {},
   "outputs": [],
   "source": [
    "l=d.keys()"
   ]
  },
  {
   "cell_type": "code",
   "execution_count": 22,
   "metadata": {},
   "outputs": [],
   "source": [
    "v=0\n",
    "for x in l:\n",
    "    d[x]=v\n",
    "    v=v+1"
   ]
  },
  {
   "cell_type": "code",
   "execution_count": null,
   "metadata": {},
   "outputs": [],
   "source": []
  },
  {
   "cell_type": "code",
   "execution_count": 23,
   "metadata": {},
   "outputs": [],
   "source": [
    "proto_list=training_features[:,2]\n",
    "for i in range(0,len(proto_list)):\n",
    "    for j in l:\n",
    "        if proto_list[i]==j:\n",
    "            proto_list[i]=d[j]\n",
    "\n",
    "training_features[:,2]=proto_list"
   ]
  },
  {
   "cell_type": "code",
   "execution_count": 24,
   "metadata": {},
   "outputs": [
    {
     "data": {
      "text/plain": [
       "array([[1, 0.121478, 29, ..., 1, 1, 0],\n",
       "       [2, 0.6499020000000001, 29, ..., 1, 6, 0],\n",
       "       [3, 1.623129, 29, ..., 2, 6, 0],\n",
       "       ...,\n",
       "       [175339, 9e-06, 115, ..., 3, 12, 0],\n",
       "       [175340, 9e-06, 115, ..., 30, 30, 0],\n",
       "       [175341, 9e-06, 115, ..., 30, 30, 0]], dtype=object)"
      ]
     },
     "execution_count": 24,
     "metadata": {},
     "output_type": "execute_result"
    }
   ],
   "source": [
    "training_features"
   ]
  },
  {
   "cell_type": "code",
   "execution_count": 25,
   "metadata": {},
   "outputs": [
    {
     "data": {
      "text/plain": [
       "array([29, 29, 29, ..., 115, 115, 115], dtype=object)"
      ]
     },
     "execution_count": 25,
     "metadata": {},
     "output_type": "execute_result"
    }
   ],
   "source": [
    "training_features[:,2]"
   ]
  },
  {
   "cell_type": "code",
   "execution_count": 26,
   "metadata": {},
   "outputs": [
    {
     "data": {
      "text/plain": [
       "(175341, 43)"
      ]
     },
     "execution_count": 26,
     "metadata": {},
     "output_type": "execute_result"
    }
   ],
   "source": [
    "training_features.shape"
   ]
  },
  {
   "cell_type": "code",
   "execution_count": 27,
   "metadata": {},
   "outputs": [],
   "source": [
    "std_list=[]"
   ]
  },
  {
   "cell_type": "code",
   "execution_count": 28,
   "metadata": {},
   "outputs": [],
   "source": [
    "#Perform normalization on dataset\n",
    "for i in range(0,43):\n",
    "    mean=np.mean(training_features[:,i])\n",
    "    std=np.std(training_features[:,i])\n",
    "    std_list.append(std)\n",
    "    for j in range(0,175341):\n",
    "        training_features[j][i]=(training_features[j][i]-mean)/std\n",
    "        "
   ]
  },
  {
   "cell_type": "code",
   "execution_count": 29,
   "metadata": {},
   "outputs": [
    {
     "data": {
      "text/plain": [
       "array([[-1.7320409294122083, -0.1910288091606379, -0.9907313167166802,\n",
       "        ..., -0.715713656611942, -0.7530740174877311,\n",
       "        -0.12650796304403503],\n",
       "       [-1.7320211730425332, -0.10948479464168344, -0.9907313167166802,\n",
       "        ..., -0.715713656611942, -0.28825700778157093,\n",
       "        -0.12650796304403503],\n",
       "       [-1.7320014166728581, 0.04069921785252289, -0.9907313167166802,\n",
       "        ..., -0.5955425666085573, -0.28825700778157093,\n",
       "        -0.12650796304403503],\n",
       "       ...,\n",
       "       [1.7320014166728581, -0.2097733588018406, 1.0350256394248076, ...,\n",
       "        -0.4753714766051727, 0.26952340386582113, -0.12650796304403503],\n",
       "       [1.7320211730425332, -0.2097733588018406, 1.0350256394248076, ...,\n",
       "        2.7692479534862113, 1.9428646388079973, -0.12650796304403503],\n",
       "       [1.7320409294122083, -0.2097733588018406, 1.0350256394248076, ...,\n",
       "        2.7692479534862113, 1.9428646388079973, -0.12650796304403503]],\n",
       "      dtype=object)"
      ]
     },
     "execution_count": 29,
     "metadata": {},
     "output_type": "execute_result"
    }
   ],
   "source": [
    "training_features"
   ]
  },
  {
   "cell_type": "code",
   "execution_count": 30,
   "metadata": {},
   "outputs": [
    {
     "data": {
      "text/plain": [
       "[50616.5867741659,\n",
       " 6.480230377634532,\n",
       " 42.45326653786071,\n",
       " 2.305144095553943,\n",
       " 0.8679394065384229,\n",
       " 136.88720656043952,\n",
       " 110.25795617029418,\n",
       " 174765.14594941295,\n",
       " 143653.8080748578,\n",
       " 165400.5068013864,\n",
       " 102.93971751397288,\n",
       " 110.5065480561588,\n",
       " 188356909.88190487,\n",
       " 2421305.4841721063,\n",
       " 66.00487031558049,\n",
       " 52.73284891995271,\n",
       " 7242.225189039217,\n",
       " 987.0903799600004,\n",
       " 44965.718295016995,\n",
       " 4061.0317006883483,\n",
       " 127.00066200116235,\n",
       " 1355260384.6054034,\n",
       " 1353995685.173201,\n",
       " 126.88616771391364,\n",
       " 0.07935374554184842,\n",
       " 0.043399659749737765,\n",
       " 0.040506240405952354,\n",
       " 204.67677593269065,\n",
       " 258.3163193739851,\n",
       " 0.7769085707482282,\n",
       " 54207.81271516606,\n",
       " 10.704300696224685,\n",
       " 0.9544033774218443,\n",
       " 8.052453421725263,\n",
       " 8.047081250439838,\n",
       " 5.783568568849495,\n",
       " 10.956154333405415,\n",
       " 0.12604768794778642,\n",
       " 0.12604768794778642,\n",
       " 0.7012056071913747,\n",
       " 8.321468998673767,\n",
       " 10.75692131654307,\n",
       " 0.12451518899845022]"
      ]
     },
     "execution_count": 30,
     "metadata": {},
     "output_type": "execute_result"
    }
   ],
   "source": [
    "std_list"
   ]
  },
  {
   "cell_type": "code",
   "execution_count": 31,
   "metadata": {},
   "outputs": [],
   "source": [
    "num_inputs=43\n",
    "num_hid1=22\n",
    "num_hid2=10\n",
    "num_hid3=22\n",
    "num_output=43"
   ]
  },
  {
   "cell_type": "code",
   "execution_count": null,
   "metadata": {},
   "outputs": [],
   "source": []
  },
  {
   "cell_type": "code",
   "execution_count": 289,
   "metadata": {},
   "outputs": [],
   "source": [
    "lr=0.01\n",
    "actf=tf.nn.elu"
   ]
  },
  {
   "cell_type": "code",
   "execution_count": 290,
   "metadata": {},
   "outputs": [],
   "source": [
    "X=tf.placeholder(tf.float32,shape=[None,num_inputs])"
   ]
  },
  {
   "cell_type": "code",
   "execution_count": 291,
   "metadata": {},
   "outputs": [],
   "source": [
    "initializer=tf.variance_scaling_initializer()"
   ]
  },
  {
   "cell_type": "code",
   "execution_count": 292,
   "metadata": {},
   "outputs": [],
   "source": [
    "w1=tf.Variable(initializer([num_inputs,num_hid1]),dtype=tf.float32)\n",
    "w2=tf.Variable(initializer([num_hid1,num_hid2]),dtype=tf.float32)\n",
    "w3=tf.Variable(initializer([num_hid2,num_hid3]),dtype=tf.float32)\n",
    "w4=tf.Variable(initializer([num_hid3,num_output]),dtype=tf.float32)"
   ]
  },
  {
   "cell_type": "code",
   "execution_count": 293,
   "metadata": {},
   "outputs": [],
   "source": [
    "b1=tf.Variable(tf.zeros(num_hid1))\n",
    "b2=tf.Variable(tf.zeros(num_hid2))\n",
    "b3=tf.Variable(tf.zeros(num_hid3))\n",
    "b4=tf.Variable(tf.zeros(num_output))"
   ]
  },
  {
   "cell_type": "code",
   "execution_count": 294,
   "metadata": {},
   "outputs": [],
   "source": [
    "hid_layer1=actf(tf.matmul(X,w1)+b1)\n",
    "hid_layer2=actf(tf.matmul(hid_layer1,w2)+b2)\n",
    "hid_layer3=actf(tf.matmul(hid_layer2,w3)+b3)\n",
    "output_layer=actf(tf.matmul(hid_layer3,w4)+b4)"
   ]
  },
  {
   "cell_type": "code",
   "execution_count": 295,
   "metadata": {},
   "outputs": [],
   "source": [
    "def show_hist_of_weight(all_weight_list,status='before'):\n",
    "    fig = plt.figure()\n",
    "    weight_index = 0\n",
    "\n",
    "    for i in range(1,1+int(len(all_weight_list)//3)):\n",
    "        ax = fig.add_subplot(1,4,i)\n",
    "        ax.grid(False)\n",
    "        temp_weight_list = all_weight_list[weight_index:weight_index+3]\n",
    "        for temp_index in range(len(temp_weight_list)):\n",
    "            current_flat = temp_weight_list[temp_index].flatten()\n",
    "            ax.hist(current_flat,histtype='step',bins='auto',label=str(temp_index+weight_index))\n",
    "            ax.legend()\n",
    "        ax.set_title('From Layer : '+str(weight_index+1)+' to '+str(weight_index+3))\n",
    "        weight_index = weight_index + 3\n",
    "    plt.savefig('viz/weights_'+str(status)+\"_training.png\")\n",
    "    plt.close('all')"
   ]
  },
  {
   "cell_type": "code",
   "execution_count": null,
   "metadata": {},
   "outputs": [],
   "source": []
  },
  {
   "cell_type": "code",
   "execution_count": 296,
   "metadata": {},
   "outputs": [],
   "source": [
    "loss=tf.reduce_mean(tf.square(output_layer-X))"
   ]
  },
  {
   "cell_type": "code",
   "execution_count": 297,
   "metadata": {},
   "outputs": [],
   "source": [
    "optimizer=tf.train.AdamOptimizer(lr)\n",
    "train=optimizer.minimize(loss)"
   ]
  },
  {
   "cell_type": "code",
   "execution_count": 298,
   "metadata": {},
   "outputs": [],
   "source": [
    "init=tf.global_variables_initializer()"
   ]
  },
  {
   "cell_type": "code",
   "execution_count": null,
   "metadata": {},
   "outputs": [],
   "source": []
  },
  {
   "cell_type": "code",
   "execution_count": 299,
   "metadata": {},
   "outputs": [],
   "source": [
    "num_epoch=500\n",
    "batch_size=10000"
   ]
  },
  {
   "cell_type": "code",
   "execution_count": 300,
   "metadata": {},
   "outputs": [],
   "source": [
    "def next_batch(num, data):\n",
    "    '''\n",
    "    Return a total of `num` random samples \n",
    "    '''\n",
    "    idx = np.arange(0 , len(data))\n",
    "    np.random.shuffle(idx)\n",
    "    idx = idx[:num]\n",
    "    data_shuffle = [data[i] for i in idx]\n",
    "\n",
    "    return np.asarray(data_shuffle)"
   ]
  },
  {
   "cell_type": "code",
   "execution_count": 301,
   "metadata": {},
   "outputs": [],
   "source": [
    "x=[]\n",
    "y=[]\n",
    "l=[]"
   ]
  },
  {
   "cell_type": "code",
   "execution_count": 302,
   "metadata": {
    "scrolled": false
   },
   "outputs": [
    {
     "name": "stdout",
     "output_type": "stream",
     "text": [
      "epoch 0 loss 0.4531344175338745\n",
      "epoch 1 loss 0.27321356534957886\n",
      "epoch 2 loss 0.16712543368339539\n",
      "epoch 3 loss 0.24240832030773163\n",
      "epoch 4 loss 0.12408886849880219\n",
      "epoch 5 loss 0.16607074439525604\n",
      "epoch 6 loss 0.10344378650188446\n",
      "epoch 7 loss 0.09700212627649307\n",
      "epoch 8 loss 0.08782805502414703\n",
      "epoch 9 loss 0.08170878142118454\n",
      "epoch 10 loss 0.08481907099485397\n",
      "epoch 11 loss 0.07134884595870972\n",
      "epoch 12 loss 0.07090931385755539\n",
      "epoch 13 loss 0.06732207536697388\n",
      "epoch 14 loss 0.06531544774770737\n",
      "epoch 15 loss 0.06707456707954407\n",
      "epoch 16 loss 0.06417620182037354\n",
      "epoch 17 loss 0.06326940655708313\n",
      "epoch 18 loss 0.05813988298177719\n",
      "epoch 19 loss 0.05972357466816902\n",
      "epoch 20 loss 0.05731982737779617\n",
      "epoch 21 loss 0.05835375189781189\n",
      "epoch 22 loss 0.05738290399312973\n",
      "epoch 23 loss 0.05606752634048462\n",
      "epoch 24 loss 0.054072942584753036\n",
      "epoch 25 loss 0.05162519961595535\n",
      "epoch 26 loss 0.05101408809423447\n",
      "epoch 27 loss 0.05398961156606674\n",
      "epoch 28 loss 0.054185912013053894\n",
      "epoch 29 loss 0.05168578401207924\n",
      "epoch 30 loss 0.05415487661957741\n",
      "epoch 31 loss 0.0491691492497921\n",
      "epoch 32 loss 0.04912634938955307\n",
      "epoch 33 loss 0.05000031739473343\n",
      "epoch 34 loss 0.04978884384036064\n",
      "epoch 35 loss 0.04914068430662155\n",
      "epoch 36 loss 0.05046607926487923\n",
      "epoch 37 loss 0.046743813902139664\n",
      "epoch 38 loss 0.04629755765199661\n",
      "epoch 39 loss 0.04741169884800911\n",
      "epoch 40 loss 0.04625730216503143\n",
      "epoch 41 loss 0.04771839454770088\n",
      "epoch 42 loss 0.04737061262130737\n",
      "epoch 43 loss 0.044764645397663116\n",
      "epoch 44 loss 0.04727204889059067\n",
      "epoch 45 loss 0.046016402542591095\n",
      "epoch 46 loss 0.045452989637851715\n",
      "epoch 47 loss 0.04646006226539612\n",
      "epoch 48 loss 0.04764234274625778\n",
      "epoch 49 loss 0.04436821490526199\n",
      "epoch 50 loss 0.04438946396112442\n",
      "epoch 51 loss 0.04466220363974571\n",
      "epoch 52 loss 0.044423092156648636\n",
      "epoch 53 loss 0.043672628700733185\n",
      "epoch 54 loss 0.041969604790210724\n",
      "epoch 55 loss 0.042748115956783295\n",
      "epoch 56 loss 0.04219349846243858\n",
      "epoch 57 loss 0.044974733144044876\n",
      "epoch 58 loss 0.04267521947622299\n",
      "epoch 59 loss 0.042625509202480316\n",
      "epoch 60 loss 0.042453132569789886\n",
      "epoch 61 loss 0.0426345020532608\n",
      "epoch 62 loss 0.04226730018854141\n",
      "epoch 63 loss 0.041196756064891815\n",
      "epoch 64 loss 0.04201387241482735\n",
      "epoch 65 loss 0.04143226146697998\n",
      "epoch 66 loss 0.04134714603424072\n",
      "epoch 67 loss 0.04143051430583\n",
      "epoch 68 loss 0.041488807648420334\n",
      "epoch 69 loss 0.04003432020545006\n",
      "epoch 70 loss 0.04043840989470482\n",
      "epoch 71 loss 0.04041321948170662\n",
      "epoch 72 loss 0.03994102403521538\n",
      "epoch 73 loss 0.04098130017518997\n",
      "epoch 74 loss 0.040959738194942474\n",
      "epoch 75 loss 0.03895416110754013\n",
      "epoch 76 loss 0.04054563492536545\n",
      "epoch 77 loss 0.03909990191459656\n",
      "epoch 78 loss 0.039333686232566833\n",
      "epoch 79 loss 0.03939759358763695\n",
      "epoch 80 loss 0.03978079557418823\n",
      "epoch 81 loss 0.04039596766233444\n",
      "epoch 82 loss 0.03969968482851982\n",
      "epoch 83 loss 0.038301218301057816\n",
      "epoch 84 loss 0.03848062828183174\n",
      "epoch 85 loss 0.038388438522815704\n",
      "epoch 86 loss 0.03999823331832886\n",
      "epoch 87 loss 0.03842873498797417\n",
      "epoch 88 loss 0.03789621219038963\n",
      "epoch 89 loss 0.03873061016201973\n",
      "epoch 90 loss 0.039409004151821136\n",
      "epoch 91 loss 0.03688964992761612\n",
      "epoch 92 loss 0.03844883665442467\n",
      "epoch 93 loss 0.037607934325933456\n",
      "epoch 94 loss 0.03914932161569595\n",
      "epoch 95 loss 0.03900374099612236\n",
      "epoch 96 loss 0.037821296602487564\n",
      "epoch 97 loss 0.03778187185525894\n",
      "epoch 98 loss 0.0385570228099823\n",
      "epoch 99 loss 0.037141092121601105\n",
      "epoch 100 loss 0.03871848061680794\n",
      "epoch 101 loss 0.03805387765169144\n",
      "epoch 102 loss 0.037391968071460724\n",
      "epoch 103 loss 0.0380747951567173\n",
      "epoch 104 loss 0.038828883320093155\n",
      "epoch 105 loss 0.036378707736730576\n",
      "epoch 106 loss 0.037729162722826004\n",
      "epoch 107 loss 0.0381508395075798\n",
      "epoch 108 loss 0.03786368668079376\n",
      "epoch 109 loss 0.03695191070437431\n",
      "epoch 110 loss 0.036251943558454514\n",
      "epoch 111 loss 0.03633086010813713\n",
      "epoch 112 loss 0.03703901171684265\n",
      "epoch 113 loss 0.03691708296537399\n",
      "epoch 114 loss 0.036741387099027634\n",
      "epoch 115 loss 0.03775743395090103\n",
      "epoch 116 loss 0.035843778401613235\n",
      "epoch 117 loss 0.03965282440185547\n",
      "epoch 118 loss 0.03608773648738861\n",
      "epoch 119 loss 0.03694484755396843\n",
      "epoch 120 loss 0.03661761060357094\n",
      "epoch 121 loss 0.03734121844172478\n",
      "epoch 122 loss 0.03447052091360092\n",
      "epoch 123 loss 0.03548945486545563\n",
      "epoch 124 loss 0.035693999379873276\n",
      "epoch 125 loss 0.03738586604595184\n",
      "epoch 126 loss 0.03595950827002525\n",
      "epoch 127 loss 0.03574381396174431\n",
      "epoch 128 loss 0.03680182248353958\n",
      "epoch 129 loss 0.037186864763498306\n",
      "epoch 130 loss 0.03606612980365753\n",
      "epoch 131 loss 0.03618571162223816\n",
      "epoch 132 loss 0.0356815867125988\n",
      "epoch 133 loss 0.03870750218629837\n",
      "epoch 134 loss 0.03733181208372116\n",
      "epoch 135 loss 0.0352896973490715\n",
      "epoch 136 loss 0.036046743392944336\n",
      "epoch 137 loss 0.03554506599903107\n",
      "epoch 138 loss 0.034534916281700134\n",
      "epoch 139 loss 0.03533631190657616\n",
      "epoch 140 loss 0.03402065858244896\n",
      "epoch 141 loss 0.0342918336391449\n",
      "epoch 142 loss 0.03551642596721649\n",
      "epoch 143 loss 0.03452757000923157\n",
      "epoch 144 loss 0.03463084623217583\n",
      "epoch 145 loss 0.035347264260053635\n",
      "epoch 146 loss 0.03477027267217636\n",
      "epoch 147 loss 0.035050444304943085\n",
      "epoch 148 loss 0.03430978208780289\n",
      "epoch 149 loss 0.035409875214099884\n",
      "epoch 150 loss 0.03439640998840332\n",
      "epoch 151 loss 0.033821385353803635\n",
      "epoch 152 loss 0.03354231268167496\n",
      "epoch 153 loss 0.03583027049899101\n",
      "epoch 154 loss 0.03561638668179512\n",
      "epoch 155 loss 0.03506912663578987\n",
      "epoch 156 loss 0.03512958809733391\n",
      "epoch 157 loss 0.0335891954600811\n",
      "epoch 158 loss 0.03332570567727089\n",
      "epoch 159 loss 0.03477203845977783\n",
      "epoch 160 loss 0.035704534500837326\n",
      "epoch 161 loss 0.035577502101659775\n",
      "epoch 162 loss 0.03357091546058655\n",
      "epoch 163 loss 0.034276824444532394\n",
      "epoch 164 loss 0.03417219594120979\n",
      "epoch 165 loss 0.03319261595606804\n",
      "epoch 166 loss 0.033920180052518845\n",
      "epoch 167 loss 0.03388535603880882\n",
      "epoch 168 loss 0.03357798978686333\n",
      "epoch 169 loss 0.03393355756998062\n",
      "epoch 170 loss 0.03441997617483139\n",
      "epoch 171 loss 0.03372477740049362\n",
      "epoch 172 loss 0.03340182453393936\n",
      "epoch 173 loss 0.03485389053821564\n",
      "epoch 174 loss 0.034083932638168335\n",
      "epoch 175 loss 0.032982613891363144\n",
      "epoch 176 loss 0.03327760845422745\n",
      "epoch 177 loss 0.03438024967908859\n",
      "epoch 178 loss 0.03555765375494957\n",
      "epoch 179 loss 0.03262081742286682\n",
      "epoch 180 loss 0.03280021995306015\n",
      "epoch 181 loss 0.03458940237760544\n",
      "epoch 182 loss 0.03875935822725296\n",
      "epoch 183 loss 0.039616189897060394\n",
      "epoch 184 loss 0.033207785338163376\n",
      "epoch 185 loss 0.03350130841135979\n",
      "epoch 186 loss 0.03253732994198799\n",
      "epoch 187 loss 0.03247413784265518\n",
      "epoch 188 loss 0.03588593006134033\n",
      "epoch 189 loss 0.0320604033768177\n",
      "epoch 190 loss 0.032714612782001495\n",
      "epoch 191 loss 0.03431345894932747\n",
      "epoch 192 loss 0.03310324251651764\n",
      "epoch 193 loss 0.034150030463933945\n",
      "epoch 194 loss 0.03297033533453941\n",
      "epoch 195 loss 0.03386018052697182\n",
      "epoch 196 loss 0.03219427168369293\n",
      "epoch 197 loss 0.03300860896706581\n",
      "epoch 198 loss 0.03262677416205406\n",
      "epoch 199 loss 0.033729489892721176\n",
      "epoch 200 loss 0.03319339454174042\n",
      "epoch 201 loss 0.033018264919519424\n",
      "epoch 202 loss 0.033923450857400894\n",
      "epoch 203 loss 0.03333217650651932\n",
      "epoch 204 loss 0.033867739140987396\n",
      "epoch 205 loss 0.033252108842134476\n",
      "epoch 206 loss 0.03418778255581856\n",
      "epoch 207 loss 0.033393047749996185\n",
      "epoch 208 loss 0.033826764672994614\n",
      "epoch 209 loss 0.03317289426922798\n",
      "epoch 210 loss 0.03333883360028267\n",
      "epoch 211 loss 0.03509169816970825\n",
      "epoch 212 loss 0.0338815376162529\n",
      "epoch 213 loss 0.03239293023943901\n",
      "epoch 214 loss 0.03198742866516113\n",
      "epoch 215 loss 0.034250494092702866\n",
      "epoch 216 loss 0.03476550430059433\n",
      "epoch 217 loss 0.03332158923149109\n",
      "epoch 218 loss 0.03588838875293732\n",
      "epoch 219 loss 0.033550772815942764\n",
      "epoch 220 loss 0.033207591623067856\n",
      "epoch 221 loss 0.033197689801454544\n",
      "epoch 222 loss 0.034377358853816986\n",
      "epoch 223 loss 0.03207128494977951\n",
      "epoch 224 loss 0.031475163996219635\n",
      "epoch 225 loss 0.0326748825609684\n",
      "epoch 226 loss 0.034165509045124054\n",
      "epoch 227 loss 0.03318793326616287\n",
      "epoch 228 loss 0.03412209451198578\n",
      "epoch 229 loss 0.03424805775284767\n",
      "epoch 230 loss 0.03258547559380531\n",
      "epoch 231 loss 0.03248465806245804\n",
      "epoch 232 loss 0.03397718816995621\n",
      "epoch 233 loss 0.03356325998902321\n",
      "epoch 234 loss 0.032537080347537994\n",
      "epoch 235 loss 0.03228595480322838\n"
     ]
    },
    {
     "name": "stdout",
     "output_type": "stream",
     "text": [
      "epoch 236 loss 0.033067163079977036\n",
      "epoch 237 loss 0.03276054561138153\n",
      "epoch 238 loss 0.03167571872472763\n",
      "epoch 239 loss 0.03181891515851021\n",
      "epoch 240 loss 0.033313725143671036\n",
      "epoch 241 loss 0.03380925580859184\n",
      "epoch 242 loss 0.031808361411094666\n",
      "epoch 243 loss 0.032984137535095215\n",
      "epoch 244 loss 0.03628915548324585\n",
      "epoch 245 loss 0.03296952694654465\n",
      "epoch 246 loss 0.0334554947912693\n",
      "epoch 247 loss 0.03445044159889221\n",
      "epoch 248 loss 0.03439023345708847\n",
      "epoch 249 loss 0.031930167227983475\n",
      "epoch 250 loss 0.03196031600236893\n",
      "epoch 251 loss 0.03362220525741577\n",
      "epoch 252 loss 0.03283630684018135\n",
      "epoch 253 loss 0.031945668160915375\n",
      "epoch 254 loss 0.032895658165216446\n",
      "epoch 255 loss 0.03404448181390762\n",
      "epoch 256 loss 0.03252451866865158\n",
      "epoch 257 loss 0.03065606765449047\n",
      "epoch 258 loss 0.03222310543060303\n",
      "epoch 259 loss 0.03204885497689247\n",
      "epoch 260 loss 0.033751726150512695\n",
      "epoch 261 loss 0.03249098360538483\n",
      "epoch 262 loss 0.03385486081242561\n",
      "epoch 263 loss 0.03283267468214035\n",
      "epoch 264 loss 0.032679688185453415\n",
      "epoch 265 loss 0.032002195715904236\n",
      "epoch 266 loss 0.033520545810461044\n",
      "epoch 267 loss 0.032539885491132736\n",
      "epoch 268 loss 0.030893072485923767\n",
      "epoch 269 loss 0.03193353861570358\n",
      "epoch 270 loss 0.03443814814090729\n",
      "epoch 271 loss 0.03235304728150368\n",
      "epoch 272 loss 0.03176964819431305\n",
      "epoch 273 loss 0.03244219720363617\n",
      "epoch 274 loss 0.03339587152004242\n",
      "epoch 275 loss 0.031844042241573334\n",
      "epoch 276 loss 0.03215078264474869\n",
      "epoch 277 loss 0.03282270208001137\n",
      "epoch 278 loss 0.03215203806757927\n",
      "epoch 279 loss 0.03373163565993309\n",
      "epoch 280 loss 0.03266841545701027\n",
      "epoch 281 loss 0.032750438898801804\n",
      "epoch 282 loss 0.03310214355587959\n",
      "epoch 283 loss 0.03191392123699188\n",
      "epoch 284 loss 0.03350275754928589\n",
      "epoch 285 loss 0.034514304250478745\n",
      "epoch 286 loss 0.03477536886930466\n",
      "epoch 287 loss 0.031818993389606476\n",
      "epoch 288 loss 0.03335016220808029\n",
      "epoch 289 loss 0.032250724732875824\n",
      "epoch 290 loss 0.03245701268315315\n",
      "epoch 291 loss 0.032160643488168716\n",
      "epoch 292 loss 0.03222418203949928\n",
      "epoch 293 loss 0.03144918009638786\n",
      "epoch 294 loss 0.03337458521127701\n",
      "epoch 295 loss 0.0310781542211771\n",
      "epoch 296 loss 0.03194845840334892\n",
      "epoch 297 loss 0.031906645745038986\n",
      "epoch 298 loss 0.033182743936777115\n",
      "epoch 299 loss 0.03283204510807991\n",
      "epoch 300 loss 0.031293753534555435\n",
      "epoch 301 loss 0.031874097883701324\n",
      "epoch 302 loss 0.031398650258779526\n",
      "epoch 303 loss 0.03089582547545433\n",
      "epoch 304 loss 0.03189639747142792\n",
      "epoch 305 loss 0.03181230649352074\n",
      "epoch 306 loss 0.03310385346412659\n",
      "epoch 307 loss 0.032071325927972794\n",
      "epoch 308 loss 0.03120190091431141\n",
      "epoch 309 loss 0.03285349905490875\n",
      "epoch 310 loss 0.03110952489078045\n",
      "epoch 311 loss 0.0328097864985466\n",
      "epoch 312 loss 0.032001711428165436\n",
      "epoch 313 loss 0.031125064939260483\n",
      "epoch 314 loss 0.03208852931857109\n",
      "epoch 315 loss 0.032823387533426285\n",
      "epoch 316 loss 0.03431744500994682\n",
      "epoch 317 loss 0.03205526992678642\n",
      "epoch 318 loss 0.03210599720478058\n",
      "epoch 319 loss 0.03032926470041275\n",
      "epoch 320 loss 0.03234801068902016\n",
      "epoch 321 loss 0.033354081213474274\n",
      "epoch 322 loss 0.031623661518096924\n",
      "epoch 323 loss 0.0335085503757\n",
      "epoch 324 loss 0.03162963688373566\n",
      "epoch 325 loss 0.032351650297641754\n",
      "epoch 326 loss 0.03079812414944172\n",
      "epoch 327 loss 0.03162034600973129\n",
      "epoch 328 loss 0.031719230115413666\n",
      "epoch 329 loss 0.033793188631534576\n",
      "epoch 330 loss 0.032787978649139404\n",
      "epoch 331 loss 0.03191613778471947\n",
      "epoch 332 loss 0.032077908515930176\n",
      "epoch 333 loss 0.032341379672288895\n",
      "epoch 334 loss 0.033050455152988434\n",
      "epoch 335 loss 0.03210604935884476\n",
      "epoch 336 loss 0.03161062300205231\n",
      "epoch 337 loss 0.03283266723155975\n",
      "epoch 338 loss 0.03267604112625122\n",
      "epoch 339 loss 0.032033566385507584\n",
      "epoch 340 loss 0.03160446137189865\n",
      "epoch 341 loss 0.03240722790360451\n",
      "epoch 342 loss 0.032895974814891815\n",
      "epoch 343 loss 0.033451568335294724\n",
      "epoch 344 loss 0.032457463443279266\n",
      "epoch 345 loss 0.032587699592113495\n",
      "epoch 346 loss 0.032113682478666306\n",
      "epoch 347 loss 0.030804108828306198\n",
      "epoch 348 loss 0.03163572773337364\n",
      "epoch 349 loss 0.03396783396601677\n",
      "epoch 350 loss 0.032225560396909714\n",
      "epoch 351 loss 0.03161166235804558\n",
      "epoch 352 loss 0.03158674016594887\n",
      "epoch 353 loss 0.030791714787483215\n",
      "epoch 354 loss 0.03122808039188385\n",
      "epoch 355 loss 0.03209290653467178\n",
      "epoch 356 loss 0.031444232910871506\n",
      "epoch 357 loss 0.03315919265151024\n",
      "epoch 358 loss 0.0325331948697567\n",
      "epoch 359 loss 0.03138022869825363\n",
      "epoch 360 loss 0.0322415754199028\n",
      "epoch 361 loss 0.03252099081873894\n",
      "epoch 362 loss 0.03439602255821228\n",
      "epoch 363 loss 0.03273293003439903\n",
      "epoch 364 loss 0.03140683472156525\n",
      "epoch 365 loss 0.03185383975505829\n",
      "epoch 366 loss 0.031622614711523056\n",
      "epoch 367 loss 0.0317612960934639\n",
      "epoch 368 loss 0.03303026035428047\n",
      "epoch 369 loss 0.03322264924645424\n",
      "epoch 370 loss 0.031908921897411346\n",
      "epoch 371 loss 0.03182394057512283\n",
      "epoch 372 loss 0.033164434134960175\n",
      "epoch 373 loss 0.0325237512588501\n",
      "epoch 374 loss 0.033577896654605865\n",
      "epoch 375 loss 0.03119918704032898\n",
      "epoch 376 loss 0.03205714002251625\n",
      "epoch 377 loss 0.03230571746826172\n",
      "epoch 378 loss 0.03303332254290581\n",
      "epoch 379 loss 0.03184162452816963\n",
      "epoch 380 loss 0.03190384805202484\n",
      "epoch 381 loss 0.031824465841054916\n",
      "epoch 382 loss 0.03161691129207611\n",
      "epoch 383 loss 0.03279383108019829\n",
      "epoch 384 loss 0.03165266662836075\n",
      "epoch 385 loss 0.031659506261348724\n",
      "epoch 386 loss 0.03207364305853844\n",
      "epoch 387 loss 0.033046044409275055\n",
      "epoch 388 loss 0.03295513615012169\n",
      "epoch 389 loss 0.03256077691912651\n",
      "epoch 390 loss 0.031263627111911774\n",
      "epoch 391 loss 0.03246014192700386\n",
      "epoch 392 loss 0.0313146747648716\n",
      "epoch 393 loss 0.031506482511758804\n",
      "epoch 394 loss 0.03325088694691658\n",
      "epoch 395 loss 0.03317922726273537\n",
      "epoch 396 loss 0.03081652894616127\n",
      "epoch 397 loss 0.03189738094806671\n",
      "epoch 398 loss 0.03139340132474899\n",
      "epoch 399 loss 0.032607488334178925\n",
      "epoch 400 loss 0.03235209733247757\n",
      "epoch 401 loss 0.031691912561655045\n",
      "epoch 402 loss 0.030453411862254143\n",
      "epoch 403 loss 0.032792266458272934\n",
      "epoch 404 loss 0.03246084973216057\n",
      "epoch 405 loss 0.03102908283472061\n",
      "epoch 406 loss 0.030718477442860603\n",
      "epoch 407 loss 0.031488087028265\n",
      "epoch 408 loss 0.03092055767774582\n",
      "epoch 409 loss 0.030742621049284935\n",
      "epoch 410 loss 0.030656056478619576\n",
      "epoch 411 loss 0.03250252828001976\n",
      "epoch 412 loss 0.03340625762939453\n",
      "epoch 413 loss 0.03210020810365677\n",
      "epoch 414 loss 0.031136415898799896\n",
      "epoch 415 loss 0.031581636518239975\n",
      "epoch 416 loss 0.03146974369883537\n",
      "epoch 417 loss 0.03203418850898743\n",
      "epoch 418 loss 0.031148109585046768\n",
      "epoch 419 loss 0.03049463964998722\n",
      "epoch 420 loss 0.033008430153131485\n",
      "epoch 421 loss 0.032750941812992096\n",
      "epoch 422 loss 0.03054124116897583\n",
      "epoch 423 loss 0.032012321054935455\n",
      "epoch 424 loss 0.03275139257311821\n",
      "epoch 425 loss 0.032184161245822906\n",
      "epoch 426 loss 0.030994586646556854\n",
      "epoch 427 loss 0.03238441050052643\n",
      "epoch 428 loss 0.03340498358011246\n",
      "epoch 429 loss 0.03265618532896042\n",
      "epoch 430 loss 0.03216208145022392\n",
      "epoch 431 loss 0.0312202051281929\n",
      "epoch 432 loss 0.03239304944872856\n",
      "epoch 433 loss 0.03390779718756676\n",
      "epoch 434 loss 0.0323868952691555\n",
      "epoch 435 loss 0.03049127385020256\n",
      "epoch 436 loss 0.03101145103573799\n",
      "epoch 437 loss 0.030250394716858864\n",
      "epoch 438 loss 0.030844613909721375\n",
      "epoch 439 loss 0.030954159796237946\n",
      "epoch 440 loss 0.03229445591568947\n",
      "epoch 441 loss 0.03240639716386795\n",
      "epoch 442 loss 0.03350825607776642\n",
      "epoch 443 loss 0.03049265593290329\n",
      "epoch 444 loss 0.03200644999742508\n",
      "epoch 445 loss 0.03106832690536976\n",
      "epoch 446 loss 0.030100448057055473\n",
      "epoch 447 loss 0.030911114066839218\n",
      "epoch 448 loss 0.03087620623409748\n",
      "epoch 449 loss 0.030271507799625397\n",
      "epoch 450 loss 0.030601490288972855\n",
      "epoch 451 loss 0.03061448223888874\n",
      "epoch 452 loss 0.0327279269695282\n",
      "epoch 453 loss 0.030953211709856987\n",
      "epoch 454 loss 0.031387005001306534\n",
      "epoch 455 loss 0.030434625223279\n",
      "epoch 456 loss 0.029398610815405846\n",
      "epoch 457 loss 0.031782474368810654\n",
      "epoch 458 loss 0.032902561128139496\n",
      "epoch 459 loss 0.03139665350317955\n",
      "epoch 460 loss 0.030024677515029907\n",
      "epoch 461 loss 0.031054819002747536\n",
      "epoch 462 loss 0.030022278428077698\n",
      "epoch 463 loss 0.02993190474808216\n",
      "epoch 464 loss 0.031205296516418457\n",
      "epoch 465 loss 0.031246833503246307\n",
      "epoch 466 loss 0.03161405026912689\n",
      "epoch 467 loss 0.031012937426567078\n",
      "epoch 468 loss 0.030470510944724083\n"
     ]
    },
    {
     "name": "stdout",
     "output_type": "stream",
     "text": [
      "epoch 469 loss 0.030015023425221443\n",
      "epoch 470 loss 0.03093346394598484\n",
      "epoch 471 loss 0.03046855330467224\n",
      "epoch 472 loss 0.03071112185716629\n",
      "epoch 473 loss 0.03246194124221802\n",
      "epoch 474 loss 0.030930759385228157\n",
      "epoch 475 loss 0.03404434397816658\n",
      "epoch 476 loss 0.0327032133936882\n",
      "epoch 477 loss 0.030473073944449425\n",
      "epoch 478 loss 0.03150025010108948\n",
      "epoch 479 loss 0.030960647389292717\n",
      "epoch 480 loss 0.03225791081786156\n",
      "epoch 481 loss 0.031197024509310722\n",
      "epoch 482 loss 0.03274403512477875\n",
      "epoch 483 loss 0.02927262894809246\n",
      "epoch 484 loss 0.031773678958415985\n",
      "epoch 485 loss 0.031615424901247025\n",
      "epoch 486 loss 0.030870212242007256\n",
      "epoch 487 loss 0.03065350279211998\n",
      "epoch 488 loss 0.031782180070877075\n",
      "epoch 489 loss 0.03043859638273716\n",
      "epoch 490 loss 0.03164967894554138\n",
      "epoch 491 loss 0.03026336245238781\n",
      "epoch 492 loss 0.03169994801282883\n",
      "epoch 493 loss 0.031115369871258736\n",
      "epoch 494 loss 0.030883321538567543\n",
      "epoch 495 loss 0.03189484775066376\n",
      "epoch 496 loss 0.03104547969996929\n",
      "epoch 497 loss 0.031773556023836136\n",
      "epoch 498 loss 0.03232082724571228\n",
      "epoch 499 loss 0.03090953826904297\n",
      "[[-1.62402749e-01  9.01542827e-02 -2.54918672e-02  9.11884662e-03\n",
      "   1.52284563e-01  1.46639645e-01 -1.37276202e-01 -1.26438007e-01\n",
      "  -7.81363025e-02 -1.71493009e-01 -7.28457794e-02 -9.65053737e-02\n",
      "  -1.85123086e-01 -1.54568061e-01  9.90698785e-02  1.90231964e-01\n",
      "  -9.68101025e-02  1.56577304e-01  1.12788551e-01 -4.87621240e-02\n",
      "   2.93979160e-02 -5.83950244e-02]\n",
      " [-1.39962465e-01  2.04025015e-01 -1.25198722e-01  1.90707788e-01\n",
      "  -1.09504253e-01 -1.43588901e-01  1.10577881e-01  4.30806503e-02\n",
      "   2.33150765e-01 -1.57853723e-01  2.21171025e-02  4.57800888e-02\n",
      "   4.81318310e-02 -7.05938265e-02  9.19933394e-02 -9.51605570e-03\n",
      "   7.83364549e-02  6.27568886e-02 -1.54389948e-01  9.23154876e-02\n",
      "   2.52247930e-01 -6.04219399e-02]\n",
      " [-8.99815261e-02 -2.66467268e-03  1.63688455e-02  9.09496918e-02\n",
      "   1.33448437e-01  1.40773788e-01  4.04294990e-02  7.73242861e-02\n",
      "  -6.14263713e-02  9.07161757e-02  1.00098662e-02 -2.49150991e-01\n",
      "  -6.46932796e-02 -1.80165023e-01 -1.70186404e-02  2.29012102e-01\n",
      "   5.58611890e-03 -1.53423190e-01 -2.87247926e-01  1.91811591e-01\n",
      "  -1.64324194e-02  4.14742604e-02]\n",
      " [-4.73524444e-03  9.98061150e-02  7.55271222e-03  7.00661466e-02\n",
      "   1.28814772e-01 -2.31890418e-02  1.37398401e-02  6.65511787e-02\n",
      "   5.57488091e-02 -2.46134803e-01  6.91983625e-02  9.75476652e-02\n",
      "  -4.30038311e-02 -4.20423038e-02 -1.01656511e-01  2.64437407e-01\n",
      "  -1.62873670e-01 -1.24191850e-01 -2.44586408e-01  1.20985694e-02\n",
      "  -8.52942541e-02  8.15569460e-02]\n",
      " [ 1.06234048e-02  1.28932267e-01  8.20627734e-02 -9.28477198e-02\n",
      "   2.18427945e-02 -4.31181565e-02  2.02776104e-01  9.06491205e-02\n",
      "   7.68083706e-02  1.02073222e-01 -1.45580351e-01  2.07641408e-01\n",
      "  -5.05866297e-02  3.53583926e-03  8.24431032e-02 -2.96145588e-01\n",
      "   2.07984269e-01  8.70027393e-02  8.29086546e-03 -8.67229924e-02\n",
      "  -2.02022698e-02  7.21037090e-02]\n",
      " [-2.48546787e-02  9.38786715e-02  1.34082019e-01 -9.09015760e-02\n",
      "  -1.58812985e-01 -1.85260177e-01 -1.00770436e-01 -4.72728722e-02\n",
      "  -2.50487655e-01  1.17877029e-01 -1.45053133e-01 -1.76246464e-01\n",
      "   1.32781595e-01  5.29326685e-02  1.13818102e-01  1.36545539e-01\n",
      "   2.17387229e-01 -2.31391370e-01 -1.44861475e-01 -8.66476968e-02\n",
      "  -7.61287883e-02 -5.44933826e-02]\n",
      " [-1.33928373e-01 -1.20546259e-01 -6.56765401e-02  2.67818607e-02\n",
      "  -1.83736324e-01 -1.79478005e-01  1.26099765e-01 -5.42996973e-02\n",
      "   7.84825981e-02 -1.51693046e-01 -2.86868751e-01  1.92841757e-02\n",
      "  -1.79653168e-02  2.18954548e-01  2.19975352e-01  9.53913406e-02\n",
      "   1.36656463e-01 -8.49925950e-02  3.08657158e-02  1.00663118e-01\n",
      "  -3.80792692e-02 -1.97379336e-01]\n",
      " [-6.75391331e-02 -2.09246188e-01 -1.15881018e-01  9.86339897e-02\n",
      "   2.00636551e-01 -1.70290455e-01 -1.85726985e-01  1.46509945e-01\n",
      "  -1.65800169e-01  2.20093265e-01 -5.65442517e-02 -1.32258255e-02\n",
      "  -1.16443187e-02  1.42654032e-01  1.95490256e-01  1.15467452e-01\n",
      "  -1.38301983e-01  1.77226931e-01 -1.49857387e-01  1.99498937e-01\n",
      "   9.10707116e-02  1.63419545e-01]\n",
      " [-1.37772769e-01 -1.96507663e-01  1.61027879e-01  6.78075925e-02\n",
      "  -3.73847894e-02 -9.07450914e-03  2.88290204e-03 -9.96441692e-02\n",
      "  -8.07273760e-03  2.79323687e-03 -1.13769569e-01  2.41010059e-02\n",
      "   2.29446709e-01  1.33287534e-01  1.80182219e-01 -1.39043957e-01\n",
      "   2.50868410e-01 -7.85648972e-02  2.21662819e-01 -6.42396137e-03\n",
      "   1.07424604e-02 -1.56279981e-01]\n",
      " [ 1.39612645e-01 -1.32130668e-01 -2.74019707e-02 -2.15498745e-01\n",
      "   4.22732830e-02  1.06268721e-02 -9.63575393e-02  8.08738321e-02\n",
      "  -9.34814662e-02  1.47867396e-01 -4.18294556e-02  1.21366367e-01\n",
      "  -3.76728438e-02 -4.69377404e-03 -3.21254283e-02 -2.14499414e-01\n",
      "   9.19819549e-02 -1.66496158e-01  4.07210998e-02  7.40155280e-02\n",
      "  -6.38936311e-02  2.85386294e-02]\n",
      " [ 1.01262048e-01  2.88762033e-01  2.68151402e-01 -2.54786462e-02\n",
      "   4.13460881e-02 -1.09194614e-01 -2.98452824e-01  1.79946333e-01\n",
      "  -6.38574809e-02  1.72757834e-01 -1.26109257e-01 -1.46235287e-01\n",
      "  -1.39225908e-02 -6.88822120e-02 -2.54651815e-01  1.09835483e-01\n",
      "  -2.56074190e-01  2.06572991e-02  9.10178721e-02 -2.65011817e-01\n",
      "   8.35531503e-02  2.20025405e-02]\n",
      " [-1.03086017e-01  1.20050833e-01  7.67159462e-02 -1.43422097e-01\n",
      "   6.14015460e-02 -7.84436464e-02  7.71012828e-02 -1.29326671e-01\n",
      "  -5.84199168e-02  6.47308677e-02 -6.63045049e-02 -1.83828212e-02\n",
      "   1.10753523e-02  8.89763683e-02 -1.21079057e-01 -1.79625928e-01\n",
      "   2.66045146e-02  6.01965375e-02 -9.26382393e-02 -1.92080051e-01\n",
      "   2.83952281e-02 -1.52969122e-01]\n",
      " [-1.41239718e-01  1.51105195e-01  3.11803855e-02 -3.24243400e-03\n",
      "   1.58231203e-02  9.09902062e-03 -1.76292602e-02 -1.11502586e-02\n",
      "  -5.11888415e-02  2.88582802e-01 -1.71465538e-02 -3.11602969e-02\n",
      "   8.99396837e-02  1.34493008e-01 -1.19528897e-01  1.19777538e-01\n",
      "  -1.61833525e-01  4.93430160e-02 -1.55801341e-01 -2.72029042e-01\n",
      "  -7.86865305e-04 -7.63283223e-02]\n",
      " [-8.31692070e-02  3.24459635e-02 -5.76114282e-02 -2.89530218e-01\n",
      "  -6.62732795e-02  1.55208230e-01 -9.34691057e-02 -1.52231470e-01\n",
      "  -3.00790332e-02  2.77636886e-01  1.42757550e-01  2.94943064e-01\n",
      "  -7.86834210e-03 -3.90080363e-02 -3.12498007e-02 -6.98754862e-02\n",
      "  -9.27092731e-02 -5.62232621e-02  2.80616013e-03  1.45351797e-01\n",
      "  -4.86371573e-03  2.48416498e-01]\n",
      " [ 4.23025340e-03  1.09358788e-01 -5.87426871e-02  1.78358704e-01\n",
      "  -2.09978387e-01  2.76312917e-01  1.77946463e-01 -5.04252352e-02\n",
      "  -1.49647281e-01 -1.44017607e-01  1.95097819e-01  1.81611001e-01\n",
      "  -9.05230790e-02  1.33364340e-02 -2.02200487e-01  1.51694119e-01\n",
      "   1.09336585e-01 -1.24793358e-01 -8.48409981e-02  1.60656139e-01\n",
      "  -3.07160988e-02  2.22375974e-01]\n",
      " [-1.01284370e-01  2.13698849e-01  1.41305849e-01  2.60138303e-01\n",
      "   1.86207727e-01 -3.01829457e-01  6.92599192e-02 -1.97565872e-02\n",
      "  -2.02066060e-02  3.69329825e-02  1.82915673e-01  3.70038636e-02\n",
      "   1.77555848e-02 -5.95231019e-02 -7.26033449e-02 -5.04022911e-02\n",
      "  -4.73445794e-03  1.69345483e-01  1.35312425e-02 -4.80460301e-02\n",
      "  -1.56646952e-01 -2.40986198e-01]\n",
      " [-1.28273740e-01  9.25137550e-02  2.19198152e-01  1.46293536e-01\n",
      "  -1.62752762e-01 -2.44477987e-01 -7.78297633e-02  4.09596786e-02\n",
      "  -1.00151427e-01 -1.59769893e-01 -4.79760543e-02 -2.85707954e-02\n",
      "  -2.76400328e-01  1.51433140e-01 -8.26592892e-02  1.28289342e-01\n",
      "   4.78554443e-02  7.05911145e-02 -2.18656287e-01 -1.34506494e-01\n",
      "  -4.17854404e-03  6.25141934e-02]\n",
      " [-2.14310363e-01 -4.01978046e-02  9.71225183e-03 -2.25390531e-02\n",
      "  -1.82600603e-01 -1.55965537e-01  9.62451100e-02  3.03718537e-01\n",
      "   1.37206227e-01  3.40618417e-02  2.14093868e-02 -2.70459205e-01\n",
      "  -1.19801491e-01 -3.27216238e-02 -1.04734384e-01  1.73676535e-01\n",
      "  -2.07733139e-02 -2.72819310e-01  2.40419477e-01  1.39296979e-01\n",
      "  -3.38132754e-02 -3.66360545e-02]\n",
      " [-1.21854944e-02  2.24713370e-01  2.99986042e-02 -1.79035470e-01\n",
      "   5.58510236e-02 -9.42026302e-02 -2.12736145e-01 -9.12747532e-02\n",
      "  -2.60171384e-01  1.12212345e-01  1.52040735e-01  2.57979855e-02\n",
      "  -2.14507524e-02  1.01677842e-01  2.34854028e-01  8.30832347e-02\n",
      "   9.81194824e-02  2.40574218e-02  2.16557786e-01  1.71768833e-02\n",
      "   2.01775670e-01  9.57749486e-02]\n",
      " [-2.49541268e-01  1.62520304e-01 -9.82190222e-02 -1.66417837e-01\n",
      "  -6.17639534e-02  9.42763388e-02  1.15941353e-01 -1.86943173e-01\n",
      "   1.07600214e-02  1.26916356e-02 -1.43608734e-01 -1.66190311e-01\n",
      "   1.30950212e-02  1.17124721e-01  2.64877640e-02 -4.77074571e-02\n",
      "  -1.64628550e-02  2.76481986e-01  5.83051369e-02  6.64181784e-02\n",
      "   5.75303286e-02  1.24742009e-01]\n",
      " [ 8.18776991e-03  2.25290462e-01 -1.62389707e-02 -2.12809648e-02\n",
      "   8.90343413e-02 -5.10722063e-02 -3.36900838e-02 -1.38106067e-02\n",
      "  -8.97600576e-02  1.56717286e-01 -7.83463791e-02 -1.86456606e-01\n",
      "  -4.50041555e-02  2.18326896e-02  8.59089866e-02 -7.22145811e-02\n",
      "  -2.46386692e-01  7.87157714e-02  1.57708637e-02  2.75180861e-02\n",
      "  -1.85969681e-01  2.62497336e-01]\n",
      " [ 2.88647711e-02 -1.96397275e-01 -2.39458948e-01  1.23898774e-01\n",
      "  -3.48266102e-02 -1.99437402e-02  2.07344249e-01  1.29564568e-01\n",
      "  -4.04817685e-02 -1.44219130e-01 -1.61905587e-01  1.63303047e-01\n",
      "   1.50765345e-01 -1.70933798e-01  2.20179021e-01 -1.34404421e-01\n",
      "   2.89832830e-01  5.71164601e-02  9.69651416e-02  5.76654896e-02\n",
      "  -8.73787403e-02  9.09619927e-02]\n",
      " [-8.58498886e-02 -2.36602440e-01  1.58473566e-01 -7.25329667e-02\n",
      "  -7.94631708e-03  2.09743734e-02 -3.30059789e-02  2.59941578e-01\n",
      "  -7.80610591e-02  1.75379843e-01 -1.74049601e-01  2.03534350e-01\n",
      "  -1.38694257e-01  1.24865688e-01 -9.19920802e-02 -1.49553940e-01\n",
      "   1.28750429e-01  9.29503590e-02 -1.49998546e-01 -1.89672137e-04\n",
      "   8.66260082e-02  2.06951737e-01]\n",
      " [-8.21618661e-02  1.38597246e-02 -2.41090000e-01  2.59885013e-01\n",
      "   1.37880936e-01  7.21386150e-02 -1.51001066e-01 -4.23279032e-03\n",
      "  -2.79914409e-01  1.12889064e-02 -2.25361027e-02  1.23698026e-01\n",
      "   1.59835117e-03 -4.66546480e-04 -2.54177094e-01  4.14538421e-02\n",
      "  -1.03667408e-01 -1.27545550e-01 -1.08007357e-01 -2.15076506e-01\n",
      "  -5.14210686e-02 -1.06469532e-02]\n",
      " [-1.65785760e-01  3.70000936e-02 -6.20793775e-02 -1.75625421e-02\n",
      "   4.38017072e-03  2.09119469e-01 -3.44140604e-02 -9.57210362e-03\n",
      "  -2.30100244e-01 -2.41162677e-04  4.53022830e-02  9.12400186e-02\n",
      "  -7.41682127e-02 -2.63159126e-01 -2.28127003e-01 -1.51687339e-01\n",
      "   1.50318192e-02  1.47988588e-01  1.10913493e-01  1.33219376e-01\n",
      "  -1.89851020e-02 -2.02114537e-01]\n",
      " [-2.19659135e-02 -5.39286211e-02 -2.04748750e-01 -5.10791615e-02\n",
      "   8.61747935e-02 -2.96604186e-01  1.44377768e-01 -2.81218350e-01\n",
      "  -2.05708906e-01  2.21729130e-01 -1.71551570e-01 -2.12018296e-01\n",
      "  -2.14472190e-02  1.13768145e-01 -2.28487745e-01  9.38131213e-02\n",
      "   8.83599184e-03 -9.89975855e-02 -9.08197463e-02 -7.23148584e-02\n",
      "  -1.45571575e-01 -9.14323181e-02]\n",
      " [ 5.31610399e-02  6.28283247e-02 -1.31131247e-01  3.37665193e-02\n",
      "   7.27240145e-02 -2.33481042e-02 -2.63434827e-01 -3.62543501e-02\n",
      "   1.25625014e-01  8.51906389e-02  7.06496742e-03 -1.24139927e-01\n",
      "   1.38927728e-01  5.58748171e-02  2.01630428e-01  1.76988512e-01\n",
      "   1.00982394e-02  2.38418594e-01  1.22048102e-01  3.00365090e-01\n",
      "  -1.78608105e-01  1.64062589e-01]\n",
      " [ 1.67478770e-01 -9.38073790e-04  1.05588287e-01  1.06185667e-01\n",
      "  -4.31714430e-02 -3.36418301e-02 -1.16033524e-01 -1.89560041e-01\n",
      "   1.43656796e-02  8.17980501e-04  1.34501562e-01  5.32475188e-02\n",
      "   8.66044611e-02 -7.10117072e-02 -1.70459673e-01 -1.60372466e-01\n",
      "  -3.25041823e-02  1.84263527e-01 -2.10436583e-01  1.37275964e-01\n",
      "  -3.65773635e-03  5.67291155e-02]\n",
      " [-3.63594331e-02 -7.07791001e-02  1.59059465e-01 -1.46806147e-03\n",
      "   1.29638642e-01 -1.96471736e-02 -3.31942029e-02  5.34016192e-02\n",
      "   1.03800811e-01 -1.03659689e-01  2.67565489e-01  1.40878201e-01\n",
      "   8.44002813e-02  1.09520547e-01  2.24918842e-01  1.13890082e-01\n",
      "  -5.13797589e-02 -2.10659340e-01  6.35694433e-03 -2.40261972e-01\n",
      "   2.71999896e-01 -7.45581612e-02]\n",
      " [ 5.85274994e-02  1.54439151e-01 -5.20870462e-02 -7.62953609e-02\n",
      "  -6.95463791e-02 -8.59008729e-02  3.50685865e-02 -1.31647512e-01\n",
      "   1.08576216e-01  1.21188410e-01 -7.90752657e-03  3.18878181e-02\n",
      "  -1.00326873e-01  5.90811577e-03 -1.39416596e-02  1.32391348e-01\n",
      "  -1.10646419e-01  1.45153672e-01  1.83755219e-01  1.68595508e-01\n",
      "   2.14787815e-02 -6.53541833e-02]\n",
      " [-1.15840115e-01 -1.14293054e-01 -5.43033108e-02 -8.22876692e-02\n",
      "  -2.16979943e-02 -8.13567489e-02 -9.58023369e-02 -1.87961608e-01\n",
      "  -1.76764324e-01 -7.78326541e-02 -5.75422160e-02 -2.59208269e-02\n",
      "   1.24280773e-01 -5.42492867e-02  1.74776353e-02 -2.55501837e-01\n",
      "   6.44965693e-02  1.25712976e-01 -8.75956714e-02 -6.19350746e-02\n",
      "   7.80329034e-02 -2.06193253e-01]\n",
      " [ 1.00501990e-02  8.72597992e-02 -2.04528987e-01  4.51740287e-02\n",
      "   1.69075131e-01  2.92882770e-02 -1.57292411e-01  1.13710776e-01\n",
      "   2.72360682e-01 -1.83849633e-02  1.91171199e-01  2.78173000e-01\n",
      "  -2.04732850e-01 -2.26582542e-01 -1.81741968e-01  1.49499014e-01\n",
      "  -1.36381403e-01 -7.42495954e-02 -1.63964182e-01  6.90501481e-02\n",
      "   3.12675238e-02 -5.38511239e-02]\n",
      " [ 2.14704517e-02 -1.20598368e-01  1.54375588e-03 -1.76302373e-01\n",
      "  -1.26606077e-01  1.96428418e-01 -1.05485842e-01 -6.69581443e-02\n",
      "  -1.77599862e-01 -4.81214784e-02  1.58429071e-02  1.73592657e-01\n",
      "  -1.92195565e-01  4.90708053e-02 -1.28584370e-01  1.16932802e-01\n",
      "   2.48546675e-02 -1.01378322e-01 -2.09860787e-01  4.97934744e-02\n",
      "   1.79207996e-01 -2.23069176e-01]\n",
      " [-3.37542742e-02 -2.08570018e-01 -3.74736860e-02 -1.95315406e-01\n",
      "   8.77426863e-02 -8.04562271e-02 -9.51260775e-02 -1.02599896e-02\n",
      "   2.86474228e-02  1.85583279e-01 -1.07995369e-01  1.17290027e-01\n",
      "  -3.51424366e-02 -1.60042614e-01  2.63944063e-02  2.81646490e-01\n",
      "   1.35065213e-01  5.96190542e-02 -2.16416702e-01  2.39587799e-01\n",
      "  -2.14814529e-01 -8.44946057e-02]\n",
      " [-1.56198991e-02  1.85382664e-01  9.34721604e-02 -5.42576574e-02\n",
      "  -1.91887766e-01  9.03825313e-02 -1.46344423e-01 -2.61710882e-01\n",
      "  -1.69118971e-01  2.20637292e-01 -2.04253033e-01  9.23278481e-02\n",
      "  -5.78426942e-02  1.33164898e-01  2.96585768e-01 -1.27693154e-02\n",
      "  -1.72581717e-01  1.07189253e-01  1.59699433e-02 -8.84510670e-03\n",
      "   1.82076156e-01 -2.34792084e-01]\n",
      " [ 5.01869693e-02 -6.93338066e-02 -2.11890921e-01 -8.33172202e-02\n",
      "  -9.90926102e-02 -1.02837987e-01  1.68017358e-01  1.36125013e-02\n",
      "   7.68476725e-02  1.66439608e-01 -3.12992036e-02  1.67277023e-01\n",
      "  -1.78646833e-01 -2.77898628e-02  9.35975835e-02 -1.42318457e-01\n",
      "   2.96983845e-03 -6.12319149e-02  1.90891232e-02  1.16787352e-01\n",
      "  -1.52099654e-01  6.21533096e-02]\n",
      " [-7.45285526e-02  1.12673104e-01 -1.77523181e-01 -7.35727102e-02\n",
      "  -4.31999471e-03 -1.97671726e-01 -6.81155070e-04  2.09742710e-01\n",
      "   1.28257364e-01 -1.72752440e-02  3.45223658e-02  8.65991488e-02\n",
      "  -1.07800774e-02  6.82643801e-02 -2.03824356e-01 -1.35521010e-01\n",
      "   1.24887265e-02 -8.80489349e-02  1.21255182e-01  1.94618985e-01\n",
      "   2.47333780e-01 -1.53221980e-01]\n",
      " [ 1.06300216e-03  1.34149909e-01  2.32464708e-02  9.11627784e-02\n",
      "  -6.31834418e-02  1.17527694e-01 -9.13694687e-03  2.82134771e-01\n",
      "  -5.13840327e-03 -2.08885800e-02  8.95806700e-02 -4.61373292e-02\n",
      "   9.62672010e-03 -4.57403176e-02  2.13309795e-01 -9.03433412e-02\n",
      "  -2.32119650e-01 -7.64049888e-02  6.48787245e-02  2.20332772e-01\n",
      "   1.98007733e-01  4.84568253e-03]\n",
      " [-2.74802949e-02 -1.13690451e-01  2.20024869e-01  2.50475109e-01\n",
      "   7.63909742e-02  2.10426264e-02  4.59193774e-02  1.25859007e-01\n",
      "   2.90057272e-01 -2.72437483e-01 -3.44758555e-02 -4.96414341e-02\n",
      "  -2.98489243e-01  7.51895905e-02  8.34238231e-02  5.08496687e-02\n",
      "  -1.86722293e-01 -2.79367119e-02 -5.49981445e-02  1.04365215e-01\n",
      "   1.77490681e-01 -2.42648199e-02]\n",
      " [ 1.02984697e-01 -1.71950728e-01 -2.61227131e-01 -5.48976101e-02\n",
      "   1.59718230e-01 -1.04207531e-01 -2.69751400e-01 -1.72390379e-02\n",
      "   1.23460004e-02  1.22231402e-01  8.40498433e-02 -1.04041070e-01\n",
      "  -4.13906723e-02 -1.43338203e-01  3.27744596e-02 -3.75967957e-02\n",
      "  -1.19468542e-02 -7.92511776e-02  2.37876892e-01  6.13979704e-04\n",
      "   3.05314362e-02  5.48103116e-02]\n",
      " [ 6.46575391e-02  3.69184539e-02  8.77112597e-02 -6.75002635e-02\n",
      "  -2.34010875e-01  6.36761189e-02  1.21493243e-01  7.25413412e-02\n",
      "  -7.97645841e-03  1.60969168e-01 -2.34097272e-01 -1.09898642e-01\n",
      "  -1.71746105e-01 -1.43936023e-01 -5.47186323e-02  2.93817163e-01\n",
      "  -1.07990362e-01 -2.70083636e-01 -1.09002590e-01  7.80721083e-02\n",
      "   1.87736183e-01  1.58082604e-01]\n",
      " [ 6.64230660e-02 -1.52329177e-01  1.53154820e-01  2.04382375e-01\n",
      "  -5.10430150e-02  1.89714223e-01  1.09478578e-01  8.95582512e-02\n",
      "   4.75147031e-02 -3.18880044e-02  2.13719800e-01  1.25260174e-01\n",
      "   1.96826637e-01 -2.00044233e-02 -5.14326803e-02  4.91297506e-02\n",
      "   4.31013256e-02  2.49149315e-02  1.63441241e-01 -1.06087647e-01\n",
      "  -2.44620413e-01  1.03205465e-01]\n",
      " [ 1.64812237e-01  4.71965037e-02  2.40168255e-02 -3.96034382e-02\n",
      "  -1.17310405e-01 -1.32788405e-01  2.20747009e-01 -1.52972475e-01\n",
      "   8.42615589e-02  2.70972215e-02  2.29417887e-02 -2.83337366e-02\n",
      "   1.48525402e-01  4.33478877e-02  1.88736677e-01 -3.75013649e-02\n",
      "   1.19269662e-01 -2.23011672e-01  4.19104882e-02  5.41421957e-02\n",
      "  -2.01956838e-01  8.48402977e-02]]\n"
     ]
    }
   ],
   "source": [
    "with tf.Session() as sess:\n",
    "    sess.run(init)\n",
    "    vars=tf.trainable_variables()\n",
    "    vars_vals=sess.run(vars)\n",
    "    for epoch in range(num_epoch):\n",
    "        num_batches=len(training_features)//batch_size\n",
    "        #learning rate decay\n",
    "        lr = lr * (0.5 **(epoch//25))\n",
    "        for iteration in range(num_batches):\n",
    "            X_batch=next_batch(batch_size,training_features)\n",
    "            sess.run(train,feed_dict={X:X_batch})\n",
    "        train_loss=loss.eval(feed_dict={X:X_batch})\n",
    "        print(\"epoch {} loss {}\".format(epoch,train_loss))\n",
    "        x.append(epoch)\n",
    "        y.append(train_loss)\n",
    "    for var, val in zip(vars, vars_vals):\n",
    "        if var.get_shape()==(43, 22):\n",
    "            l=val\n",
    "print(l)  "
   ]
  },
  {
   "cell_type": "code",
   "execution_count": 303,
   "metadata": {},
   "outputs": [],
   "source": [
    "sum_weights=[]\n",
    "for row in l:\n",
    "    total_weight=0\n",
    "    for a in row:\n",
    "        total_weight+=a\n",
    "    sum_weights.append(total_weight)"
   ]
  },
  {
   "cell_type": "code",
   "execution_count": 304,
   "metadata": {},
   "outputs": [
    {
     "data": {
      "text/plain": [
       "[-0.427984737791121,\n",
       " 0.5041913902387023,\n",
       " -0.05429937783628702,\n",
       " -0.11058939434587955,\n",
       " 0.6495662829838693,\n",
       " -0.7738798372447491,\n",
       " -0.4614885747432709,\n",
       " 0.4666438978165388,\n",
       " 0.3022637653630227,\n",
       " -0.3482034862972796,\n",
       " -0.2485786508768797,\n",
       " -0.7205295963212848,\n",
       " -0.16972158587304875,\n",
       " 0.22540449211373925,\n",
       " 0.6344299791380763,\n",
       " 0.2520760796032846,\n",
       " -0.7065550084225833,\n",
       " -0.35162567254155874,\n",
       " 0.8026347318664193,\n",
       " -0.00047981273382902145,\n",
       " -0.0687573915347457,\n",
       " 0.3865116722881794,\n",
       " 0.2399711851903703,\n",
       " -0.9901413023180794,\n",
       " -0.6638012593175517,\n",
       " -1.5791958514600992,\n",
       " 1.0918580600991845,\n",
       " 0.015271273732651025,\n",
       " 0.8234639260917902,\n",
       " 0.45331649109721184,\n",
       " -1.3470771238207817,\n",
       " 0.02436975296586752,\n",
       " -0.8480224299710244,\n",
       " -0.31828555651009083,\n",
       " -0.11283503472805023,\n",
       " -0.2228801327291876,\n",
       " 0.07878682418959215,\n",
       " 0.860773722990416,\n",
       " 0.4309514816850424,\n",
       " -0.45890095859067515,\n",
       " -0.18528567720204592,\n",
       " 1.1224199812859297,\n",
       " 0.3383674193173647]"
      ]
     },
     "execution_count": 304,
     "metadata": {},
     "output_type": "execute_result"
    }
   ],
   "source": [
    "sum_weights"
   ]
  },
  {
   "cell_type": "code",
   "execution_count": null,
   "metadata": {},
   "outputs": [],
   "source": []
  },
  {
   "cell_type": "code",
   "execution_count": 305,
   "metadata": {},
   "outputs": [],
   "source": [
    "var_imp=[]\n",
    "for i in range(0,len(sum_weights)):\n",
    "    prod=sum_weights[i]\n",
    "    var_imp.append(prod)"
   ]
  },
  {
   "cell_type": "code",
   "execution_count": 307,
   "metadata": {},
   "outputs": [
    {
     "data": {
      "text/plain": [
       "[-0.427984737791121,\n",
       " 0.5041913902387023,\n",
       " -0.05429937783628702,\n",
       " -0.11058939434587955,\n",
       " 0.6495662829838693,\n",
       " -0.7738798372447491,\n",
       " -0.4614885747432709,\n",
       " 0.4666438978165388,\n",
       " 0.3022637653630227,\n",
       " -0.3482034862972796,\n",
       " -0.2485786508768797,\n",
       " -0.7205295963212848,\n",
       " -0.16972158587304875,\n",
       " 0.22540449211373925,\n",
       " 0.6344299791380763,\n",
       " 0.2520760796032846,\n",
       " -0.7065550084225833,\n",
       " -0.35162567254155874,\n",
       " 0.8026347318664193,\n",
       " -0.00047981273382902145,\n",
       " -0.0687573915347457,\n",
       " 0.3865116722881794,\n",
       " 0.2399711851903703,\n",
       " -0.9901413023180794,\n",
       " -0.6638012593175517,\n",
       " -1.5791958514600992,\n",
       " 1.0918580600991845,\n",
       " 0.015271273732651025,\n",
       " 0.8234639260917902,\n",
       " 0.45331649109721184,\n",
       " -1.3470771238207817,\n",
       " 0.02436975296586752,\n",
       " -0.8480224299710244,\n",
       " -0.31828555651009083,\n",
       " -0.11283503472805023,\n",
       " -0.2228801327291876,\n",
       " 0.07878682418959215,\n",
       " 0.860773722990416,\n",
       " 0.4309514816850424,\n",
       " -0.45890095859067515,\n",
       " -0.18528567720204592,\n",
       " 1.1224199812859297,\n",
       " 0.3383674193173647]"
      ]
     },
     "execution_count": 307,
     "metadata": {},
     "output_type": "execute_result"
    }
   ],
   "source": [
    "var_imp"
   ]
  },
  {
   "cell_type": "code",
   "execution_count": 282,
   "metadata": {},
   "outputs": [
    {
     "data": {
      "text/plain": [
       "['id',\n",
       " 'dur',\n",
       " 'proto',\n",
       " 'service',\n",
       " 'state',\n",
       " 'spkts',\n",
       " 'dpkts',\n",
       " 'sbytes',\n",
       " 'dbytes',\n",
       " 'rate',\n",
       " 'sttl',\n",
       " 'dttl',\n",
       " 'sload',\n",
       " 'dload',\n",
       " 'sloss',\n",
       " 'dloss',\n",
       " 'sinpkt',\n",
       " 'dinpkt',\n",
       " 'sjit',\n",
       " 'djit',\n",
       " 'swin',\n",
       " 'stcpb',\n",
       " 'dtcpb',\n",
       " 'dwin',\n",
       " 'tcprtt',\n",
       " 'synack',\n",
       " 'ackdat',\n",
       " 'smean',\n",
       " 'dmean',\n",
       " 'trans_depth',\n",
       " 'response_body_len',\n",
       " 'ct_srv_src',\n",
       " 'ct_state_ttl',\n",
       " 'ct_dst_ltm',\n",
       " 'ct_src_dport_ltm',\n",
       " 'ct_dst_sport_ltm',\n",
       " 'ct_dst_src_ltm',\n",
       " 'is_ftp_login',\n",
       " 'ct_ftp_cmd',\n",
       " 'ct_flw_http_mthd',\n",
       " 'ct_src_ltm',\n",
       " 'ct_srv_dst',\n",
       " 'is_sm_ips_ports',\n",
       " 'attack_cat',\n",
       " 'label']"
      ]
     },
     "execution_count": 282,
     "metadata": {},
     "output_type": "execute_result"
    }
   ],
   "source": [
    "features=list(range(1,44))\n",
    "feature_names=list(training_df)\n",
    "feature_names"
   ]
  },
  {
   "cell_type": "code",
   "execution_count": 308,
   "metadata": {},
   "outputs": [],
   "source": [
    "plt.rcParams['figure.figsize']=(20,20)"
   ]
  },
  {
   "cell_type": "code",
   "execution_count": 309,
   "metadata": {},
   "outputs": [
    {
     "data": {
      "text/plain": [
       "Text(0,0.5,'Feature Importance Values')"
      ]
     },
     "execution_count": 309,
     "metadata": {},
     "output_type": "execute_result"
    },
    {
     "data": {
      "image/png": "[encoded data removed]",
      "text/plain": [
       "<matplotlib.figure.Figure at 0x10a395f47b8>"
      ]
     },
     "metadata": {
      "needs_background": "light"
     },
     "output_type": "display_data"
    }
   ],
   "source": [
    "x_vals=np.arange(len(features))\n",
    "plt.bar(x_vals,var_imp,align='center',alpha=1)\n",
    "plt.xticks(x_vals,features)\n",
    "plt.xlabel(\"Feature Indexes\")\n",
    "plt.ylabel(\"Feature Importance Values\")\n"
   ]
  },
  {
   "cell_type": "code",
   "execution_count": 310,
   "metadata": {
    "scrolled": true
   },
   "outputs": [],
   "source": [
    "best_features=sorted(range(len(var_imp)), key=lambda i: var_imp[i], reverse=True)[:10]"
   ]
  },
  {
   "cell_type": "code",
   "execution_count": null,
   "metadata": {},
   "outputs": [],
   "source": []
  },
  {
   "cell_type": "code",
   "execution_count": 311,
   "metadata": {},
   "outputs": [
    {
     "name": "stdout",
     "output_type": "stream",
     "text": [
      "ct_srv_dst\n",
      "ackdat\n",
      "is_ftp_login\n",
      "dmean\n",
      "sjit\n",
      "state\n",
      "sloss\n",
      "dur\n",
      "sbytes\n",
      "trans_depth\n"
     ]
    }
   ],
   "source": [
    "for i in best_features:\n",
    "    print(feature_names[i])"
   ]
  },
  {
   "cell_type": "code",
   "execution_count": 312,
   "metadata": {
    "scrolled": false
   },
   "outputs": [
    {
     "data": {
      "text/plain": [
       "[<matplotlib.lines.Line2D at 0x10a3e9b9b38>]"
      ]
     },
     "execution_count": 312,
     "metadata": {},
     "output_type": "execute_result"
    },
    {
     "data": {
      "image/png": "[encoded data removed]",
      "text/plain": [
       "<matplotlib.figure.Figure at 0x10a313e24e0>"
      ]
     },
     "metadata": {
      "needs_background": "light"
     },
     "output_type": "display_data"
    }
   ],
   "source": [
    "plt.rcParams['figure.figsize']=(20,20)\n",
    "plt.plot(x,y)"
   ]
  },
  {
   "cell_type": "code",
   "execution_count": 313,
   "metadata": {},
   "outputs": [
    {
     "name": "stdout",
     "output_type": "stream",
     "text": [
      "0.3700735361062973\n"
     ]
    }
   ],
   "source": [
    "print(np.var(var_imp))"
   ]
  },
  {
   "cell_type": "code",
   "execution_count": null,
   "metadata": {},
   "outputs": [],
   "source": []
  },
  {
   "cell_type": "code",
   "execution_count": null,
   "metadata": {},
   "outputs": [],
   "source": []
  },
  {
   "cell_type": "code",
   "execution_count": null,
   "metadata": {},
   "outputs": [],
   "source": []
  },
  {
   "cell_type": "code",
   "execution_count": null,
   "metadata": {},
   "outputs": [],
   "source": []
  },
  {
   "cell_type": "code",
   "execution_count": null,
   "metadata": {},
   "outputs": [],
   "source": []
  },
  {
   "cell_type": "code",
   "execution_count": null,
   "metadata": {},
   "outputs": [],
   "source": []
  },
  {
   "cell_type": "code",
   "execution_count": null,
   "metadata": {},
   "outputs": [],
   "source": []
  },
  {
   "cell_type": "code",
   "execution_count": null,
   "metadata": {},
   "outputs": [],
   "source": []
  },
  {
   "cell_type": "code",
   "execution_count": null,
   "metadata": {},
   "outputs": [],
   "source": []
  },
  {
   "cell_type": "code",
   "execution_count": null,
   "metadata": {},
   "outputs": [],
   "source": []
  },
  {
   "cell_type": "code",
   "execution_count": null,
   "metadata": {},
   "outputs": [],
   "source": []
  },
  {
   "cell_type": "code",
   "execution_count": null,
   "metadata": {},
   "outputs": [],
   "source": []
  }
 ],
 "metadata": {
  "kernelspec": {
   "display_name": "Python 3",
   "language": "python",
   "name": "python3"
  },
  "language_info": {
   "codemirror_mode": {
    "name": "ipython",
    "version": 3
   },
   "file_extension": ".py",
   "mimetype": "text/x-python",
   "name": "python",
   "nbconvert_exporter": "python",
   "pygments_lexer": "ipython3",
   "version": "3.5.2"
  }
 },
 "nbformat": 4,
 "nbformat_minor": 2
}
