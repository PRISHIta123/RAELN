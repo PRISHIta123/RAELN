{
 "cells": [
  {
   "cell_type": "code",
   "execution_count": 1,
   "metadata": {},
   "outputs": [
    {
     "name": "stderr",
     "output_type": "stream",
     "text": [
      "c:\\users\\prishitaray\\appdata\\local\\programs\\python\\python35\\lib\\site-packages\\h5py\\__init__.py:36: FutureWarning: Conversion of the second argument of issubdtype from `float` to `np.floating` is deprecated. In future, it will be treated as `np.float64 == np.dtype(float).type`.\n",
      "  from ._conv import register_converters as _register_converters\n"
     ]
    }
   ],
   "source": [
    "import numpy as np\n",
    "import pandas as pd\n",
    "import tensorflow as tf\n",
    "import matplotlib.pyplot as plt"
   ]
  },
  {
   "cell_type": "code",
   "execution_count": 2,
   "metadata": {},
   "outputs": [],
   "source": [
    "from tensorflow.contrib.layers import fully_connected"
   ]
  },
  {
   "cell_type": "code",
   "execution_count": 3,
   "metadata": {},
   "outputs": [],
   "source": [
    "training_df=pd.read_csv(\"F://ML Paper Project//UNSW_NB15_training-set.csv\")\n",
    "testing_df=pd.read_csv(\"F://ML Paper Project//UNSW_NB15_testing-set.csv\")"
   ]
  },
  {
   "cell_type": "code",
   "execution_count": 4,
   "metadata": {},
   "outputs": [],
   "source": [
    "training_data=np.array(training_df)\n",
    "testing_data=np.array(testing_df)"
   ]
  },
  {
   "cell_type": "code",
   "execution_count": 5,
   "metadata": {},
   "outputs": [
    {
     "data": {
      "text/plain": [
       "(175341, 45)"
      ]
     },
     "execution_count": 5,
     "metadata": {},
     "output_type": "execute_result"
    }
   ],
   "source": [
    "training_data.shape"
   ]
  },
  {
   "cell_type": "code",
   "execution_count": 6,
   "metadata": {},
   "outputs": [],
   "source": [
    "training_labels=training_data[:,43]"
   ]
  },
  {
   "cell_type": "code",
   "execution_count": 7,
   "metadata": {},
   "outputs": [],
   "source": [
    "training_features=training_data[:,0:43]"
   ]
  },
  {
   "cell_type": "code",
   "execution_count": 8,
   "metadata": {},
   "outputs": [
    {
     "data": {
      "text/plain": [
       "array(['Normal', 'Normal', 'Normal', ..., 'Generic', 'Generic', 'Generic'],\n",
       "      dtype=object)"
      ]
     },
     "execution_count": 8,
     "metadata": {},
     "output_type": "execute_result"
    }
   ],
   "source": [
    "training_labels"
   ]
  },
  {
   "cell_type": "code",
   "execution_count": 9,
   "metadata": {},
   "outputs": [
    {
     "data": {
      "text/plain": [
       "array([[1, 0.121478, 'tcp', ..., 1, 1, 0],\n",
       "       [2, 0.6499020000000001, 'tcp', ..., 1, 6, 0],\n",
       "       [3, 1.623129, 'tcp', ..., 2, 6, 0],\n",
       "       ...,\n",
       "       [175339, 9e-06, 'udp', ..., 3, 12, 0],\n",
       "       [175340, 9e-06, 'udp', ..., 30, 30, 0],\n",
       "       [175341, 9e-06, 'udp', ..., 30, 30, 0]], dtype=object)"
      ]
     },
     "execution_count": 9,
     "metadata": {},
     "output_type": "execute_result"
    }
   ],
   "source": [
    "training_features"
   ]
  },
  {
   "cell_type": "code",
   "execution_count": 10,
   "metadata": {},
   "outputs": [],
   "source": [
    "#Integer Encoding Labels\n",
    "for i in range(0,len(training_labels)):\n",
    "    if training_labels[i]=='Normal':\n",
    "        training_labels[i]=0\n",
    "    elif training_labels[i]=='Fuzzers':\n",
    "        training_labels[i]=1\n",
    "    elif training_labels[i]=='Analysis':\n",
    "        training_labels[i]=2\n",
    "    elif training_labels[i]=='Backdoor':\n",
    "        training_labels[i]=3\n",
    "    elif training_labels[i]=='DoS':\n",
    "        training_labels[i]=4\n",
    "    elif training_labels[i]=='Exploits':\n",
    "        training_labels[i]=5\n",
    "    elif training_labels[i]=='Generic':\n",
    "        training_labels[i]=6\n",
    "    elif training_labels[i]=='Reconaissance':\n",
    "        training_labels[i]=7\n",
    "    elif training_labels[i]=='Shellcode':\n",
    "        training_labels[i]=8\n",
    "    elif training_labels[i]=='Worms':\n",
    "        training_labels[i]=9"
   ]
  },
  {
   "cell_type": "code",
   "execution_count": 11,
   "metadata": {},
   "outputs": [
    {
     "data": {
      "text/plain": [
       "array([0, 0, 0, ..., 6, 6, 6], dtype=object)"
      ]
     },
     "execution_count": 11,
     "metadata": {},
     "output_type": "execute_result"
    }
   ],
   "source": [
    "training_labels"
   ]
  },
  {
   "cell_type": "code",
   "execution_count": null,
   "metadata": {},
   "outputs": [],
   "source": []
  },
  {
   "cell_type": "code",
   "execution_count": null,
   "metadata": {},
   "outputs": [],
   "source": []
  },
  {
   "cell_type": "code",
   "execution_count": 12,
   "metadata": {},
   "outputs": [],
   "source": [
    "proto=np.unique(training_features[:,2])"
   ]
  },
  {
   "cell_type": "code",
   "execution_count": 13,
   "metadata": {},
   "outputs": [],
   "source": [
    "l=training_features[:,3]\n",
    "for i in range(0,len(l)):\n",
    "    if l[i]=='-':\n",
    "        l[i]=0\n",
    "    elif l[i]=='dhcp':\n",
    "        l[i]=1\n",
    "    elif l[i]=='dns':\n",
    "        l[i]=2\n",
    "    elif l[i]=='ftp':\n",
    "        l[i]=3\n",
    "    elif l[i]=='ftp-data':\n",
    "        l[i]=4\n",
    "    elif l[i]=='http':\n",
    "        l[i]=5\n",
    "    elif l[i]=='irc':\n",
    "        l[i]=6\n",
    "    elif l[i]=='pop3':\n",
    "        l[i]=7\n",
    "    elif l[i]=='radius':\n",
    "        l[i]=8\n",
    "    elif l[i]=='smtp':\n",
    "        l[i]=9\n",
    "    elif l[i]=='snmp':\n",
    "        l[i]=10\n",
    "    elif l[i]=='ssh':\n",
    "        l[i]=11\n",
    "    elif l[i]=='ssl':\n",
    "        l[i]=12\n",
    "\n",
    "training_features[:,3]=l"
   ]
  },
  {
   "cell_type": "code",
   "execution_count": 14,
   "metadata": {
    "scrolled": true
   },
   "outputs": [
    {
     "data": {
      "text/plain": [
       "array([0, 0, 0, ..., 2, 2, 2], dtype=object)"
      ]
     },
     "execution_count": 14,
     "metadata": {},
     "output_type": "execute_result"
    }
   ],
   "source": [
    "training_features[:,3]"
   ]
  },
  {
   "cell_type": "code",
   "execution_count": 15,
   "metadata": {},
   "outputs": [
    {
     "data": {
      "text/plain": [
       "array(['CON', 'ECO', 'FIN', 'INT', 'PAR', 'REQ', 'RST', 'URN', 'no'],\n",
       "      dtype=object)"
      ]
     },
     "execution_count": 15,
     "metadata": {},
     "output_type": "execute_result"
    }
   ],
   "source": [
    "np.unique(training_features[:,4])"
   ]
  },
  {
   "cell_type": "code",
   "execution_count": 16,
   "metadata": {},
   "outputs": [],
   "source": [
    "l=training_features[:,4]\n",
    "for i in range(0,len(l)):\n",
    "    if l[i]=='CON':\n",
    "        l[i]=0\n",
    "    elif l[i]=='ECO':\n",
    "        l[i]=1\n",
    "    elif l[i]=='FIN':\n",
    "        l[i]=2\n",
    "    elif l[i]=='INT':\n",
    "        l[i]=3\n",
    "    elif l[i]=='PAR':\n",
    "        l[i]=4\n",
    "    elif l[i]=='REQ':\n",
    "        l[i]=5\n",
    "    elif l[i]=='RST':\n",
    "        l[i]=6\n",
    "    elif l[i]=='URN':\n",
    "        l[i]=7\n",
    "    elif l[i]=='no':\n",
    "        l[i]=8\n",
    "\n",
    "training_features[:,4]=l"
   ]
  },
  {
   "cell_type": "code",
   "execution_count": 17,
   "metadata": {},
   "outputs": [
    {
     "data": {
      "text/plain": [
       "array([2, 2, 2, ..., 3, 3, 3], dtype=object)"
      ]
     },
     "execution_count": 17,
     "metadata": {},
     "output_type": "execute_result"
    }
   ],
   "source": [
    "training_features[:,4]"
   ]
  },
  {
   "cell_type": "code",
   "execution_count": 18,
   "metadata": {
    "scrolled": true
   },
   "outputs": [
    {
     "data": {
      "text/plain": [
       "array([[1, 0.121478, 'tcp', ..., 1, 1, 0],\n",
       "       [2, 0.6499020000000001, 'tcp', ..., 1, 6, 0],\n",
       "       [3, 1.623129, 'tcp', ..., 2, 6, 0],\n",
       "       ...,\n",
       "       [175339, 9e-06, 'udp', ..., 3, 12, 0],\n",
       "       [175340, 9e-06, 'udp', ..., 30, 30, 0],\n",
       "       [175341, 9e-06, 'udp', ..., 30, 30, 0]], dtype=object)"
      ]
     },
     "execution_count": 18,
     "metadata": {},
     "output_type": "execute_result"
    }
   ],
   "source": [
    "training_features"
   ]
  },
  {
   "cell_type": "code",
   "execution_count": 19,
   "metadata": {},
   "outputs": [
    {
     "data": {
      "text/plain": [
       "array(['3pc', 'a/n', 'aes-sp3-d', 'any', 'argus', 'aris', 'arp', 'ax.25',\n",
       "       'bbn-rcc', 'bna', 'br-sat-mon', 'cbt', 'cftp', 'chaos',\n",
       "       'compaq-peer', 'cphb', 'cpnx', 'crtp', 'crudp', 'dcn', 'ddp',\n",
       "       'ddx', 'dgp', 'egp', 'eigrp', 'emcon', 'encap', 'etherip', 'fc',\n",
       "       'fire', 'ggp', 'gmtp', 'gre', 'hmp', 'i-nlsp', 'iatp', 'ib',\n",
       "       'icmp', 'idpr', 'idpr-cmtp', 'idrp', 'ifmp', 'igmp', 'igp', 'il',\n",
       "       'ip', 'ipcomp', 'ipcv', 'ipip', 'iplt', 'ipnip', 'ippc', 'ipv6',\n",
       "       'ipv6-frag', 'ipv6-no', 'ipv6-opts', 'ipv6-route', 'ipx-n-ip',\n",
       "       'irtp', 'isis', 'iso-ip', 'iso-tp4', 'kryptolan', 'l2tp', 'larp',\n",
       "       'leaf-1', 'leaf-2', 'merit-inp', 'mfe-nsp', 'mhrp', 'micp',\n",
       "       'mobile', 'mtp', 'mux', 'narp', 'netblt', 'nsfnet-igp', 'nvp',\n",
       "       'ospf', 'pgm', 'pim', 'pipe', 'pnni', 'pri-enc', 'prm', 'ptp',\n",
       "       'pup', 'pvp', 'qnx', 'rdp', 'rsvp', 'rtp', 'rvd', 'sat-expak',\n",
       "       'sat-mon', 'sccopmce', 'scps', 'sctp', 'sdrp', 'secure-vmtp',\n",
       "       'sep', 'skip', 'sm', 'smp', 'snp', 'sprite-rpc', 'sps', 'srp',\n",
       "       'st2', 'stp', 'sun-nd', 'swipe', 'tcf', 'tcp', 'tlsp', 'tp++',\n",
       "       'trunk-1', 'trunk-2', 'ttp', 'udp', 'unas', 'uti', 'vines', 'visa',\n",
       "       'vmtp', 'vrrp', 'wb-expak', 'wb-mon', 'wsn', 'xnet', 'xns-idp',\n",
       "       'xtp', 'zero'], dtype=object)"
      ]
     },
     "execution_count": 19,
     "metadata": {},
     "output_type": "execute_result"
    }
   ],
   "source": [
    "proto"
   ]
  },
  {
   "cell_type": "code",
   "execution_count": 20,
   "metadata": {},
   "outputs": [],
   "source": [
    "d=dict.fromkeys(proto)"
   ]
  },
  {
   "cell_type": "code",
   "execution_count": 21,
   "metadata": {},
   "outputs": [],
   "source": [
    "l=d.keys()"
   ]
  },
  {
   "cell_type": "code",
   "execution_count": 22,
   "metadata": {},
   "outputs": [],
   "source": [
    "v=0\n",
    "for x in l:\n",
    "    d[x]=v\n",
    "    v=v+1"
   ]
  },
  {
   "cell_type": "code",
   "execution_count": null,
   "metadata": {},
   "outputs": [],
   "source": []
  },
  {
   "cell_type": "code",
   "execution_count": 23,
   "metadata": {},
   "outputs": [],
   "source": [
    "proto_list=training_features[:,2]\n",
    "for i in range(0,len(proto_list)):\n",
    "    for j in l:\n",
    "        if proto_list[i]==j:\n",
    "            proto_list[i]=d[j]\n",
    "\n",
    "training_features[:,2]=proto_list"
   ]
  },
  {
   "cell_type": "code",
   "execution_count": 24,
   "metadata": {},
   "outputs": [
    {
     "data": {
      "text/plain": [
       "array([[1, 0.121478, 29, ..., 1, 1, 0],\n",
       "       [2, 0.6499020000000001, 29, ..., 1, 6, 0],\n",
       "       [3, 1.623129, 29, ..., 2, 6, 0],\n",
       "       ...,\n",
       "       [175339, 9e-06, 115, ..., 3, 12, 0],\n",
       "       [175340, 9e-06, 115, ..., 30, 30, 0],\n",
       "       [175341, 9e-06, 115, ..., 30, 30, 0]], dtype=object)"
      ]
     },
     "execution_count": 24,
     "metadata": {},
     "output_type": "execute_result"
    }
   ],
   "source": [
    "training_features"
   ]
  },
  {
   "cell_type": "code",
   "execution_count": 25,
   "metadata": {},
   "outputs": [
    {
     "data": {
      "text/plain": [
       "array([29, 29, 29, ..., 115, 115, 115], dtype=object)"
      ]
     },
     "execution_count": 25,
     "metadata": {},
     "output_type": "execute_result"
    }
   ],
   "source": [
    "training_features[:,2]"
   ]
  },
  {
   "cell_type": "code",
   "execution_count": 26,
   "metadata": {},
   "outputs": [
    {
     "data": {
      "text/plain": [
       "(175341, 43)"
      ]
     },
     "execution_count": 26,
     "metadata": {},
     "output_type": "execute_result"
    }
   ],
   "source": [
    "training_features.shape"
   ]
  },
  {
   "cell_type": "code",
   "execution_count": 27,
   "metadata": {},
   "outputs": [],
   "source": [
    "std_list=[]"
   ]
  },
  {
   "cell_type": "code",
   "execution_count": 28,
   "metadata": {},
   "outputs": [],
   "source": [
    "#Perform normalization on dataset\n",
    "for i in range(0,43):\n",
    "    mean=np.mean(training_features[:,i])\n",
    "    std=np.std(training_features[:,i])\n",
    "    std_list.append(std)\n",
    "    for j in range(0,175341):\n",
    "        training_features[j][i]=(training_features[j][i]-mean)/std\n",
    "        "
   ]
  },
  {
   "cell_type": "code",
   "execution_count": 29,
   "metadata": {},
   "outputs": [
    {
     "data": {
      "text/plain": [
       "array([[-1.7320409294122083, -0.1910288091606379, -0.9907313167166802,\n",
       "        ..., -0.715713656611942, -0.7530740174877311,\n",
       "        -0.12650796304403503],\n",
       "       [-1.7320211730425332, -0.10948479464168344, -0.9907313167166802,\n",
       "        ..., -0.715713656611942, -0.28825700778157093,\n",
       "        -0.12650796304403503],\n",
       "       [-1.7320014166728581, 0.04069921785252289, -0.9907313167166802,\n",
       "        ..., -0.5955425666085573, -0.28825700778157093,\n",
       "        -0.12650796304403503],\n",
       "       ...,\n",
       "       [1.7320014166728581, -0.2097733588018406, 1.0350256394248076, ...,\n",
       "        -0.4753714766051727, 0.26952340386582113, -0.12650796304403503],\n",
       "       [1.7320211730425332, -0.2097733588018406, 1.0350256394248076, ...,\n",
       "        2.7692479534862113, 1.9428646388079973, -0.12650796304403503],\n",
       "       [1.7320409294122083, -0.2097733588018406, 1.0350256394248076, ...,\n",
       "        2.7692479534862113, 1.9428646388079973, -0.12650796304403503]],\n",
       "      dtype=object)"
      ]
     },
     "execution_count": 29,
     "metadata": {},
     "output_type": "execute_result"
    }
   ],
   "source": [
    "training_features"
   ]
  },
  {
   "cell_type": "code",
   "execution_count": 30,
   "metadata": {},
   "outputs": [
    {
     "data": {
      "text/plain": [
       "[50616.5867741659,\n",
       " 6.480230377634532,\n",
       " 42.45326653786071,\n",
       " 2.305144095553943,\n",
       " 0.8679394065384229,\n",
       " 136.88720656043952,\n",
       " 110.25795617029418,\n",
       " 174765.14594941295,\n",
       " 143653.8080748578,\n",
       " 165400.5068013864,\n",
       " 102.93971751397288,\n",
       " 110.5065480561588,\n",
       " 188356909.88190487,\n",
       " 2421305.4841721063,\n",
       " 66.00487031558049,\n",
       " 52.73284891995271,\n",
       " 7242.225189039217,\n",
       " 987.0903799600004,\n",
       " 44965.718295016995,\n",
       " 4061.0317006883483,\n",
       " 127.00066200116235,\n",
       " 1355260384.6054034,\n",
       " 1353995685.173201,\n",
       " 126.88616771391364,\n",
       " 0.07935374554184842,\n",
       " 0.043399659749737765,\n",
       " 0.040506240405952354,\n",
       " 204.67677593269065,\n",
       " 258.3163193739851,\n",
       " 0.7769085707482282,\n",
       " 54207.81271516606,\n",
       " 10.704300696224685,\n",
       " 0.9544033774218443,\n",
       " 8.052453421725263,\n",
       " 8.047081250439838,\n",
       " 5.783568568849495,\n",
       " 10.956154333405415,\n",
       " 0.12604768794778642,\n",
       " 0.12604768794778642,\n",
       " 0.7012056071913747,\n",
       " 8.321468998673767,\n",
       " 10.75692131654307,\n",
       " 0.12451518899845022]"
      ]
     },
     "execution_count": 30,
     "metadata": {},
     "output_type": "execute_result"
    }
   ],
   "source": [
    "std_list"
   ]
  },
  {
   "cell_type": "code",
   "execution_count": 31,
   "metadata": {},
   "outputs": [],
   "source": [
    "num_inputs=43\n",
    "num_hid1=22\n",
    "num_hid2=10\n",
    "num_hid3=22\n",
    "num_output=43"
   ]
  },
  {
   "cell_type": "code",
   "execution_count": null,
   "metadata": {},
   "outputs": [],
   "source": []
  },
  {
   "cell_type": "code",
   "execution_count": 231,
   "metadata": {},
   "outputs": [],
   "source": [
    "lr=0.01\n",
    "actf=tf.nn.elu"
   ]
  },
  {
   "cell_type": "code",
   "execution_count": 232,
   "metadata": {},
   "outputs": [],
   "source": [
    "X=tf.placeholder(tf.float32,shape=[None,num_inputs])"
   ]
  },
  {
   "cell_type": "code",
   "execution_count": 233,
   "metadata": {},
   "outputs": [],
   "source": [
    "initializer=tf.variance_scaling_initializer()"
   ]
  },
  {
   "cell_type": "code",
   "execution_count": 234,
   "metadata": {},
   "outputs": [],
   "source": [
    "w1=tf.Variable(initializer([num_inputs,num_hid1]),dtype=tf.float32)\n",
    "w2=tf.Variable(initializer([num_hid1,num_hid2]),dtype=tf.float32)\n",
    "w3=tf.Variable(initializer([num_hid2,num_hid3]),dtype=tf.float32)\n",
    "w4=tf.Variable(initializer([num_hid3,num_output]),dtype=tf.float32)"
   ]
  },
  {
   "cell_type": "code",
   "execution_count": 235,
   "metadata": {},
   "outputs": [],
   "source": [
    "b1=tf.Variable(tf.zeros(num_hid1))\n",
    "b2=tf.Variable(tf.zeros(num_hid2))\n",
    "b3=tf.Variable(tf.zeros(num_hid3))\n",
    "b4=tf.Variable(tf.zeros(num_output))"
   ]
  },
  {
   "cell_type": "code",
   "execution_count": 236,
   "metadata": {},
   "outputs": [],
   "source": [
    "hid_layer1=actf(tf.matmul(X,w1)+b1)\n",
    "hid_layer2=actf(tf.matmul(hid_layer1,w2)+b2)\n",
    "hid_layer3=actf(tf.matmul(hid_layer2,w3)+b3)\n",
    "output_layer=actf(tf.matmul(hid_layer3,w4)+b4)"
   ]
  },
  {
   "cell_type": "code",
   "execution_count": 237,
   "metadata": {},
   "outputs": [],
   "source": [
    "def show_hist_of_weight(all_weight_list,status='before'):\n",
    "    fig = plt.figure()\n",
    "    weight_index = 0\n",
    "\n",
    "    for i in range(1,1+int(len(all_weight_list)//3)):\n",
    "        ax = fig.add_subplot(1,4,i)\n",
    "        ax.grid(False)\n",
    "        temp_weight_list = all_weight_list[weight_index:weight_index+3]\n",
    "        for temp_index in range(len(temp_weight_list)):\n",
    "            current_flat = temp_weight_list[temp_index].flatten()\n",
    "            ax.hist(current_flat,histtype='step',bins='auto',label=str(temp_index+weight_index))\n",
    "            ax.legend()\n",
    "        ax.set_title('From Layer : '+str(weight_index+1)+' to '+str(weight_index+3))\n",
    "        weight_index = weight_index + 3\n",
    "    plt.savefig('viz/weights_'+str(status)+\"_training.png\")\n",
    "    plt.close('all')"
   ]
  },
  {
   "cell_type": "code",
   "execution_count": 238,
   "metadata": {},
   "outputs": [],
   "source": [
    "all_weights=[w1]+[w2]+[w3]+[w4]\n",
    "\n",
    "l2_regularizer=tf.contrib.layers.l2_regularizer(scale=0.005,scope=None)\n",
    "regularization_penalty=tf.contrib.layers.apply_regularization(l2_regularizer,all_weights)"
   ]
  },
  {
   "cell_type": "code",
   "execution_count": 239,
   "metadata": {},
   "outputs": [],
   "source": [
    "loss=tf.reduce_mean(tf.square(output_layer-X))"
   ]
  },
  {
   "cell_type": "code",
   "execution_count": 240,
   "metadata": {},
   "outputs": [],
   "source": [
    "optimizer=tf.train.AdamOptimizer(lr)\n",
    "train=optimizer.minimize(loss+regularization_penalty)"
   ]
  },
  {
   "cell_type": "code",
   "execution_count": 241,
   "metadata": {},
   "outputs": [],
   "source": [
    "init=tf.global_variables_initializer()"
   ]
  },
  {
   "cell_type": "code",
   "execution_count": null,
   "metadata": {},
   "outputs": [],
   "source": []
  },
  {
   "cell_type": "code",
   "execution_count": 242,
   "metadata": {},
   "outputs": [],
   "source": [
    "num_epoch=500\n",
    "batch_size=10000"
   ]
  },
  {
   "cell_type": "code",
   "execution_count": 243,
   "metadata": {},
   "outputs": [],
   "source": [
    "def next_batch(num, data):\n",
    "    '''\n",
    "    Return a total of `num` random samples \n",
    "    '''\n",
    "    idx = np.arange(0 , len(data))\n",
    "    np.random.shuffle(idx)\n",
    "    idx = idx[:num]\n",
    "    data_shuffle = [data[i] for i in idx]\n",
    "\n",
    "    return np.asarray(data_shuffle)"
   ]
  },
  {
   "cell_type": "code",
   "execution_count": 244,
   "metadata": {},
   "outputs": [],
   "source": [
    "x=[]\n",
    "y=[]\n",
    "l=[]"
   ]
  },
  {
   "cell_type": "code",
   "execution_count": 245,
   "metadata": {
    "scrolled": false
   },
   "outputs": [
    {
     "name": "stdout",
     "output_type": "stream",
     "text": [
      "epoch 0 loss 0.4200926721096039\n",
      "epoch 1 loss 0.3171050250530243\n",
      "epoch 2 loss 0.23163364827632904\n",
      "epoch 3 loss 0.203421950340271\n",
      "epoch 4 loss 0.1526818722486496\n",
      "epoch 5 loss 0.15159040689468384\n",
      "epoch 6 loss 0.13433590531349182\n",
      "epoch 7 loss 0.14315176010131836\n",
      "epoch 8 loss 0.11839531362056732\n",
      "epoch 9 loss 0.11520466953516006\n",
      "epoch 10 loss 0.1224047988653183\n",
      "epoch 11 loss 0.1157606840133667\n",
      "epoch 12 loss 0.10644055902957916\n",
      "epoch 13 loss 0.10286539047956467\n",
      "epoch 14 loss 0.10090085119009018\n",
      "epoch 15 loss 0.09564816206693649\n",
      "epoch 16 loss 0.09180312603712082\n",
      "epoch 17 loss 0.09192663431167603\n",
      "epoch 18 loss 0.09818479418754578\n",
      "epoch 19 loss 0.08784211426973343\n",
      "epoch 20 loss 0.08803606778383255\n",
      "epoch 21 loss 0.0898464024066925\n",
      "epoch 22 loss 0.08915796130895615\n",
      "epoch 23 loss 0.09149651974439621\n",
      "epoch 24 loss 0.08962110430002213\n",
      "epoch 25 loss 0.08308437466621399\n",
      "epoch 26 loss 0.08829939365386963\n",
      "epoch 27 loss 0.08963412791490555\n",
      "epoch 28 loss 0.08113415539264679\n",
      "epoch 29 loss 0.09561880677938461\n",
      "epoch 30 loss 0.08410560339689255\n",
      "epoch 31 loss 0.08108644932508469\n",
      "epoch 32 loss 0.08096875250339508\n",
      "epoch 33 loss 0.08053383231163025\n",
      "epoch 34 loss 0.07626942545175552\n",
      "epoch 35 loss 0.07534081488847733\n",
      "epoch 36 loss 0.07669391483068466\n",
      "epoch 37 loss 0.07503249496221542\n",
      "epoch 38 loss 0.0861467495560646\n",
      "epoch 39 loss 0.07072843611240387\n",
      "epoch 40 loss 0.08182418346405029\n",
      "epoch 41 loss 0.07755031436681747\n",
      "epoch 42 loss 0.08235590159893036\n",
      "epoch 43 loss 0.07160486280918121\n",
      "epoch 44 loss 0.0780290886759758\n",
      "epoch 45 loss 0.07638800889253616\n",
      "epoch 46 loss 0.07555554062128067\n",
      "epoch 47 loss 0.07753477245569229\n",
      "epoch 48 loss 0.07493956387042999\n",
      "epoch 49 loss 0.08061008155345917\n",
      "epoch 50 loss 0.0787675529718399\n",
      "epoch 51 loss 0.0810852125287056\n",
      "epoch 52 loss 0.07352916896343231\n",
      "epoch 53 loss 0.08328627049922943\n",
      "epoch 54 loss 0.08143015205860138\n",
      "epoch 55 loss 0.07553589344024658\n",
      "epoch 56 loss 0.07698000222444534\n",
      "epoch 57 loss 0.0905865728855133\n",
      "epoch 58 loss 0.0705081969499588\n",
      "epoch 59 loss 0.07527018338441849\n",
      "epoch 60 loss 0.07597095519304276\n",
      "epoch 61 loss 0.0732039138674736\n",
      "epoch 62 loss 0.08073782920837402\n",
      "epoch 63 loss 0.07498887926340103\n",
      "epoch 64 loss 0.07202060520648956\n",
      "epoch 65 loss 0.07473994046449661\n",
      "epoch 66 loss 0.07575175166130066\n",
      "epoch 67 loss 0.07768511027097702\n",
      "epoch 68 loss 0.07329025119543076\n",
      "epoch 69 loss 0.0736253559589386\n",
      "epoch 70 loss 0.06949858367443085\n",
      "epoch 71 loss 0.0719066634774208\n",
      "epoch 72 loss 0.06973521411418915\n",
      "epoch 73 loss 0.07528875023126602\n",
      "epoch 74 loss 0.07847811281681061\n",
      "epoch 75 loss 0.07434684038162231\n",
      "epoch 76 loss 0.0717262402176857\n",
      "epoch 77 loss 0.06921053677797318\n",
      "epoch 78 loss 0.07385638356208801\n",
      "epoch 79 loss 0.07315639406442642\n",
      "epoch 80 loss 0.06624328345060349\n",
      "epoch 81 loss 0.07102987915277481\n",
      "epoch 82 loss 0.0693357065320015\n",
      "epoch 83 loss 0.069404736161232\n",
      "epoch 84 loss 0.07298009097576141\n",
      "epoch 85 loss 0.0717243030667305\n",
      "epoch 86 loss 0.07087691873311996\n",
      "epoch 87 loss 0.07199728488922119\n",
      "epoch 88 loss 0.07085153460502625\n",
      "epoch 89 loss 0.06745386868715286\n",
      "epoch 90 loss 0.07143299281597137\n",
      "epoch 91 loss 0.06813885271549225\n",
      "epoch 92 loss 0.06906548887491226\n",
      "epoch 93 loss 0.06952117383480072\n",
      "epoch 94 loss 0.07126684486865997\n",
      "epoch 95 loss 0.07022146880626678\n",
      "epoch 96 loss 0.06903693825006485\n",
      "epoch 97 loss 0.06897881627082825\n",
      "epoch 98 loss 0.07109253108501434\n",
      "epoch 99 loss 0.06863343715667725\n",
      "epoch 100 loss 0.06850060075521469\n",
      "epoch 101 loss 0.06971835345029831\n",
      "epoch 102 loss 0.0676863044500351\n",
      "epoch 103 loss 0.06845559924840927\n",
      "epoch 104 loss 0.06793179363012314\n",
      "epoch 105 loss 0.06803064793348312\n",
      "epoch 106 loss 0.07302869111299515\n",
      "epoch 107 loss 0.07234936207532883\n",
      "epoch 108 loss 0.06984977424144745\n",
      "epoch 109 loss 0.06988842040300369\n",
      "epoch 110 loss 0.06680092960596085\n",
      "epoch 111 loss 0.06518545746803284\n",
      "epoch 112 loss 0.0699271485209465\n",
      "epoch 113 loss 0.06739979237318039\n",
      "epoch 114 loss 0.07075325399637222\n",
      "epoch 115 loss 0.0714564397931099\n",
      "epoch 116 loss 0.07139769941568375\n",
      "epoch 117 loss 0.07095366716384888\n",
      "epoch 118 loss 0.06756006181240082\n",
      "epoch 119 loss 0.06829971075057983\n",
      "epoch 120 loss 0.06991808116436005\n",
      "epoch 121 loss 0.06511484086513519\n",
      "epoch 122 loss 0.06987832486629486\n",
      "epoch 123 loss 0.0711626335978508\n",
      "epoch 124 loss 0.06627920269966125\n",
      "epoch 125 loss 0.0668117105960846\n",
      "epoch 126 loss 0.06874799728393555\n",
      "epoch 127 loss 0.06437544524669647\n",
      "epoch 128 loss 0.06645137071609497\n",
      "epoch 129 loss 0.06938166171312332\n",
      "epoch 130 loss 0.06754235178232193\n",
      "epoch 131 loss 0.07016471028327942\n",
      "epoch 132 loss 0.07092905789613724\n",
      "epoch 133 loss 0.06889043748378754\n",
      "epoch 134 loss 0.07121608406305313\n",
      "epoch 135 loss 0.07078463584184647\n",
      "epoch 136 loss 0.06548826396465302\n",
      "epoch 137 loss 0.06769496947526932\n",
      "epoch 138 loss 0.0673193708062172\n",
      "epoch 139 loss 0.06723866611719131\n",
      "epoch 140 loss 0.07093502581119537\n",
      "epoch 141 loss 0.06989031285047531\n",
      "epoch 142 loss 0.06990566849708557\n",
      "epoch 143 loss 0.06926125288009644\n",
      "epoch 144 loss 0.08150998502969742\n",
      "epoch 145 loss 0.0702790766954422\n",
      "epoch 146 loss 0.06847374886274338\n",
      "epoch 147 loss 0.06539082527160645\n",
      "epoch 148 loss 0.06497451663017273\n",
      "epoch 149 loss 0.07059959322214127\n",
      "epoch 150 loss 0.06820359826087952\n",
      "epoch 151 loss 0.06614452600479126\n",
      "epoch 152 loss 0.0778273418545723\n",
      "epoch 153 loss 0.06765381246805191\n",
      "epoch 154 loss 0.06559091806411743\n",
      "epoch 155 loss 0.06762174516916275\n",
      "epoch 156 loss 0.06587831676006317\n",
      "epoch 157 loss 0.07053294777870178\n",
      "epoch 158 loss 0.06853874772787094\n",
      "epoch 159 loss 0.06928014755249023\n",
      "epoch 160 loss 0.07160400599241257\n",
      "epoch 161 loss 0.06612624228000641\n",
      "epoch 162 loss 0.06513188779354095\n",
      "epoch 163 loss 0.07402746379375458\n",
      "epoch 164 loss 0.06901311874389648\n",
      "epoch 165 loss 0.06863230466842651\n",
      "epoch 166 loss 0.0669126883149147\n",
      "epoch 167 loss 0.06661854684352875\n",
      "epoch 168 loss 0.06567216664552689\n",
      "epoch 169 loss 0.0671527162194252\n",
      "epoch 170 loss 0.06710079312324524\n",
      "epoch 171 loss 0.07856965065002441\n",
      "epoch 172 loss 0.07033777981996536\n",
      "epoch 173 loss 0.07078287750482559\n",
      "epoch 174 loss 0.07033933699131012\n",
      "epoch 175 loss 0.0671612098813057\n",
      "epoch 176 loss 0.06932207196950912\n",
      "epoch 177 loss 0.06888029724359512\n",
      "epoch 178 loss 0.06665412336587906\n",
      "epoch 179 loss 0.06556724011898041\n",
      "epoch 180 loss 0.06812769919633865\n",
      "epoch 181 loss 0.06743256002664566\n",
      "epoch 182 loss 0.06553740799427032\n",
      "epoch 183 loss 0.06625669449567795\n",
      "epoch 184 loss 0.06616315245628357\n",
      "epoch 185 loss 0.06777244061231613\n",
      "epoch 186 loss 0.06986867636442184\n",
      "epoch 187 loss 0.06543442606925964\n",
      "epoch 188 loss 0.06459588557481766\n",
      "epoch 189 loss 0.06515347212553024\n",
      "epoch 190 loss 0.06650318205356598\n",
      "epoch 191 loss 0.06730147451162338\n",
      "epoch 192 loss 0.07000523805618286\n",
      "epoch 193 loss 0.06526578217744827\n",
      "epoch 194 loss 0.06597162038087845\n",
      "epoch 195 loss 0.06561144441366196\n",
      "epoch 196 loss 0.06707239151000977\n",
      "epoch 197 loss 0.06928641349077225\n",
      "epoch 198 loss 0.0673656240105629\n",
      "epoch 199 loss 0.06559130549430847\n",
      "epoch 200 loss 0.06976931542158127\n",
      "epoch 201 loss 0.06691300868988037\n",
      "epoch 202 loss 0.06750369071960449\n",
      "epoch 203 loss 0.07542123645544052\n",
      "epoch 204 loss 0.06471726298332214\n",
      "epoch 205 loss 0.07440752536058426\n",
      "epoch 206 loss 0.06303488463163376\n",
      "epoch 207 loss 0.06863507628440857\n",
      "epoch 208 loss 0.0676550567150116\n",
      "epoch 209 loss 0.06416549533605576\n",
      "epoch 210 loss 0.06719597429037094\n",
      "epoch 211 loss 0.06748796254396439\n",
      "epoch 212 loss 0.06833800673484802\n",
      "epoch 213 loss 0.06906851381063461\n",
      "epoch 214 loss 0.06910717487335205\n",
      "epoch 215 loss 0.06331946700811386\n",
      "epoch 216 loss 0.06688448041677475\n",
      "epoch 217 loss 0.06392248719930649\n",
      "epoch 218 loss 0.06620591133832932\n",
      "epoch 219 loss 0.06844993680715561\n",
      "epoch 220 loss 0.06810428947210312\n",
      "epoch 221 loss 0.06736785918474197\n",
      "epoch 222 loss 0.06738333404064178\n",
      "epoch 223 loss 0.06918153911828995\n",
      "epoch 224 loss 0.06510603427886963\n",
      "epoch 225 loss 0.06491924822330475\n",
      "epoch 226 loss 0.0650080069899559\n",
      "epoch 227 loss 0.06310831755399704\n",
      "epoch 228 loss 0.06607898324728012\n",
      "epoch 229 loss 0.06723415106534958\n",
      "epoch 230 loss 0.06488768756389618\n",
      "epoch 231 loss 0.07163897901773453\n",
      "epoch 232 loss 0.0648101270198822\n",
      "epoch 233 loss 0.06751464307308197\n",
      "epoch 234 loss 0.0650554895401001\n",
      "epoch 235 loss 0.06705880165100098\n",
      "epoch 236 loss 0.06628702580928802\n",
      "epoch 237 loss 0.06747760623693466\n",
      "epoch 238 loss 0.06432737410068512\n"
     ]
    },
    {
     "name": "stdout",
     "output_type": "stream",
     "text": [
      "epoch 239 loss 0.0627206340432167\n",
      "epoch 240 loss 0.06703486293554306\n",
      "epoch 241 loss 0.06894069910049438\n",
      "epoch 242 loss 0.06510579586029053\n",
      "epoch 243 loss 0.06662923842668533\n",
      "epoch 244 loss 0.06505289673805237\n",
      "epoch 245 loss 0.06590177863836288\n",
      "epoch 246 loss 0.0628974437713623\n",
      "epoch 247 loss 0.06839484721422195\n",
      "epoch 248 loss 0.06606132537126541\n",
      "epoch 249 loss 0.06362474709749222\n",
      "epoch 250 loss 0.0642637237906456\n",
      "epoch 251 loss 0.06264101713895798\n",
      "epoch 252 loss 0.062098726630210876\n",
      "epoch 253 loss 0.06555990129709244\n",
      "epoch 254 loss 0.06389536708593369\n",
      "epoch 255 loss 0.06677645444869995\n",
      "epoch 256 loss 0.07114192843437195\n",
      "epoch 257 loss 0.06554122269153595\n",
      "epoch 258 loss 0.07184358686208725\n",
      "epoch 259 loss 0.06513809412717819\n",
      "epoch 260 loss 0.0650668516755104\n",
      "epoch 261 loss 0.0643821433186531\n",
      "epoch 262 loss 0.0644717812538147\n",
      "epoch 263 loss 0.06519102305173874\n",
      "epoch 264 loss 0.0653892382979393\n",
      "epoch 265 loss 0.06656786799430847\n",
      "epoch 266 loss 0.06844858825206757\n",
      "epoch 267 loss 0.06337928771972656\n",
      "epoch 268 loss 0.07547679543495178\n",
      "epoch 269 loss 0.06577633321285248\n",
      "epoch 270 loss 0.06107747182250023\n",
      "epoch 271 loss 0.06437946110963821\n",
      "epoch 272 loss 0.06798891723155975\n",
      "epoch 273 loss 0.06717837601900101\n",
      "epoch 274 loss 0.06497204303741455\n",
      "epoch 275 loss 0.06813635677099228\n",
      "epoch 276 loss 0.06393516808748245\n",
      "epoch 277 loss 0.0679738000035286\n",
      "epoch 278 loss 0.0665229931473732\n",
      "epoch 279 loss 0.06572262197732925\n",
      "epoch 280 loss 0.07247380912303925\n",
      "epoch 281 loss 0.06957726925611496\n",
      "epoch 282 loss 0.06503286957740784\n",
      "epoch 283 loss 0.0641472190618515\n",
      "epoch 284 loss 0.06393678486347198\n",
      "epoch 285 loss 0.070649154484272\n",
      "epoch 286 loss 0.061283692717552185\n",
      "epoch 287 loss 0.06374290585517883\n",
      "epoch 288 loss 0.0648258626461029\n",
      "epoch 289 loss 0.06361465901136398\n",
      "epoch 290 loss 0.06230318918824196\n",
      "epoch 291 loss 0.06668970733880997\n",
      "epoch 292 loss 0.06829784065485\n",
      "epoch 293 loss 0.06623556464910507\n",
      "epoch 294 loss 0.06491903215646744\n",
      "epoch 295 loss 0.06567340344190598\n",
      "epoch 296 loss 0.06190545856952667\n",
      "epoch 297 loss 0.06562826782464981\n",
      "epoch 298 loss 0.06549253314733505\n",
      "epoch 299 loss 0.06362421810626984\n",
      "epoch 300 loss 0.06898386776447296\n",
      "epoch 301 loss 0.07016947120428085\n",
      "epoch 302 loss 0.06359561532735825\n",
      "epoch 303 loss 0.06666117161512375\n",
      "epoch 304 loss 0.06509080529212952\n",
      "epoch 305 loss 0.06915254145860672\n",
      "epoch 306 loss 0.06718586385250092\n",
      "epoch 307 loss 0.06353574991226196\n",
      "epoch 308 loss 0.0780954360961914\n",
      "epoch 309 loss 0.06492270529270172\n",
      "epoch 310 loss 0.06423424929380417\n",
      "epoch 311 loss 0.0762747973203659\n",
      "epoch 312 loss 0.06265561282634735\n",
      "epoch 313 loss 0.06527411937713623\n",
      "epoch 314 loss 0.07384438812732697\n",
      "epoch 315 loss 0.06159829720854759\n",
      "epoch 316 loss 0.0627141147851944\n",
      "epoch 317 loss 0.06232079491019249\n",
      "epoch 318 loss 0.06746551394462585\n",
      "epoch 319 loss 0.07012384384870529\n",
      "epoch 320 loss 0.07058820873498917\n",
      "epoch 321 loss 0.06501355767250061\n",
      "epoch 322 loss 0.06259167194366455\n",
      "epoch 323 loss 0.06263745576143265\n",
      "epoch 324 loss 0.06545858830213547\n",
      "epoch 325 loss 0.06628649681806564\n",
      "epoch 326 loss 0.07196054607629776\n",
      "epoch 327 loss 0.06954135745763779\n",
      "epoch 328 loss 0.06680797040462494\n",
      "epoch 329 loss 0.06469105929136276\n",
      "epoch 330 loss 0.06816647946834564\n",
      "epoch 331 loss 0.06544376909732819\n",
      "epoch 332 loss 0.0626559630036354\n",
      "epoch 333 loss 0.06548403948545456\n",
      "epoch 334 loss 0.0601273737847805\n",
      "epoch 335 loss 0.06614237278699875\n",
      "epoch 336 loss 0.06267042458057404\n",
      "epoch 337 loss 0.06412011384963989\n",
      "epoch 338 loss 0.06264083832502365\n",
      "epoch 339 loss 0.06387437134981155\n",
      "epoch 340 loss 0.06342393159866333\n",
      "epoch 341 loss 0.06382515281438828\n",
      "epoch 342 loss 0.06658974289894104\n",
      "epoch 343 loss 0.06276345998048782\n",
      "epoch 344 loss 0.06511266529560089\n",
      "epoch 345 loss 0.06735417991876602\n",
      "epoch 346 loss 0.06602966785430908\n",
      "epoch 347 loss 0.06318393349647522\n",
      "epoch 348 loss 0.06736434996128082\n",
      "epoch 349 loss 0.06334834545850754\n",
      "epoch 350 loss 0.06937261670827866\n",
      "epoch 351 loss 0.0655626729130745\n",
      "epoch 352 loss 0.06583299487829208\n",
      "epoch 353 loss 0.06656111031770706\n",
      "epoch 354 loss 0.06355363130569458\n",
      "epoch 355 loss 0.06757691502571106\n",
      "epoch 356 loss 0.06587208062410355\n",
      "epoch 357 loss 0.06423354148864746\n",
      "epoch 358 loss 0.06448093056678772\n",
      "epoch 359 loss 0.06842221319675446\n",
      "epoch 360 loss 0.06387241184711456\n",
      "epoch 361 loss 0.06451985985040665\n",
      "epoch 362 loss 0.0688691958785057\n",
      "epoch 363 loss 0.06392914056777954\n",
      "epoch 364 loss 0.06529592722654343\n",
      "epoch 365 loss 0.06305272877216339\n",
      "epoch 366 loss 0.06567567586898804\n",
      "epoch 367 loss 0.06454850733280182\n",
      "epoch 368 loss 0.06799855828285217\n",
      "epoch 369 loss 0.0631527230143547\n",
      "epoch 370 loss 0.06447397172451019\n",
      "epoch 371 loss 0.06282777339220047\n",
      "epoch 372 loss 0.06343398243188858\n",
      "epoch 373 loss 0.06196744367480278\n",
      "epoch 374 loss 0.0652797669172287\n",
      "epoch 375 loss 0.06463363021612167\n",
      "epoch 376 loss 0.06373442709445953\n",
      "epoch 377 loss 0.06297348439693451\n",
      "epoch 378 loss 0.06336473673582077\n",
      "epoch 379 loss 0.06346714496612549\n",
      "epoch 380 loss 0.0652308538556099\n",
      "epoch 381 loss 0.06403608620166779\n",
      "epoch 382 loss 0.06852179020643234\n",
      "epoch 383 loss 0.06582246720790863\n",
      "epoch 384 loss 0.06667669117450714\n",
      "epoch 385 loss 0.061105597764253616\n",
      "epoch 386 loss 0.06803598999977112\n",
      "epoch 387 loss 0.06883902847766876\n",
      "epoch 388 loss 0.06536310166120529\n",
      "epoch 389 loss 0.06679560244083405\n",
      "epoch 390 loss 0.06582006812095642\n",
      "epoch 391 loss 0.06756175309419632\n",
      "epoch 392 loss 0.06280753761529922\n",
      "epoch 393 loss 0.06383206695318222\n",
      "epoch 394 loss 0.06245402619242668\n",
      "epoch 395 loss 0.0652192085981369\n",
      "epoch 396 loss 0.06297653168439865\n",
      "epoch 397 loss 0.06366139650344849\n",
      "epoch 398 loss 0.07315206527709961\n",
      "epoch 399 loss 0.061650462448596954\n",
      "epoch 400 loss 0.06343685835599899\n",
      "epoch 401 loss 0.07338354736566544\n",
      "epoch 402 loss 0.06504658609628677\n",
      "epoch 403 loss 0.06438390910625458\n",
      "epoch 404 loss 0.06827694177627563\n",
      "epoch 405 loss 0.06405662000179291\n",
      "epoch 406 loss 0.0625821128487587\n",
      "epoch 407 loss 0.06344553828239441\n",
      "epoch 408 loss 0.06489284336566925\n",
      "epoch 409 loss 0.06462203711271286\n",
      "epoch 410 loss 0.06749701499938965\n",
      "epoch 411 loss 0.06125752627849579\n",
      "epoch 412 loss 0.06380381435155869\n",
      "epoch 413 loss 0.0642884373664856\n",
      "epoch 414 loss 0.06721130758523941\n",
      "epoch 415 loss 0.06201625242829323\n",
      "epoch 416 loss 0.06476056575775146\n",
      "epoch 417 loss 0.06118759885430336\n",
      "epoch 418 loss 0.06348588317632675\n",
      "epoch 419 loss 0.06116805225610733\n",
      "epoch 420 loss 0.06701256334781647\n",
      "epoch 421 loss 0.06282398104667664\n",
      "epoch 422 loss 0.0648169219493866\n",
      "epoch 423 loss 0.061020899564027786\n",
      "epoch 424 loss 0.06311089545488358\n",
      "epoch 425 loss 0.06692304462194443\n",
      "epoch 426 loss 0.06385154277086258\n",
      "epoch 427 loss 0.06289584189653397\n",
      "epoch 428 loss 0.06555965542793274\n",
      "epoch 429 loss 0.06351489573717117\n",
      "epoch 430 loss 0.06878212839365005\n",
      "epoch 431 loss 0.06508610397577286\n",
      "epoch 432 loss 0.06497025489807129\n",
      "epoch 433 loss 0.06284362077713013\n",
      "epoch 434 loss 0.06323737651109695\n",
      "epoch 435 loss 0.06443697959184647\n",
      "epoch 436 loss 0.06528076529502869\n",
      "epoch 437 loss 0.06647467613220215\n",
      "epoch 438 loss 0.06248136982321739\n",
      "epoch 439 loss 0.0604250468313694\n",
      "epoch 440 loss 0.06743290275335312\n",
      "epoch 441 loss 0.05967125669121742\n",
      "epoch 442 loss 0.06304013729095459\n",
      "epoch 443 loss 0.06487974524497986\n",
      "epoch 444 loss 0.06938610970973969\n",
      "epoch 445 loss 0.06684108078479767\n",
      "epoch 446 loss 0.06266670674085617\n",
      "epoch 447 loss 0.06281428039073944\n",
      "epoch 448 loss 0.06529949605464935\n",
      "epoch 449 loss 0.06555154174566269\n",
      "epoch 450 loss 0.06631122529506683\n",
      "epoch 451 loss 0.06510723382234573\n",
      "epoch 452 loss 0.06051231920719147\n",
      "epoch 453 loss 0.06274250894784927\n",
      "epoch 454 loss 0.06335443258285522\n",
      "epoch 455 loss 0.06957349181175232\n",
      "epoch 456 loss 0.06701040267944336\n",
      "epoch 457 loss 0.06734758615493774\n",
      "epoch 458 loss 0.0635540708899498\n",
      "epoch 459 loss 0.06521156430244446\n",
      "epoch 460 loss 0.06541070342063904\n",
      "epoch 461 loss 0.06414620578289032\n",
      "epoch 462 loss 0.062444694340229034\n",
      "epoch 463 loss 0.06376522779464722\n",
      "epoch 464 loss 0.060499418526887894\n",
      "epoch 465 loss 0.06544053554534912\n",
      "epoch 466 loss 0.06370434165000916\n",
      "epoch 467 loss 0.06317023932933807\n",
      "epoch 468 loss 0.06593535840511322\n",
      "epoch 469 loss 0.05925804749131203\n",
      "epoch 470 loss 0.06277278065681458\n",
      "epoch 471 loss 0.06215939298272133\n",
      "epoch 472 loss 0.06434348970651627\n",
      "epoch 473 loss 0.06165324151515961\n"
     ]
    },
    {
     "name": "stdout",
     "output_type": "stream",
     "text": [
      "epoch 474 loss 0.06086455658078194\n",
      "epoch 475 loss 0.06262661516666412\n",
      "epoch 476 loss 0.06428685039281845\n",
      "epoch 477 loss 0.06275886297225952\n",
      "epoch 478 loss 0.06132291629910469\n",
      "epoch 479 loss 0.06322737783193588\n",
      "epoch 480 loss 0.06490501761436462\n",
      "epoch 481 loss 0.062085289508104324\n",
      "epoch 482 loss 0.0653952956199646\n",
      "epoch 483 loss 0.0601101890206337\n",
      "epoch 484 loss 0.06830017268657684\n",
      "epoch 485 loss 0.0634952262043953\n",
      "epoch 486 loss 0.06766372919082642\n",
      "epoch 487 loss 0.0638732761144638\n",
      "epoch 488 loss 0.06554929912090302\n",
      "epoch 489 loss 0.06416545808315277\n",
      "epoch 490 loss 0.06169300526380539\n",
      "epoch 491 loss 0.06094443053007126\n",
      "epoch 492 loss 0.06321266293525696\n",
      "epoch 493 loss 0.06145205348730087\n",
      "epoch 494 loss 0.0644853338599205\n",
      "epoch 495 loss 0.06474171578884125\n",
      "epoch 496 loss 0.06608131527900696\n",
      "epoch 497 loss 0.06504277139902115\n",
      "epoch 498 loss 0.06376521289348602\n",
      "epoch 499 loss 0.06403468549251556\n",
      "[[-2.50396371e-01  1.94945815e-03 -1.25433132e-01  2.22786829e-01\n",
      "   1.90158099e-01  7.44384974e-02 -9.97872502e-02  1.32328004e-01\n",
      "   1.52495041e-01  2.05370292e-01 -3.72400582e-02  7.77392760e-02\n",
      "   5.96255064e-03  9.95022431e-02 -4.46075946e-02  1.40695482e-01\n",
      "  -2.12129578e-01 -5.98245533e-03  1.24965169e-01 -3.32558565e-02\n",
      "  -5.74288778e-02  2.32905447e-01]\n",
      " [-5.94053604e-02 -7.40540624e-02  2.46806396e-03  1.02308765e-01\n",
      "   2.01985270e-01  8.57041217e-03 -8.80497470e-02  2.66743660e-01\n",
      "   4.06689011e-02 -4.89855884e-03  6.27552683e-04 -9.98349562e-02\n",
      "  -7.87746534e-03  4.28308062e-02  1.54882088e-01 -1.37918860e-01\n",
      "   1.96689561e-01 -6.24135993e-02  5.64256981e-02 -1.38078749e-01\n",
      "  -1.34749621e-01  2.35351205e-01]\n",
      " [-2.34199166e-01  1.49258533e-02 -1.03870578e-01  2.12884545e-02\n",
      "  -1.84757747e-02 -1.08036309e-01  1.22632403e-02  1.99599087e-01\n",
      "  -9.16257501e-02 -5.76697923e-02 -1.27703100e-01  1.05779888e-02\n",
      "  -5.56620173e-02  1.04813147e-02 -1.73145626e-02 -5.51042939e-03\n",
      "   5.40263578e-02 -1.84623320e-02  1.35418758e-01  1.99078396e-01\n",
      "   2.00045407e-02  1.23694658e-01]\n",
      " [-1.04293071e-01  6.42513186e-02 -8.58803913e-02  1.19413897e-01\n",
      "   7.24085374e-03  6.17185012e-02  2.33970955e-01  1.61632568e-01\n",
      "  -4.66745533e-02 -7.37672076e-02  1.72867358e-01 -1.37183264e-01\n",
      "  -9.18961242e-02 -1.19054720e-01  8.00655186e-02  6.68874756e-02\n",
      "   1.68706849e-01  1.88176155e-01  1.85420021e-01  1.22362942e-01\n",
      "  -2.12683957e-02  2.43939576e-03]\n",
      " [-9.35518369e-03  1.36893928e-01  1.15595840e-01 -1.79149602e-02\n",
      "   1.86816826e-01 -1.59446970e-01 -1.00894585e-01 -1.96656108e-01\n",
      "   1.90804124e-01 -1.56924531e-01 -7.48306066e-02 -2.82019585e-01\n",
      "   1.22395597e-01  1.13697527e-02  1.18782781e-01  5.03885895e-02\n",
      "   9.40130726e-02  1.48765415e-01  7.58981286e-03  1.20999739e-01\n",
      "   6.48909733e-02 -7.63483122e-02]\n",
      " [ 1.71736941e-01  4.18194234e-02 -2.42488608e-01  7.56702498e-02\n",
      "  -7.00045750e-02  9.08271074e-02  1.42301768e-01 -6.21409453e-02\n",
      "  -2.97910273e-01  4.20124903e-02  1.55791774e-01  9.43351090e-02\n",
      "  -1.57569796e-01  1.66167408e-01  6.53077289e-02  1.83643520e-01\n",
      "  -1.56084374e-01  4.02088203e-02  1.42112570e-02  8.62138495e-02\n",
      "  -1.30984217e-01 -2.14959532e-02]\n",
      " [-9.45884287e-02 -1.28184319e-01 -2.67545044e-01 -1.00214504e-01\n",
      "  -7.70119354e-02  5.30374162e-02 -1.81776881e-01  2.48710234e-02\n",
      "  -4.30709161e-02  1.36888176e-01 -1.14305407e-01  4.70509082e-02\n",
      "  -1.50943100e-01 -1.45340025e-01 -2.52788235e-02 -3.93406302e-02\n",
      "   1.74200937e-01  4.39054109e-02 -2.74067163e-01 -1.57856911e-01\n",
      "   2.45535851e-01  7.89134949e-02]\n",
      " [ 2.56741762e-01 -2.54091680e-01 -1.80339247e-01 -1.81943014e-01\n",
      "  -1.80698216e-01  1.03293464e-01 -1.56445384e-01  1.08296618e-01\n",
      "  -3.44135426e-02 -6.10712394e-02 -1.58420190e-01  1.59401432e-01\n",
      "   1.96576431e-01  8.00463408e-02 -6.60271617e-03  2.85019308e-01\n",
      "  -5.29760532e-02 -5.31325601e-02 -1.14590637e-01 -9.01617929e-02\n",
      "   7.81764984e-02  1.25484914e-01]\n",
      " [-2.09432654e-02  8.05019736e-02  7.11799189e-02 -1.07083187e-01\n",
      "   4.20465320e-03  1.99628487e-01  1.82919785e-01  1.60648383e-03\n",
      "  -7.91250076e-03  1.95116829e-02  4.56702560e-02 -2.44592905e-01\n",
      "   1.64214969e-01  9.46396738e-02  2.45943666e-02 -4.93981205e-02\n",
      "   6.30387068e-02  1.57052483e-02  1.45475268e-01  8.69574249e-02\n",
      "   1.64087832e-01 -1.79592833e-01]\n",
      " [-1.59583949e-02 -6.43722638e-02 -8.26071203e-02  2.58298934e-01\n",
      "  -2.33067855e-01 -8.15673545e-02  2.45765701e-01 -2.10122421e-01\n",
      "  -8.44098479e-02 -1.04211465e-01  2.34505579e-01  1.03648566e-01\n",
      "  -1.20550126e-01 -7.58661330e-02 -5.53569719e-02 -1.27747133e-01\n",
      "   2.25369319e-01 -1.08847551e-01 -1.39464378e-01  1.34959996e-01\n",
      "  -2.52906561e-01  1.55556634e-01]\n",
      " [ 1.21926263e-01 -1.72509700e-01 -1.94054738e-01  1.18734753e-02\n",
      "  -1.21598825e-01  2.59784579e-01  9.59599614e-02 -2.16936409e-01\n",
      "   1.47401514e-02  2.31100470e-01  1.31707400e-01 -2.97292501e-01\n",
      "  -7.75280455e-03  2.25052610e-02 -6.25671959e-03 -3.23331589e-03\n",
      "   3.73449028e-02  1.07130751e-01 -1.15156002e-01  7.04427809e-02\n",
      "  -6.84526712e-02  2.01223115e-03]\n",
      " [-2.09550247e-01  6.57293797e-02  2.07906365e-01  1.41029403e-01\n",
      "  -1.74752623e-01 -8.61272961e-02 -2.23654453e-02  3.27212885e-02\n",
      "  -1.07709095e-02  1.77518427e-01  6.24608584e-02 -1.00643337e-01\n",
      "   1.97965443e-01  1.44571766e-01 -1.08112596e-01 -3.36948074e-02\n",
      "   1.18709162e-01  3.23336199e-02 -2.52368748e-01 -1.10981219e-01\n",
      "   8.68519694e-02  1.18982054e-01]\n",
      " [-2.17081562e-01 -1.80938005e-01 -5.01818955e-03 -1.46907093e-02\n",
      "  -1.77173644e-01 -1.91181943e-01  1.45276517e-01 -8.05254094e-03\n",
      "  -1.77241623e-01 -1.13973349e-01 -1.54167071e-01 -5.39669469e-02\n",
      "  -3.53912488e-02  4.63915244e-02  5.18581085e-02  1.29922144e-02\n",
      "  -9.68773812e-02 -1.64611056e-01 -6.54440001e-02 -2.55000908e-02\n",
      "   5.35712205e-02  1.29566446e-01]\n",
      " [-2.91829854e-01 -2.71480709e-01  1.17769474e-02 -4.47144210e-02\n",
      "  -2.13554457e-01 -1.31037906e-01 -3.52061614e-02 -1.54360294e-01\n",
      "  -6.31987303e-02 -1.43712983e-01 -1.64015636e-01 -1.04591794e-01\n",
      "   1.38153940e-01 -7.27634132e-03 -2.86638718e-02  4.31583375e-02\n",
      "   1.27224669e-01 -7.92805925e-02 -3.18467170e-02 -7.39884898e-02\n",
      "   9.21087489e-02  1.60778500e-02]\n",
      " [ 3.05342972e-02 -1.25237226e-01  1.71242163e-01  1.26093984e-01\n",
      "   2.03976959e-01 -2.67487541e-02  1.22294739e-01  3.53910439e-02\n",
      "  -8.79367664e-02 -1.83332399e-01 -4.77234982e-02  1.71277523e-01\n",
      "   1.88402489e-01 -2.95005776e-02 -1.56828254e-01 -2.98103064e-01\n",
      "  -1.41284287e-01 -4.54001948e-02 -2.01170176e-01 -1.94609910e-01\n",
      "  -5.69465607e-02  2.99176276e-01]\n",
      " [ 7.85938129e-02 -2.18852032e-02 -2.10338265e-01 -1.83902889e-01\n",
      "  -3.71389911e-02 -1.89316124e-01  9.89033729e-02  4.22494523e-02\n",
      "   7.57213533e-02 -1.09795388e-02 -3.32332705e-03 -3.36114690e-02\n",
      "  -2.33166516e-02 -5.33460565e-02 -1.54734388e-01 -8.77506137e-02\n",
      "   7.69132450e-02  1.79292429e-02  2.60505378e-01 -5.65004274e-02\n",
      "   7.33680725e-02 -9.12455320e-02]\n",
      " [ 8.59099030e-02 -1.35863302e-02 -6.76426440e-02 -4.19097170e-02\n",
      "  -5.75917400e-02  5.85400462e-02  2.49115258e-01  1.10119812e-01\n",
      "   9.35042370e-03 -4.75595258e-02 -2.97046453e-01 -5.20738550e-02\n",
      "  -4.80186045e-02 -1.79764897e-01  2.96836402e-02 -1.11718602e-01\n",
      "  -2.09946588e-01  2.09079146e-01  2.94630751e-02  5.89692704e-02\n",
      "   4.01095264e-02 -5.98343182e-03]\n",
      " [ 1.34467363e-01 -2.37716362e-01 -1.27296776e-01  1.54001191e-01\n",
      "  -9.83237997e-02  2.43634984e-01 -2.02135760e-02 -1.10786818e-01\n",
      "  -1.33685861e-02  2.59840977e-03  4.02055774e-03  3.27555276e-02\n",
      "   1.34172523e-02 -6.03252240e-02  9.17054713e-02 -5.90438358e-02\n",
      "   2.86701083e-01  1.11628287e-02 -6.16260469e-02 -1.15647338e-01\n",
      "   2.08973423e-01 -4.97259945e-03]\n",
      " [ 1.12684578e-01 -7.07420707e-02 -1.08626578e-02  8.13146867e-03\n",
      "  -1.41540185e-01 -3.35141756e-02 -3.95088941e-02  6.33415729e-02\n",
      "  -1.31400004e-01  1.40566379e-01  2.58686524e-02 -2.36204471e-02\n",
      "   1.79808959e-02  1.17325701e-01  1.28808827e-03 -4.03895266e-02\n",
      "   1.95287868e-01  3.17998901e-02  1.17248423e-01 -1.69905543e-01\n",
      "   1.61461741e-01  1.70149893e-01]\n",
      " [-4.23716754e-02 -1.30894586e-01  5.75120822e-02 -3.47283296e-02\n",
      "   1.34138048e-01  6.23330334e-03  2.30225027e-01 -8.00241083e-02\n",
      "  -1.42232448e-01 -1.07817866e-01  4.06810418e-02 -1.27010539e-01\n",
      "  -5.96548058e-02  1.91066876e-01  3.01999468e-02 -4.53478582e-02\n",
      "   9.56084654e-02  6.85913637e-02  1.81757864e-02 -2.11340562e-01\n",
      "   1.71089441e-01 -1.92285459e-02]\n",
      " [ 9.13727134e-02 -1.31891444e-01  2.56936789e-01 -2.89171726e-01\n",
      "  -7.50089884e-02 -2.78172404e-01 -9.46327299e-02 -8.71052444e-02\n",
      "   2.71239668e-01 -1.53551891e-03  2.10936338e-01 -3.32673006e-02\n",
      "  -2.16603920e-01 -2.34027401e-01  2.43208736e-01 -5.97122386e-02\n",
      "  -8.48017707e-02  5.14934175e-02 -1.10916950e-01  1.63312957e-01\n",
      "   8.74883533e-02  6.90356717e-02]\n",
      " [-1.89539418e-02  2.32666939e-01  3.69374529e-02  9.67849344e-02\n",
      "  -1.65068001e-01  4.17780578e-02  2.13861130e-02 -1.35877550e-01\n",
      "   7.99787194e-02 -2.87679583e-02 -1.80588022e-01  7.97549337e-02\n",
      "  -1.05597019e-01  1.69830009e-01  1.10932335e-01  8.90224427e-02\n",
      "   1.21302933e-01 -1.67619541e-01 -4.45258729e-02  1.00849971e-01\n",
      "  -1.20742870e-02  8.75009671e-02]\n",
      " [-1.10258507e-02  7.56809339e-02  5.90506047e-02  8.21586996e-02\n",
      "   1.23781212e-01  2.93964893e-01 -4.21030410e-02  4.77229105e-03\n",
      "  -2.62736827e-01 -1.43865282e-02 -1.90280769e-02  8.56077150e-02\n",
      "  -1.44052088e-01  3.70464958e-02  9.65217948e-02  2.30654627e-01\n",
      "   4.81078811e-02 -7.42866471e-02  1.45920038e-01  2.17985168e-01\n",
      "   9.67626423e-02 -9.02691111e-02]\n",
      " [ 1.07142895e-01 -2.33988687e-01 -2.43423268e-01  6.52674073e-03\n",
      "   8.85008723e-02  2.49362946e-03 -8.21066648e-02 -1.76116243e-01\n",
      "   4.23992425e-02 -2.07677819e-02 -9.92881060e-02 -1.61412269e-01\n",
      "   2.67301295e-02  7.55655691e-02 -1.34553000e-01 -2.04605952e-01\n",
      "   1.79373249e-01 -1.25399575e-01 -1.08382687e-01  1.26029134e-01\n",
      "   1.09086089e-01 -2.52932459e-01]\n",
      " [-1.78687990e-01 -2.18534157e-01  1.90634325e-01  1.20895959e-01\n",
      "  -7.80113935e-02 -1.84812292e-01 -7.39883035e-02 -5.94112724e-02\n",
      "   1.54446393e-01  2.38671765e-01 -1.47757977e-01  2.89761033e-02\n",
      "   2.32379138e-01  8.32390692e-03  8.39837492e-02 -2.24708561e-02\n",
      "   2.32255340e-01 -1.43838823e-01 -6.80744871e-02 -1.30177680e-02\n",
      "  -1.64228529e-01 -6.82586879e-02]\n",
      " [ 1.80841714e-01 -1.40626222e-01 -2.21481518e-04 -2.78837932e-03\n",
      "  -5.47229592e-03 -1.42672569e-01  2.67104115e-02 -1.49627581e-01\n",
      "   1.19332366e-01 -6.39019608e-02  1.52386114e-01  1.73805252e-01\n",
      "   1.00528717e-01  6.96660280e-02 -7.85495490e-02  5.68863237e-03\n",
      "   9.88202766e-02  6.10510968e-02  1.44881010e-03 -9.25380830e-03\n",
      "  -2.13639766e-01 -2.82543562e-02]\n",
      " [ 2.33555138e-01  1.97145224e-01 -1.89617127e-01  1.55390486e-01\n",
      "  -6.90032244e-02 -1.29976511e-01  3.01530603e-02 -5.26477620e-02\n",
      "   3.97145972e-02  1.74887285e-01 -1.37300119e-01 -1.22092120e-01\n",
      "   1.98636726e-02 -8.23283270e-02  2.87038274e-02 -8.60076398e-02\n",
      "  -2.01791767e-02 -1.03245683e-01 -2.17129752e-01 -2.07602903e-02\n",
      "  -9.81962755e-02 -3.65916863e-02]\n",
      " [ 7.18425587e-02 -1.18705928e-01  3.01406849e-02 -3.47459316e-02\n",
      "  -1.57674730e-01  9.57605168e-02  4.97785956e-02  6.65835738e-02\n",
      "  -1.39249280e-01 -4.62560868e-03  1.13978926e-02 -4.12850901e-02\n",
      "   2.99977791e-02  2.25021280e-02 -2.08169699e-01  1.26748681e-01\n",
      "   1.66351199e-01 -6.03160262e-02 -1.93618253e-01  1.55526817e-01\n",
      "   7.28551671e-02 -4.45907637e-02]\n",
      " [-1.60609901e-01  1.45434082e-01  3.59479040e-02  1.99365228e-01\n",
      "  -1.83462769e-01 -1.45111948e-01 -6.60592914e-02  6.44564033e-02\n",
      "  -5.24793342e-02  5.24853244e-02 -2.50995103e-02  2.24890150e-02\n",
      "   8.49251300e-02  1.34233525e-02 -2.85972267e-01 -1.10361032e-01\n",
      "  -1.43804088e-01 -2.30659530e-01  7.31490925e-02  2.50352956e-02\n",
      "  -4.43338789e-02 -2.67658323e-01]\n",
      " [ 1.36734590e-01  2.23659739e-01 -6.96304515e-02 -3.65147106e-02\n",
      "  -6.52102828e-02 -1.65045902e-01 -2.58809835e-01  2.00267196e-01\n",
      "  -1.47524431e-01  2.64407764e-03  3.68494950e-02 -1.98790357e-01\n",
      "  -6.25826344e-02 -5.31248450e-02 -2.44860440e-01 -8.44845250e-02\n",
      "  -4.27342057e-02  1.44165223e-02 -1.98591232e-01  1.45637572e-01\n",
      "  -4.71009687e-02  1.24320380e-01]\n",
      " [-1.10381737e-01  1.33776749e-02 -8.40005875e-02 -3.79260480e-02\n",
      "  -1.16480691e-02  5.43042624e-05 -2.85872936e-01 -2.40932792e-01\n",
      "   1.86124548e-01  1.35183543e-01 -1.91907987e-01  1.56378716e-01\n",
      "   3.24130841e-02  7.05807656e-02 -1.09226502e-01 -2.62195140e-01\n",
      "   2.88664341e-01  5.05538397e-02  2.17987657e-01 -1.03581576e-02\n",
      "  -4.46690582e-02  1.95271879e-01]\n",
      " [ 1.36788756e-01 -9.19005796e-02  7.17558488e-02  2.46792987e-01\n",
      "   1.33403540e-01  2.62100905e-01  4.54124585e-02  1.40558347e-01\n",
      "  -2.45974302e-01  1.11565053e-01 -4.29685637e-02 -5.91749884e-03\n",
      "  -2.61210293e-01 -2.96381116e-01  1.09520249e-01  2.42060229e-01\n",
      "  -1.75965980e-01 -6.64080530e-02 -5.56113198e-02 -1.00749880e-02\n",
      "  -5.43386377e-02  3.08222417e-02]\n",
      " [ 9.67613906e-02  1.52231203e-02 -9.85607430e-02  2.56596655e-01\n",
      "  -4.07287432e-03 -1.92986459e-01 -1.41547844e-01  8.04835632e-02\n",
      "  -4.55272337e-03  6.46947697e-02 -2.22499296e-01 -1.08610608e-01\n",
      "   1.75249487e-01 -9.37749147e-02 -1.37246781e-04 -1.17266104e-02\n",
      "  -1.65006399e-01 -1.53094396e-01 -9.64039937e-02  1.21187018e-02\n",
      "   1.79087535e-01  1.49061486e-01]\n",
      " [-1.98001504e-01  1.82070658e-01  1.92830935e-02 -7.22953305e-02\n",
      "  -4.34972458e-02 -1.45847127e-01 -1.92018867e-01  1.43885210e-01\n",
      "   1.70194581e-02 -1.35743335e-01 -1.76180407e-01  2.06126608e-02\n",
      "   1.58678796e-02 -1.91887140e-01 -1.77679718e-01  2.67960578e-02\n",
      "  -1.97187796e-01  2.13119551e-03 -1.39276832e-01  2.84036040e-01\n",
      "   8.94902870e-02  3.97659577e-02]\n",
      " [-5.93776293e-02 -1.09189287e-01  6.18674345e-02 -6.51147310e-03\n",
      "  -1.09994769e-01  2.16640923e-02 -1.28733546e-01 -2.66285717e-01\n",
      "  -2.00976476e-01 -4.39386144e-02  1.14926346e-01  1.72308549e-01\n",
      "   2.35010028e-01 -1.20991148e-01 -2.39081979e-01  6.07039891e-02\n",
      "  -9.79543999e-02 -2.30079591e-02 -7.09438175e-02 -8.21552146e-03\n",
      "   1.52628645e-01  7.62733817e-02]\n",
      " [ 3.40405107e-02 -2.31748432e-01 -1.09397240e-01  6.76406696e-02\n",
      "   2.40001455e-02 -2.27683395e-01 -1.26911163e-01  2.12669283e-01\n",
      "   5.66382930e-02 -2.57376432e-02 -1.18164428e-01  6.02255575e-02\n",
      "  -8.23446810e-02  1.28164142e-02 -1.05918735e-01 -2.18542352e-01\n",
      "   3.01434845e-01  8.51695240e-02  2.72927284e-02 -9.13264900e-02\n",
      "   1.63778141e-01  8.39348212e-02]\n",
      " [-2.86230445e-01  5.40144630e-02  6.89873695e-02  2.68783629e-01\n",
      "   1.85862780e-01 -1.95777848e-01  2.01550066e-01  1.06008068e-01\n",
      "  -1.62987530e-01 -7.95584619e-02  1.61398500e-01  5.65478764e-02\n",
      "   4.50003380e-03 -9.98004153e-03 -3.62408273e-02  1.15180753e-01\n",
      "  -2.09267601e-01  1.25134841e-01 -1.48082852e-01 -6.88526481e-02\n",
      "  -1.04221001e-01 -5.83803728e-02]\n",
      " [-1.33775130e-01  8.96822196e-03 -7.25384280e-02  5.83077744e-02\n",
      "  -5.72688924e-03  2.30373725e-01  1.55621126e-01 -9.69025269e-02\n",
      "   5.30900545e-02  1.83222339e-01 -2.75885314e-01  8.53801668e-02\n",
      "   7.26139843e-02 -1.50617406e-01  3.95713374e-02  1.21968761e-01\n",
      "  -5.61130866e-02 -4.03309939e-03 -1.45440936e-01  3.30041163e-02\n",
      "   2.77639985e-01 -9.60629210e-02]\n",
      " [-1.58860266e-01 -7.98020810e-02 -9.34850499e-02  6.28969073e-02\n",
      "  -7.23433495e-02 -3.09849139e-02 -9.15555581e-02 -6.16155416e-02\n",
      "   7.10681663e-04  2.34740227e-01  3.39123048e-02 -7.04066008e-02\n",
      "   1.02440707e-01  2.40016952e-01 -9.09824595e-02 -2.09814794e-02\n",
      "   1.63482562e-01  4.23295833e-02  2.18155518e-01  8.45324248e-02\n",
      "  -9.55733508e-02 -8.79171267e-02]\n",
      " [-2.04043463e-01 -3.05899177e-02  1.29664361e-01 -1.65099114e-01\n",
      "  -7.34418035e-02 -1.49287075e-01 -9.65839028e-02 -5.20112254e-02\n",
      "   1.89197987e-01 -1.51604965e-01  1.80283591e-01  2.39151046e-01\n",
      "   1.73686177e-01 -1.25402242e-01  4.79307063e-02 -7.99997672e-02\n",
      "  -2.91267395e-01 -2.44907081e-01  9.63457003e-02 -2.13001609e-01\n",
      "   2.50455439e-02 -2.53256530e-01]\n",
      " [-1.13682799e-01 -1.24104634e-01 -4.28939685e-02  2.16127336e-01\n",
      "   4.94545996e-02 -8.36791843e-02 -1.42605379e-01  4.89092432e-02\n",
      "   1.40023813e-01  1.70294896e-01 -3.75959575e-02  2.51018465e-01\n",
      "  -8.31200331e-02 -4.71019521e-02  3.46183665e-02 -3.74244042e-02\n",
      "  -6.45977631e-02 -1.68790370e-01 -2.36698553e-01 -7.48254284e-02\n",
      "  -1.46933958e-01 -9.89781599e-03]\n",
      " [-1.83024123e-01 -1.39091015e-01 -2.12207749e-01 -6.12384975e-02\n",
      "  -2.44828045e-01 -2.92686876e-02 -1.21783264e-01  1.99257120e-01\n",
      "   5.81890084e-02  4.00175303e-02  6.15377503e-04  5.99652342e-03\n",
      "  -7.72707677e-03 -1.17295131e-01  1.36643380e-01  1.82557888e-02\n",
      "   2.18703359e-01  2.08553255e-01 -8.27196427e-03 -2.61087865e-01\n",
      "  -9.69908834e-02  8.49287882e-02]\n",
      " [-1.36006251e-01  6.56137168e-02 -5.52908555e-02  1.02090225e-01\n",
      "   1.33875355e-01  1.15665957e-01  2.20432922e-01  7.45192394e-02\n",
      "   1.35442600e-01  2.16062531e-01 -3.02535772e-01  9.33699459e-02\n",
      "  -1.15080304e-01 -1.13826282e-01  4.79646511e-02  1.79703176e-01\n",
      "  -2.34374776e-01 -4.14492041e-02  1.93622515e-01  1.89496413e-01\n",
      "   4.07975633e-03  1.80945352e-01]]\n"
     ]
    }
   ],
   "source": [
    "with tf.Session() as sess:\n",
    "    sess.run(init)\n",
    "    vars=tf.trainable_variables()\n",
    "    vars_vals=sess.run(vars)\n",
    "    for epoch in range(num_epoch):\n",
    "        num_batches=len(training_features)//batch_size\n",
    "        #learning rate decay\n",
    "        lr = lr * (0.5 **(epoch//25))\n",
    "        for iteration in range(num_batches):\n",
    "            X_batch=next_batch(batch_size,training_features)\n",
    "            sess.run(train,feed_dict={X:X_batch})\n",
    "        train_loss=loss.eval(feed_dict={X:X_batch})\n",
    "        print(\"epoch {} loss {}\".format(epoch,train_loss))\n",
    "        x.append(epoch)\n",
    "        y.append(train_loss)\n",
    "    for var, val in zip(vars, vars_vals):\n",
    "        if var.get_shape()==(43, 22):\n",
    "            l=val\n",
    "print(l)  "
   ]
  },
  {
   "cell_type": "code",
   "execution_count": 246,
   "metadata": {},
   "outputs": [],
   "source": [
    "sum_weights=[]\n",
    "for row in l:\n",
    "    total_weight=0\n",
    "    for a in row:\n",
    "        total_weight+=a\n",
    "    sum_weights.append(total_weight)"
   ]
  },
  {
   "cell_type": "code",
   "execution_count": 247,
   "metadata": {},
   "outputs": [
    {
     "data": {
      "text/plain": [
       "[0.7950352153275162,\n",
       " 0.5022710036137141,\n",
       " -0.03717116313055158,\n",
       " 0.9551360819023103,\n",
       " 0.2949156095273793,\n",
       " 0.23156870622187853,\n",
       " -0.9951208718121052,\n",
       " -0.13184950547292829,\n",
       " 0.754413919406943,\n",
       " -0.39895084872841835,\n",
       " -0.09671545936726034,\n",
       " 0.27741250954568386,\n",
       " -1.2416533315554261,\n",
       " -1.4102584654465318,\n",
       " -0.24643219634890556,\n",
       " -0.4332055461127311,\n",
       " -0.25250228587538004,\n",
       " 0.27411713008768857,\n",
       " 0.5016516468022019,\n",
       " 0.042870056349784136,\n",
       " -0.25182299211155623,\n",
       " 0.4096536161378026,\n",
       " 0.9401268255896866,\n",
       " -1.0791291419882327,\n",
       " -0.13052585627883673,\n",
       " 0.15527144915540703,\n",
       " -0.48566240444779396,\n",
       " -0.10349571658298373,\n",
       " -0.9989010458812118,\n",
       " -0.790475249523297,\n",
       " -0.04252866305614589,\n",
       " 0.2240292839705944,\n",
       " -0.2636973993940046,\n",
       " -0.8286568040493876,\n",
       " -0.5898198708891869,\n",
       " -0.20813362672924995,\n",
       " -0.011611250694841146,\n",
       " 0.28266585525125265,\n",
       " 0.22871009132359177,\n",
       " -1.049190977588296,\n",
       " -0.5035054823383689,\n",
       " -0.5116541711031459,\n",
       " 0.954320908524096]"
      ]
     },
     "execution_count": 247,
     "metadata": {},
     "output_type": "execute_result"
    }
   ],
   "source": [
    "sum_weights"
   ]
  },
  {
   "cell_type": "code",
   "execution_count": null,
   "metadata": {},
   "outputs": [],
   "source": []
  },
  {
   "cell_type": "code",
   "execution_count": 248,
   "metadata": {},
   "outputs": [],
   "source": [
    "var_imp=[]\n",
    "for i in range(0,len(sum_weights)):\n",
    "    prod=sum_weights[i]\n",
    "    var_imp.append(prod)"
   ]
  },
  {
   "cell_type": "code",
   "execution_count": 249,
   "metadata": {},
   "outputs": [
    {
     "data": {
      "text/plain": [
       "[0.7950352153275162,\n",
       " 0.5022710036137141,\n",
       " -0.03717116313055158,\n",
       " 0.9551360819023103,\n",
       " 0.2949156095273793,\n",
       " 0.23156870622187853,\n",
       " -0.9951208718121052,\n",
       " -0.13184950547292829,\n",
       " 0.754413919406943,\n",
       " -0.39895084872841835,\n",
       " -0.09671545936726034,\n",
       " 0.27741250954568386,\n",
       " -1.2416533315554261,\n",
       " -1.4102584654465318,\n",
       " -0.24643219634890556,\n",
       " -0.4332055461127311,\n",
       " -0.25250228587538004,\n",
       " 0.27411713008768857,\n",
       " 0.5016516468022019,\n",
       " 0.042870056349784136,\n",
       " -0.25182299211155623,\n",
       " 0.4096536161378026,\n",
       " 0.9401268255896866,\n",
       " -1.0791291419882327,\n",
       " -0.13052585627883673,\n",
       " 0.15527144915540703,\n",
       " -0.48566240444779396,\n",
       " -0.10349571658298373,\n",
       " -0.9989010458812118,\n",
       " -0.790475249523297,\n",
       " -0.04252866305614589,\n",
       " 0.2240292839705944,\n",
       " -0.2636973993940046,\n",
       " -0.8286568040493876,\n",
       " -0.5898198708891869,\n",
       " -0.20813362672924995,\n",
       " -0.011611250694841146,\n",
       " 0.28266585525125265,\n",
       " 0.22871009132359177,\n",
       " -1.049190977588296,\n",
       " -0.5035054823383689,\n",
       " -0.5116541711031459,\n",
       " 0.954320908524096]"
      ]
     },
     "execution_count": 249,
     "metadata": {},
     "output_type": "execute_result"
    }
   ],
   "source": [
    "var_imp"
   ]
  },
  {
   "cell_type": "code",
   "execution_count": 250,
   "metadata": {},
   "outputs": [
    {
     "data": {
      "text/plain": [
       "['id',\n",
       " 'dur',\n",
       " 'proto',\n",
       " 'service',\n",
       " 'state',\n",
       " 'spkts',\n",
       " 'dpkts',\n",
       " 'sbytes',\n",
       " 'dbytes',\n",
       " 'rate',\n",
       " 'sttl',\n",
       " 'dttl',\n",
       " 'sload',\n",
       " 'dload',\n",
       " 'sloss',\n",
       " 'dloss',\n",
       " 'sinpkt',\n",
       " 'dinpkt',\n",
       " 'sjit',\n",
       " 'djit',\n",
       " 'swin',\n",
       " 'stcpb',\n",
       " 'dtcpb',\n",
       " 'dwin',\n",
       " 'tcprtt',\n",
       " 'synack',\n",
       " 'ackdat',\n",
       " 'smean',\n",
       " 'dmean',\n",
       " 'trans_depth',\n",
       " 'response_body_len',\n",
       " 'ct_srv_src',\n",
       " 'ct_state_ttl',\n",
       " 'ct_dst_ltm',\n",
       " 'ct_src_dport_ltm',\n",
       " 'ct_dst_sport_ltm',\n",
       " 'ct_dst_src_ltm',\n",
       " 'is_ftp_login',\n",
       " 'ct_ftp_cmd',\n",
       " 'ct_flw_http_mthd',\n",
       " 'ct_src_ltm',\n",
       " 'ct_srv_dst',\n",
       " 'is_sm_ips_ports',\n",
       " 'attack_cat',\n",
       " 'label']"
      ]
     },
     "execution_count": 250,
     "metadata": {},
     "output_type": "execute_result"
    }
   ],
   "source": [
    "features=list(range(1,44))\n",
    "feature_names=list(training_df)\n",
    "feature_names"
   ]
  },
  {
   "cell_type": "code",
   "execution_count": 257,
   "metadata": {},
   "outputs": [],
   "source": [
    "plt.rcParams['figure.figsize']=(20,20)"
   ]
  },
  {
   "cell_type": "code",
   "execution_count": 258,
   "metadata": {},
   "outputs": [
    {
     "data": {
      "text/plain": [
       "Text(0,0.5,'Feature Importance Values')"
      ]
     },
     "execution_count": 258,
     "metadata": {},
     "output_type": "execute_result"
    },
    {
     "data": {
      "image/png": "[encoded data removed]",
      "text/plain": [
       "<matplotlib.figure.Figure at 0x10a379f9b70>"
      ]
     },
     "metadata": {
      "needs_background": "light"
     },
     "output_type": "display_data"
    }
   ],
   "source": [
    "x_vals=np.arange(len(features))\n",
    "plt.bar(x_vals,var_imp,align='center',alpha=1)\n",
    "plt.xticks(x_vals,features)\n",
    "plt.xlabel(\"Feature Indexes\")\n",
    "plt.ylabel(\"Feature Importance Values\")\n"
   ]
  },
  {
   "cell_type": "code",
   "execution_count": 259,
   "metadata": {
    "scrolled": true
   },
   "outputs": [],
   "source": [
    "best_features=sorted(range(len(var_imp)), key=lambda i: var_imp[i], reverse=True)[:10]"
   ]
  },
  {
   "cell_type": "code",
   "execution_count": null,
   "metadata": {},
   "outputs": [],
   "source": []
  },
  {
   "cell_type": "code",
   "execution_count": 260,
   "metadata": {},
   "outputs": [
    {
     "name": "stdout",
     "output_type": "stream",
     "text": [
      "service\n",
      "is_sm_ips_ports\n",
      "dtcpb\n",
      "id\n",
      "dbytes\n",
      "dur\n",
      "sjit\n",
      "stcpb\n",
      "state\n",
      "is_ftp_login\n"
     ]
    }
   ],
   "source": [
    "for i in best_features:\n",
    "    print(feature_names[i])"
   ]
  },
  {
   "cell_type": "code",
   "execution_count": 261,
   "metadata": {
    "scrolled": false
   },
   "outputs": [
    {
     "data": {
      "text/plain": [
       "[<matplotlib.lines.Line2D at 0x10a38848e48>]"
      ]
     },
     "execution_count": 261,
     "metadata": {},
     "output_type": "execute_result"
    },
    {
     "data": {
      "image/png": "[encoded data removed]",
      "text/plain": [
       "<matplotlib.figure.Figure at 0x10a387b2b00>"
      ]
     },
     "metadata": {
      "needs_background": "light"
     },
     "output_type": "display_data"
    }
   ],
   "source": [
    "plt.rcParams['figure.figsize']=(20,20)\n",
    "plt.plot(x,y)"
   ]
  },
  {
   "cell_type": "code",
   "execution_count": 262,
   "metadata": {},
   "outputs": [
    {
     "name": "stdout",
     "output_type": "stream",
     "text": [
      "0.3566338071727379\n"
     ]
    }
   ],
   "source": [
    "print(np.var(var_imp))"
   ]
  },
  {
   "cell_type": "code",
   "execution_count": null,
   "metadata": {},
   "outputs": [],
   "source": []
  },
  {
   "cell_type": "code",
   "execution_count": null,
   "metadata": {},
   "outputs": [],
   "source": []
  },
  {
   "cell_type": "code",
   "execution_count": null,
   "metadata": {},
   "outputs": [],
   "source": []
  },
  {
   "cell_type": "code",
   "execution_count": null,
   "metadata": {},
   "outputs": [],
   "source": []
  },
  {
   "cell_type": "code",
   "execution_count": null,
   "metadata": {},
   "outputs": [],
   "source": []
  },
  {
   "cell_type": "code",
   "execution_count": null,
   "metadata": {},
   "outputs": [],
   "source": []
  },
  {
   "cell_type": "code",
   "execution_count": null,
   "metadata": {},
   "outputs": [],
   "source": []
  },
  {
   "cell_type": "code",
   "execution_count": null,
   "metadata": {},
   "outputs": [],
   "source": []
  },
  {
   "cell_type": "code",
   "execution_count": null,
   "metadata": {},
   "outputs": [],
   "source": []
  },
  {
   "cell_type": "code",
   "execution_count": null,
   "metadata": {},
   "outputs": [],
   "source": []
  },
  {
   "cell_type": "code",
   "execution_count": null,
   "metadata": {},
   "outputs": [],
   "source": []
  },
  {
   "cell_type": "code",
   "execution_count": null,
   "metadata": {},
   "outputs": [],
   "source": []
  }
 ],
 "metadata": {
  "kernelspec": {
   "display_name": "Python 3",
   "language": "python",
   "name": "python3"
  },
  "language_info": {
   "codemirror_mode": {
    "name": "ipython",
    "version": 3
   },
   "file_extension": ".py",
   "mimetype": "text/x-python",
   "name": "python",
   "nbconvert_exporter": "python",
   "pygments_lexer": "ipython3",
   "version": "3.5.2"
  }
 },
 "nbformat": 4,
 "nbformat_minor": 2
}
