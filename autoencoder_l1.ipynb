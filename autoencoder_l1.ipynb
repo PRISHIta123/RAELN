{
 "cells": [
  {
   "cell_type": "code",
   "execution_count": 1,
   "metadata": {},
   "outputs": [
    {
     "name": "stderr",
     "output_type": "stream",
     "text": [
      "c:\\users\\prishitaray\\appdata\\local\\programs\\python\\python35\\lib\\site-packages\\h5py\\__init__.py:36: FutureWarning: Conversion of the second argument of issubdtype from `float` to `np.floating` is deprecated. In future, it will be treated as `np.float64 == np.dtype(float).type`.\n",
      "  from ._conv import register_converters as _register_converters\n"
     ]
    }
   ],
   "source": [
    "import numpy as np\n",
    "import pandas as pd\n",
    "import tensorflow as tf\n",
    "import matplotlib.pyplot as plt"
   ]
  },
  {
   "cell_type": "code",
   "execution_count": 2,
   "metadata": {},
   "outputs": [],
   "source": [
    "from tensorflow.contrib.layers import fully_connected"
   ]
  },
  {
   "cell_type": "code",
   "execution_count": 3,
   "metadata": {},
   "outputs": [],
   "source": [
    "training_df=pd.read_csv(\"F://ML Paper Project//UNSW_NB15_training-set.csv\")\n",
    "testing_df=pd.read_csv(\"F://ML Paper Project//UNSW_NB15_testing-set.csv\")"
   ]
  },
  {
   "cell_type": "code",
   "execution_count": 4,
   "metadata": {},
   "outputs": [],
   "source": [
    "training_data=np.array(training_df)\n",
    "testing_data=np.array(testing_df)"
   ]
  },
  {
   "cell_type": "code",
   "execution_count": 5,
   "metadata": {},
   "outputs": [
    {
     "data": {
      "text/plain": [
       "(175341, 45)"
      ]
     },
     "execution_count": 5,
     "metadata": {},
     "output_type": "execute_result"
    }
   ],
   "source": [
    "training_data.shape"
   ]
  },
  {
   "cell_type": "code",
   "execution_count": 6,
   "metadata": {},
   "outputs": [],
   "source": [
    "training_labels=training_data[:,43]"
   ]
  },
  {
   "cell_type": "code",
   "execution_count": 7,
   "metadata": {},
   "outputs": [],
   "source": [
    "training_features=training_data[:,0:43]"
   ]
  },
  {
   "cell_type": "code",
   "execution_count": 8,
   "metadata": {},
   "outputs": [
    {
     "data": {
      "text/plain": [
       "array(['Normal', 'Normal', 'Normal', ..., 'Generic', 'Generic', 'Generic'],\n",
       "      dtype=object)"
      ]
     },
     "execution_count": 8,
     "metadata": {},
     "output_type": "execute_result"
    }
   ],
   "source": [
    "training_labels"
   ]
  },
  {
   "cell_type": "code",
   "execution_count": 9,
   "metadata": {},
   "outputs": [
    {
     "data": {
      "text/plain": [
       "array([[1, 0.121478, 'tcp', ..., 1, 1, 0],\n",
       "       [2, 0.6499020000000001, 'tcp', ..., 1, 6, 0],\n",
       "       [3, 1.623129, 'tcp', ..., 2, 6, 0],\n",
       "       ...,\n",
       "       [175339, 9e-06, 'udp', ..., 3, 12, 0],\n",
       "       [175340, 9e-06, 'udp', ..., 30, 30, 0],\n",
       "       [175341, 9e-06, 'udp', ..., 30, 30, 0]], dtype=object)"
      ]
     },
     "execution_count": 9,
     "metadata": {},
     "output_type": "execute_result"
    }
   ],
   "source": [
    "training_features"
   ]
  },
  {
   "cell_type": "code",
   "execution_count": 10,
   "metadata": {},
   "outputs": [],
   "source": [
    "#Integer Encoding Labels\n",
    "for i in range(0,len(training_labels)):\n",
    "    if training_labels[i]=='Normal':\n",
    "        training_labels[i]=0\n",
    "    elif training_labels[i]=='Fuzzers':\n",
    "        training_labels[i]=1\n",
    "    elif training_labels[i]=='Analysis':\n",
    "        training_labels[i]=2\n",
    "    elif training_labels[i]=='Backdoor':\n",
    "        training_labels[i]=3\n",
    "    elif training_labels[i]=='DoS':\n",
    "        training_labels[i]=4\n",
    "    elif training_labels[i]=='Exploits':\n",
    "        training_labels[i]=5\n",
    "    elif training_labels[i]=='Generic':\n",
    "        training_labels[i]=6\n",
    "    elif training_labels[i]=='Reconaissance':\n",
    "        training_labels[i]=7\n",
    "    elif training_labels[i]=='Shellcode':\n",
    "        training_labels[i]=8\n",
    "    elif training_labels[i]=='Worms':\n",
    "        training_labels[i]=9"
   ]
  },
  {
   "cell_type": "code",
   "execution_count": 11,
   "metadata": {},
   "outputs": [
    {
     "data": {
      "text/plain": [
       "array([0, 0, 0, ..., 6, 6, 6], dtype=object)"
      ]
     },
     "execution_count": 11,
     "metadata": {},
     "output_type": "execute_result"
    }
   ],
   "source": [
    "training_labels"
   ]
  },
  {
   "cell_type": "code",
   "execution_count": null,
   "metadata": {},
   "outputs": [],
   "source": []
  },
  {
   "cell_type": "code",
   "execution_count": null,
   "metadata": {},
   "outputs": [],
   "source": []
  },
  {
   "cell_type": "code",
   "execution_count": 12,
   "metadata": {},
   "outputs": [],
   "source": [
    "proto=np.unique(training_features[:,2])"
   ]
  },
  {
   "cell_type": "code",
   "execution_count": 13,
   "metadata": {},
   "outputs": [],
   "source": [
    "l=training_features[:,3]\n",
    "for i in range(0,len(l)):\n",
    "    if l[i]=='-':\n",
    "        l[i]=0\n",
    "    elif l[i]=='dhcp':\n",
    "        l[i]=1\n",
    "    elif l[i]=='dns':\n",
    "        l[i]=2\n",
    "    elif l[i]=='ftp':\n",
    "        l[i]=3\n",
    "    elif l[i]=='ftp-data':\n",
    "        l[i]=4\n",
    "    elif l[i]=='http':\n",
    "        l[i]=5\n",
    "    elif l[i]=='irc':\n",
    "        l[i]=6\n",
    "    elif l[i]=='pop3':\n",
    "        l[i]=7\n",
    "    elif l[i]=='radius':\n",
    "        l[i]=8\n",
    "    elif l[i]=='smtp':\n",
    "        l[i]=9\n",
    "    elif l[i]=='snmp':\n",
    "        l[i]=10\n",
    "    elif l[i]=='ssh':\n",
    "        l[i]=11\n",
    "    elif l[i]=='ssl':\n",
    "        l[i]=12\n",
    "\n",
    "training_features[:,3]=l"
   ]
  },
  {
   "cell_type": "code",
   "execution_count": 14,
   "metadata": {
    "scrolled": true
   },
   "outputs": [
    {
     "data": {
      "text/plain": [
       "array([0, 0, 0, ..., 2, 2, 2], dtype=object)"
      ]
     },
     "execution_count": 14,
     "metadata": {},
     "output_type": "execute_result"
    }
   ],
   "source": [
    "training_features[:,3]"
   ]
  },
  {
   "cell_type": "code",
   "execution_count": 15,
   "metadata": {},
   "outputs": [
    {
     "data": {
      "text/plain": [
       "array(['CON', 'ECO', 'FIN', 'INT', 'PAR', 'REQ', 'RST', 'URN', 'no'],\n",
       "      dtype=object)"
      ]
     },
     "execution_count": 15,
     "metadata": {},
     "output_type": "execute_result"
    }
   ],
   "source": [
    "np.unique(training_features[:,4])"
   ]
  },
  {
   "cell_type": "code",
   "execution_count": 16,
   "metadata": {},
   "outputs": [],
   "source": [
    "l=training_features[:,4]\n",
    "for i in range(0,len(l)):\n",
    "    if l[i]=='CON':\n",
    "        l[i]=0\n",
    "    elif l[i]=='ECO':\n",
    "        l[i]=1\n",
    "    elif l[i]=='FIN':\n",
    "        l[i]=2\n",
    "    elif l[i]=='INT':\n",
    "        l[i]=3\n",
    "    elif l[i]=='PAR':\n",
    "        l[i]=4\n",
    "    elif l[i]=='REQ':\n",
    "        l[i]=5\n",
    "    elif l[i]=='RST':\n",
    "        l[i]=6\n",
    "    elif l[i]=='URN':\n",
    "        l[i]=7\n",
    "    elif l[i]=='no':\n",
    "        l[i]=8\n",
    "\n",
    "training_features[:,4]=l"
   ]
  },
  {
   "cell_type": "code",
   "execution_count": 17,
   "metadata": {},
   "outputs": [
    {
     "data": {
      "text/plain": [
       "array([2, 2, 2, ..., 3, 3, 3], dtype=object)"
      ]
     },
     "execution_count": 17,
     "metadata": {},
     "output_type": "execute_result"
    }
   ],
   "source": [
    "training_features[:,4]"
   ]
  },
  {
   "cell_type": "code",
   "execution_count": 18,
   "metadata": {
    "scrolled": true
   },
   "outputs": [
    {
     "data": {
      "text/plain": [
       "array([[1, 0.121478, 'tcp', ..., 1, 1, 0],\n",
       "       [2, 0.6499020000000001, 'tcp', ..., 1, 6, 0],\n",
       "       [3, 1.623129, 'tcp', ..., 2, 6, 0],\n",
       "       ...,\n",
       "       [175339, 9e-06, 'udp', ..., 3, 12, 0],\n",
       "       [175340, 9e-06, 'udp', ..., 30, 30, 0],\n",
       "       [175341, 9e-06, 'udp', ..., 30, 30, 0]], dtype=object)"
      ]
     },
     "execution_count": 18,
     "metadata": {},
     "output_type": "execute_result"
    }
   ],
   "source": [
    "training_features"
   ]
  },
  {
   "cell_type": "code",
   "execution_count": 19,
   "metadata": {},
   "outputs": [
    {
     "data": {
      "text/plain": [
       "array(['3pc', 'a/n', 'aes-sp3-d', 'any', 'argus', 'aris', 'arp', 'ax.25',\n",
       "       'bbn-rcc', 'bna', 'br-sat-mon', 'cbt', 'cftp', 'chaos',\n",
       "       'compaq-peer', 'cphb', 'cpnx', 'crtp', 'crudp', 'dcn', 'ddp',\n",
       "       'ddx', 'dgp', 'egp', 'eigrp', 'emcon', 'encap', 'etherip', 'fc',\n",
       "       'fire', 'ggp', 'gmtp', 'gre', 'hmp', 'i-nlsp', 'iatp', 'ib',\n",
       "       'icmp', 'idpr', 'idpr-cmtp', 'idrp', 'ifmp', 'igmp', 'igp', 'il',\n",
       "       'ip', 'ipcomp', 'ipcv', 'ipip', 'iplt', 'ipnip', 'ippc', 'ipv6',\n",
       "       'ipv6-frag', 'ipv6-no', 'ipv6-opts', 'ipv6-route', 'ipx-n-ip',\n",
       "       'irtp', 'isis', 'iso-ip', 'iso-tp4', 'kryptolan', 'l2tp', 'larp',\n",
       "       'leaf-1', 'leaf-2', 'merit-inp', 'mfe-nsp', 'mhrp', 'micp',\n",
       "       'mobile', 'mtp', 'mux', 'narp', 'netblt', 'nsfnet-igp', 'nvp',\n",
       "       'ospf', 'pgm', 'pim', 'pipe', 'pnni', 'pri-enc', 'prm', 'ptp',\n",
       "       'pup', 'pvp', 'qnx', 'rdp', 'rsvp', 'rtp', 'rvd', 'sat-expak',\n",
       "       'sat-mon', 'sccopmce', 'scps', 'sctp', 'sdrp', 'secure-vmtp',\n",
       "       'sep', 'skip', 'sm', 'smp', 'snp', 'sprite-rpc', 'sps', 'srp',\n",
       "       'st2', 'stp', 'sun-nd', 'swipe', 'tcf', 'tcp', 'tlsp', 'tp++',\n",
       "       'trunk-1', 'trunk-2', 'ttp', 'udp', 'unas', 'uti', 'vines', 'visa',\n",
       "       'vmtp', 'vrrp', 'wb-expak', 'wb-mon', 'wsn', 'xnet', 'xns-idp',\n",
       "       'xtp', 'zero'], dtype=object)"
      ]
     },
     "execution_count": 19,
     "metadata": {},
     "output_type": "execute_result"
    }
   ],
   "source": [
    "proto"
   ]
  },
  {
   "cell_type": "code",
   "execution_count": 20,
   "metadata": {},
   "outputs": [],
   "source": [
    "d=dict.fromkeys(proto)"
   ]
  },
  {
   "cell_type": "code",
   "execution_count": 21,
   "metadata": {},
   "outputs": [],
   "source": [
    "l=d.keys()"
   ]
  },
  {
   "cell_type": "code",
   "execution_count": 22,
   "metadata": {},
   "outputs": [],
   "source": [
    "v=0\n",
    "for x in l:\n",
    "    d[x]=v\n",
    "    v=v+1"
   ]
  },
  {
   "cell_type": "code",
   "execution_count": null,
   "metadata": {},
   "outputs": [],
   "source": []
  },
  {
   "cell_type": "code",
   "execution_count": 23,
   "metadata": {},
   "outputs": [],
   "source": [
    "proto_list=training_features[:,2]\n",
    "for i in range(0,len(proto_list)):\n",
    "    for j in l:\n",
    "        if proto_list[i]==j:\n",
    "            proto_list[i]=d[j]\n",
    "\n",
    "training_features[:,2]=proto_list"
   ]
  },
  {
   "cell_type": "code",
   "execution_count": 24,
   "metadata": {},
   "outputs": [
    {
     "data": {
      "text/plain": [
       "array([[1, 0.121478, 29, ..., 1, 1, 0],\n",
       "       [2, 0.6499020000000001, 29, ..., 1, 6, 0],\n",
       "       [3, 1.623129, 29, ..., 2, 6, 0],\n",
       "       ...,\n",
       "       [175339, 9e-06, 115, ..., 3, 12, 0],\n",
       "       [175340, 9e-06, 115, ..., 30, 30, 0],\n",
       "       [175341, 9e-06, 115, ..., 30, 30, 0]], dtype=object)"
      ]
     },
     "execution_count": 24,
     "metadata": {},
     "output_type": "execute_result"
    }
   ],
   "source": [
    "training_features"
   ]
  },
  {
   "cell_type": "code",
   "execution_count": 25,
   "metadata": {},
   "outputs": [
    {
     "data": {
      "text/plain": [
       "array([29, 29, 29, ..., 115, 115, 115], dtype=object)"
      ]
     },
     "execution_count": 25,
     "metadata": {},
     "output_type": "execute_result"
    }
   ],
   "source": [
    "training_features[:,2]"
   ]
  },
  {
   "cell_type": "code",
   "execution_count": 26,
   "metadata": {},
   "outputs": [
    {
     "data": {
      "text/plain": [
       "(175341, 43)"
      ]
     },
     "execution_count": 26,
     "metadata": {},
     "output_type": "execute_result"
    }
   ],
   "source": [
    "training_features.shape"
   ]
  },
  {
   "cell_type": "code",
   "execution_count": 27,
   "metadata": {},
   "outputs": [],
   "source": [
    "std_list=[]"
   ]
  },
  {
   "cell_type": "code",
   "execution_count": 28,
   "metadata": {},
   "outputs": [],
   "source": [
    "#Perform normalization on dataset\n",
    "for i in range(0,43):\n",
    "    mean=np.mean(training_features[:,i])\n",
    "    std=np.std(training_features[:,i])\n",
    "    std_list.append(std)\n",
    "    for j in range(0,175341):\n",
    "        training_features[j][i]=(training_features[j][i]-mean)/std\n",
    "        "
   ]
  },
  {
   "cell_type": "code",
   "execution_count": 29,
   "metadata": {},
   "outputs": [
    {
     "data": {
      "text/plain": [
       "array([[-1.7320409294122083, -0.1910288091606379, -0.9907313167166802,\n",
       "        ..., -0.715713656611942, -0.7530740174877311,\n",
       "        -0.12650796304403503],\n",
       "       [-1.7320211730425332, -0.10948479464168344, -0.9907313167166802,\n",
       "        ..., -0.715713656611942, -0.28825700778157093,\n",
       "        -0.12650796304403503],\n",
       "       [-1.7320014166728581, 0.04069921785252289, -0.9907313167166802,\n",
       "        ..., -0.5955425666085573, -0.28825700778157093,\n",
       "        -0.12650796304403503],\n",
       "       ...,\n",
       "       [1.7320014166728581, -0.2097733588018406, 1.0350256394248076, ...,\n",
       "        -0.4753714766051727, 0.26952340386582113, -0.12650796304403503],\n",
       "       [1.7320211730425332, -0.2097733588018406, 1.0350256394248076, ...,\n",
       "        2.7692479534862113, 1.9428646388079973, -0.12650796304403503],\n",
       "       [1.7320409294122083, -0.2097733588018406, 1.0350256394248076, ...,\n",
       "        2.7692479534862113, 1.9428646388079973, -0.12650796304403503]],\n",
       "      dtype=object)"
      ]
     },
     "execution_count": 29,
     "metadata": {},
     "output_type": "execute_result"
    }
   ],
   "source": [
    "training_features"
   ]
  },
  {
   "cell_type": "code",
   "execution_count": 30,
   "metadata": {},
   "outputs": [
    {
     "data": {
      "text/plain": [
       "[50616.5867741659,\n",
       " 6.480230377634532,\n",
       " 42.45326653786071,\n",
       " 2.305144095553943,\n",
       " 0.8679394065384229,\n",
       " 136.88720656043952,\n",
       " 110.25795617029418,\n",
       " 174765.14594941295,\n",
       " 143653.8080748578,\n",
       " 165400.5068013864,\n",
       " 102.93971751397288,\n",
       " 110.5065480561588,\n",
       " 188356909.88190487,\n",
       " 2421305.4841721063,\n",
       " 66.00487031558049,\n",
       " 52.73284891995271,\n",
       " 7242.225189039217,\n",
       " 987.0903799600004,\n",
       " 44965.718295016995,\n",
       " 4061.0317006883483,\n",
       " 127.00066200116235,\n",
       " 1355260384.6054034,\n",
       " 1353995685.173201,\n",
       " 126.88616771391364,\n",
       " 0.07935374554184842,\n",
       " 0.043399659749737765,\n",
       " 0.040506240405952354,\n",
       " 204.67677593269065,\n",
       " 258.3163193739851,\n",
       " 0.7769085707482282,\n",
       " 54207.81271516606,\n",
       " 10.704300696224685,\n",
       " 0.9544033774218443,\n",
       " 8.052453421725263,\n",
       " 8.047081250439838,\n",
       " 5.783568568849495,\n",
       " 10.956154333405415,\n",
       " 0.12604768794778642,\n",
       " 0.12604768794778642,\n",
       " 0.7012056071913747,\n",
       " 8.321468998673767,\n",
       " 10.75692131654307,\n",
       " 0.12451518899845022]"
      ]
     },
     "execution_count": 30,
     "metadata": {},
     "output_type": "execute_result"
    }
   ],
   "source": [
    "std_list"
   ]
  },
  {
   "cell_type": "code",
   "execution_count": 31,
   "metadata": {},
   "outputs": [],
   "source": [
    "num_inputs=43\n",
    "num_hid1=22\n",
    "num_hid2=10\n",
    "num_hid3=22\n",
    "num_output=43"
   ]
  },
  {
   "cell_type": "code",
   "execution_count": null,
   "metadata": {},
   "outputs": [],
   "source": []
  },
  {
   "cell_type": "code",
   "execution_count": 263,
   "metadata": {},
   "outputs": [],
   "source": [
    "lr=0.01\n",
    "actf=tf.nn.elu"
   ]
  },
  {
   "cell_type": "code",
   "execution_count": 264,
   "metadata": {},
   "outputs": [],
   "source": [
    "X=tf.placeholder(tf.float32,shape=[None,num_inputs])"
   ]
  },
  {
   "cell_type": "code",
   "execution_count": 265,
   "metadata": {},
   "outputs": [],
   "source": [
    "initializer=tf.variance_scaling_initializer()"
   ]
  },
  {
   "cell_type": "code",
   "execution_count": 266,
   "metadata": {},
   "outputs": [],
   "source": [
    "w1=tf.Variable(initializer([num_inputs,num_hid1]),dtype=tf.float32)\n",
    "w2=tf.Variable(initializer([num_hid1,num_hid2]),dtype=tf.float32)\n",
    "w3=tf.Variable(initializer([num_hid2,num_hid3]),dtype=tf.float32)\n",
    "w4=tf.Variable(initializer([num_hid3,num_output]),dtype=tf.float32)"
   ]
  },
  {
   "cell_type": "code",
   "execution_count": 267,
   "metadata": {},
   "outputs": [],
   "source": [
    "b1=tf.Variable(tf.zeros(num_hid1))\n",
    "b2=tf.Variable(tf.zeros(num_hid2))\n",
    "b3=tf.Variable(tf.zeros(num_hid3))\n",
    "b4=tf.Variable(tf.zeros(num_output))"
   ]
  },
  {
   "cell_type": "code",
   "execution_count": 268,
   "metadata": {},
   "outputs": [],
   "source": [
    "hid_layer1=actf(tf.matmul(X,w1)+b1)\n",
    "hid_layer2=actf(tf.matmul(hid_layer1,w2)+b2)\n",
    "hid_layer3=actf(tf.matmul(hid_layer2,w3)+b3)\n",
    "output_layer=actf(tf.matmul(hid_layer3,w4)+b4)"
   ]
  },
  {
   "cell_type": "code",
   "execution_count": 269,
   "metadata": {},
   "outputs": [],
   "source": [
    "def show_hist_of_weight(all_weight_list,status='before'):\n",
    "    fig = plt.figure()\n",
    "    weight_index = 0\n",
    "\n",
    "    for i in range(1,1+int(len(all_weight_list)//3)):\n",
    "        ax = fig.add_subplot(1,4,i)\n",
    "        ax.grid(False)\n",
    "        temp_weight_list = all_weight_list[weight_index:weight_index+3]\n",
    "        for temp_index in range(len(temp_weight_list)):\n",
    "            current_flat = temp_weight_list[temp_index].flatten()\n",
    "            ax.hist(current_flat,histtype='step',bins='auto',label=str(temp_index+weight_index))\n",
    "            ax.legend()\n",
    "        ax.set_title('From Layer : '+str(weight_index+1)+' to '+str(weight_index+3))\n",
    "        weight_index = weight_index + 3\n",
    "    plt.savefig('viz/weights_'+str(status)+\"_training.png\")\n",
    "    plt.close('all')"
   ]
  },
  {
   "cell_type": "code",
   "execution_count": 270,
   "metadata": {},
   "outputs": [],
   "source": [
    "all_weights=[w1]+[w2]+[w3]+[w4]\n",
    "\n",
    "l1_regularizer=tf.contrib.layers.l1_regularizer(scale=0.005,scope=None)\n",
    "regularization_penalty=tf.contrib.layers.apply_regularization(l1_regularizer,all_weights)"
   ]
  },
  {
   "cell_type": "code",
   "execution_count": 271,
   "metadata": {},
   "outputs": [],
   "source": [
    "loss=tf.reduce_mean(tf.square(output_layer-X))"
   ]
  },
  {
   "cell_type": "code",
   "execution_count": 272,
   "metadata": {},
   "outputs": [],
   "source": [
    "optimizer=tf.train.AdamOptimizer(lr)\n",
    "train=optimizer.minimize(loss+regularization_penalty)"
   ]
  },
  {
   "cell_type": "code",
   "execution_count": 273,
   "metadata": {},
   "outputs": [],
   "source": [
    "init=tf.global_variables_initializer()"
   ]
  },
  {
   "cell_type": "code",
   "execution_count": null,
   "metadata": {},
   "outputs": [],
   "source": []
  },
  {
   "cell_type": "code",
   "execution_count": 274,
   "metadata": {},
   "outputs": [],
   "source": [
    "num_epoch=500\n",
    "batch_size=10000"
   ]
  },
  {
   "cell_type": "code",
   "execution_count": 275,
   "metadata": {},
   "outputs": [],
   "source": [
    "def next_batch(num, data):\n",
    "    '''\n",
    "    Return a total of `num` random samples \n",
    "    '''\n",
    "    idx = np.arange(0 , len(data))\n",
    "    np.random.shuffle(idx)\n",
    "    idx = idx[:num]\n",
    "    data_shuffle = [data[i] for i in idx]\n",
    "\n",
    "    return np.asarray(data_shuffle)"
   ]
  },
  {
   "cell_type": "code",
   "execution_count": 276,
   "metadata": {},
   "outputs": [],
   "source": [
    "x=[]\n",
    "y=[]\n",
    "l=[]"
   ]
  },
  {
   "cell_type": "code",
   "execution_count": 277,
   "metadata": {
    "scrolled": false
   },
   "outputs": [
    {
     "name": "stdout",
     "output_type": "stream",
     "text": [
      "epoch 0 loss 0.7063937783241272\n",
      "epoch 1 loss 0.7028366327285767\n",
      "epoch 2 loss 0.592710554599762\n",
      "epoch 3 loss 0.5307372808456421\n",
      "epoch 4 loss 0.5098474025726318\n",
      "epoch 5 loss 0.5125886797904968\n",
      "epoch 6 loss 0.5432664752006531\n",
      "epoch 7 loss 0.5752628445625305\n",
      "epoch 8 loss 0.4764844477176666\n",
      "epoch 9 loss 0.6743083000183105\n",
      "epoch 10 loss 0.5016517639160156\n",
      "epoch 11 loss 0.5340374112129211\n",
      "epoch 12 loss 0.6184271574020386\n",
      "epoch 13 loss 0.7178913354873657\n",
      "epoch 14 loss 0.5648353099822998\n",
      "epoch 15 loss 0.6156242489814758\n",
      "epoch 16 loss 0.5338281393051147\n",
      "epoch 17 loss 0.46729105710983276\n",
      "epoch 18 loss 0.5725522041320801\n",
      "epoch 19 loss 0.5592036843299866\n",
      "epoch 20 loss 0.5015122890472412\n",
      "epoch 21 loss 0.5649141073226929\n",
      "epoch 22 loss 0.4976922571659088\n",
      "epoch 23 loss 0.48084717988967896\n",
      "epoch 24 loss 0.5364882349967957\n",
      "epoch 25 loss 0.6878125071525574\n",
      "epoch 26 loss 0.5827695727348328\n",
      "epoch 27 loss 0.4701143205165863\n",
      "epoch 28 loss 0.5416698455810547\n",
      "epoch 29 loss 0.4167504608631134\n",
      "epoch 30 loss 0.4707781970500946\n",
      "epoch 31 loss 0.45968732237815857\n",
      "epoch 32 loss 0.47044622898101807\n",
      "epoch 33 loss 0.4255097508430481\n",
      "epoch 34 loss 0.4216872751712799\n",
      "epoch 35 loss 0.4824838936328888\n",
      "epoch 36 loss 0.49729272723197937\n",
      "epoch 37 loss 0.4679020941257477\n",
      "epoch 38 loss 0.606855571269989\n",
      "epoch 39 loss 0.44452306628227234\n",
      "epoch 40 loss 0.43172580003738403\n",
      "epoch 41 loss 0.46677303314208984\n",
      "epoch 42 loss 0.4767892360687256\n",
      "epoch 43 loss 0.5263765454292297\n",
      "epoch 44 loss 0.467989981174469\n",
      "epoch 45 loss 0.47810450196266174\n",
      "epoch 46 loss 0.6065737009048462\n",
      "epoch 47 loss 0.44161257147789\n",
      "epoch 48 loss 0.5465764999389648\n",
      "epoch 49 loss 0.5724369287490845\n",
      "epoch 50 loss 0.5001524090766907\n",
      "epoch 51 loss 0.4105150103569031\n",
      "epoch 52 loss 0.4453915059566498\n",
      "epoch 53 loss 0.45232266187667847\n",
      "epoch 54 loss 0.47721773386001587\n",
      "epoch 55 loss 0.46875715255737305\n",
      "epoch 56 loss 0.4738008677959442\n",
      "epoch 57 loss 0.5436325073242188\n",
      "epoch 58 loss 0.5048086047172546\n",
      "epoch 59 loss 0.43683499097824097\n",
      "epoch 60 loss 0.4932798445224762\n",
      "epoch 61 loss 0.5303578972816467\n",
      "epoch 62 loss 0.4578646421432495\n",
      "epoch 63 loss 0.47249650955200195\n",
      "epoch 64 loss 0.46647074818611145\n",
      "epoch 65 loss 0.4880094528198242\n",
      "epoch 66 loss 0.43541380763053894\n",
      "epoch 67 loss 0.49523910880088806\n",
      "epoch 68 loss 0.4698779881000519\n",
      "epoch 69 loss 0.5412858724594116\n",
      "epoch 70 loss 0.432073175907135\n",
      "epoch 71 loss 0.40722694993019104\n",
      "epoch 72 loss 0.49261027574539185\n",
      "epoch 73 loss 0.4834219217300415\n",
      "epoch 74 loss 0.4605199992656708\n",
      "epoch 75 loss 0.5590094923973083\n",
      "epoch 76 loss 0.4637167155742645\n",
      "epoch 77 loss 0.4321219027042389\n",
      "epoch 78 loss 0.4569518268108368\n",
      "epoch 79 loss 0.4703027904033661\n",
      "epoch 80 loss 0.44326427578926086\n",
      "epoch 81 loss 0.466702401638031\n",
      "epoch 82 loss 0.5622344613075256\n",
      "epoch 83 loss 0.41710370779037476\n",
      "epoch 84 loss 0.5774745345115662\n",
      "epoch 85 loss 0.3980324864387512\n",
      "epoch 86 loss 0.5273796319961548\n",
      "epoch 87 loss 0.44311609864234924\n",
      "epoch 88 loss 0.4499586522579193\n",
      "epoch 89 loss 0.4257315993309021\n",
      "epoch 90 loss 0.4253104329109192\n",
      "epoch 91 loss 0.47469374537467957\n",
      "epoch 92 loss 0.5061138272285461\n",
      "epoch 93 loss 0.4929939806461334\n",
      "epoch 94 loss 0.44050613045692444\n",
      "epoch 95 loss 0.4411502480506897\n",
      "epoch 96 loss 0.46035274863243103\n",
      "epoch 97 loss 0.44972631335258484\n",
      "epoch 98 loss 0.5069267749786377\n",
      "epoch 99 loss 0.4019116163253784\n",
      "epoch 100 loss 0.49011683464050293\n",
      "epoch 101 loss 0.45734381675720215\n",
      "epoch 102 loss 0.44757282733917236\n",
      "epoch 103 loss 0.4445127248764038\n",
      "epoch 104 loss 0.40483662486076355\n",
      "epoch 105 loss 0.43379801511764526\n",
      "epoch 106 loss 0.410225510597229\n",
      "epoch 107 loss 0.47331809997558594\n",
      "epoch 108 loss 0.516319990158081\n",
      "epoch 109 loss 0.4448755085468292\n",
      "epoch 110 loss 0.4297693371772766\n",
      "epoch 111 loss 0.562789797782898\n",
      "epoch 112 loss 0.4913109838962555\n",
      "epoch 113 loss 0.4012582004070282\n",
      "epoch 114 loss 0.4594089686870575\n",
      "epoch 115 loss 0.5052177906036377\n",
      "epoch 116 loss 0.5606861114501953\n",
      "epoch 117 loss 0.4329219460487366\n",
      "epoch 118 loss 0.4106574058532715\n",
      "epoch 119 loss 0.4308924376964569\n",
      "epoch 120 loss 0.45257288217544556\n",
      "epoch 121 loss 0.41527509689331055\n",
      "epoch 122 loss 0.4058827757835388\n",
      "epoch 123 loss 0.549748957157135\n",
      "epoch 124 loss 0.4438013434410095\n",
      "epoch 125 loss 0.5197399854660034\n",
      "epoch 126 loss 0.4452548623085022\n",
      "epoch 127 loss 0.4620686173439026\n",
      "epoch 128 loss 0.4236948490142822\n",
      "epoch 129 loss 0.4005390405654907\n",
      "epoch 130 loss 0.4598008692264557\n",
      "epoch 131 loss 0.44395843148231506\n",
      "epoch 132 loss 0.4072395861148834\n",
      "epoch 133 loss 0.42451345920562744\n",
      "epoch 134 loss 0.4244226813316345\n",
      "epoch 135 loss 0.5440151691436768\n",
      "epoch 136 loss 0.44082021713256836\n",
      "epoch 137 loss 0.41721871495246887\n",
      "epoch 138 loss 0.514840841293335\n",
      "epoch 139 loss 0.47531619668006897\n",
      "epoch 140 loss 0.4547053873538971\n",
      "epoch 141 loss 0.4185415804386139\n",
      "epoch 142 loss 0.4163271188735962\n",
      "epoch 143 loss 0.5616724491119385\n",
      "epoch 144 loss 0.5724806189537048\n",
      "epoch 145 loss 0.4255169928073883\n",
      "epoch 146 loss 0.5264577865600586\n",
      "epoch 147 loss 0.40182024240493774\n",
      "epoch 148 loss 0.43498414754867554\n",
      "epoch 149 loss 0.4001874029636383\n",
      "epoch 150 loss 0.5468032956123352\n",
      "epoch 151 loss 0.43427571654319763\n",
      "epoch 152 loss 0.42758625745773315\n",
      "epoch 153 loss 0.41557610034942627\n",
      "epoch 154 loss 0.4745268225669861\n",
      "epoch 155 loss 0.43663010001182556\n",
      "epoch 156 loss 0.5440493226051331\n",
      "epoch 157 loss 0.4202609360218048\n",
      "epoch 158 loss 0.4508785009384155\n",
      "epoch 159 loss 0.415849894285202\n",
      "epoch 160 loss 0.445100873708725\n",
      "epoch 161 loss 0.4351417124271393\n",
      "epoch 162 loss 0.4561188220977783\n",
      "epoch 163 loss 0.40509873628616333\n",
      "epoch 164 loss 0.5424816608428955\n",
      "epoch 165 loss 0.4631406366825104\n",
      "epoch 166 loss 0.5942843556404114\n",
      "epoch 167 loss 0.4110049307346344\n",
      "epoch 168 loss 0.4215472340583801\n",
      "epoch 169 loss 0.43064868450164795\n",
      "epoch 170 loss 0.504743218421936\n",
      "epoch 171 loss 0.4830244779586792\n",
      "epoch 172 loss 0.44014379382133484\n",
      "epoch 173 loss 0.4129944145679474\n",
      "epoch 174 loss 0.4535943567752838\n",
      "epoch 175 loss 0.5130188465118408\n",
      "epoch 176 loss 0.44763699173927307\n",
      "epoch 177 loss 0.4321689307689667\n",
      "epoch 178 loss 0.4423311650753021\n",
      "epoch 179 loss 0.43355706334114075\n",
      "epoch 180 loss 0.40409398078918457\n",
      "epoch 181 loss 0.43943989276885986\n",
      "epoch 182 loss 0.6263306736946106\n",
      "epoch 183 loss 0.4619375467300415\n",
      "epoch 184 loss 0.48069339990615845\n",
      "epoch 185 loss 0.4436149001121521\n",
      "epoch 186 loss 0.5245850086212158\n",
      "epoch 187 loss 0.4483477473258972\n",
      "epoch 188 loss 0.4187886118888855\n",
      "epoch 189 loss 0.5227885246276855\n",
      "epoch 190 loss 0.40972548723220825\n",
      "epoch 191 loss 0.42811429500579834\n",
      "epoch 192 loss 0.5654049515724182\n",
      "epoch 193 loss 0.424460232257843\n",
      "epoch 194 loss 0.39628490805625916\n",
      "epoch 195 loss 0.5053064227104187\n",
      "epoch 196 loss 0.5874000191688538\n",
      "epoch 197 loss 0.41664353013038635\n",
      "epoch 198 loss 0.4369426667690277\n",
      "epoch 199 loss 0.4337814748287201\n",
      "epoch 200 loss 0.4391087293624878\n",
      "epoch 201 loss 0.44313153624534607\n",
      "epoch 202 loss 0.4136911630630493\n",
      "epoch 203 loss 0.5532770156860352\n",
      "epoch 204 loss 0.41324591636657715\n",
      "epoch 205 loss 0.48773640394210815\n",
      "epoch 206 loss 0.45018458366394043\n",
      "epoch 207 loss 0.5783497095108032\n",
      "epoch 208 loss 0.41683438420295715\n",
      "epoch 209 loss 0.5548156499862671\n",
      "epoch 210 loss 0.4285469949245453\n",
      "epoch 211 loss 0.40511009097099304\n",
      "epoch 212 loss 0.4489710032939911\n",
      "epoch 213 loss 0.4742613434791565\n",
      "epoch 214 loss 0.4380682408809662\n",
      "epoch 215 loss 0.5228731632232666\n",
      "epoch 216 loss 0.4803714156150818\n",
      "epoch 217 loss 0.43224036693573\n",
      "epoch 218 loss 0.41302016377449036\n",
      "epoch 219 loss 0.4479489028453827\n",
      "epoch 220 loss 0.4313039183616638\n",
      "epoch 221 loss 0.4449111223220825\n",
      "epoch 222 loss 0.48123422265052795\n",
      "epoch 223 loss 0.44583263993263245\n",
      "epoch 224 loss 0.453769326210022\n",
      "epoch 225 loss 0.41856682300567627\n",
      "epoch 226 loss 0.5314359664916992\n",
      "epoch 227 loss 0.4316940903663635\n",
      "epoch 228 loss 0.425554484128952\n",
      "epoch 229 loss 0.4482191801071167\n",
      "epoch 230 loss 0.4401082992553711\n",
      "epoch 231 loss 0.435303270816803\n",
      "epoch 232 loss 0.39752987027168274\n",
      "epoch 233 loss 0.46809643507003784\n",
      "epoch 234 loss 0.5259702205657959\n",
      "epoch 235 loss 0.44903868436813354\n",
      "epoch 236 loss 0.5364735722541809\n",
      "epoch 237 loss 0.43644484877586365\n",
      "epoch 238 loss 0.6566497683525085\n",
      "epoch 239 loss 0.42963746190071106\n",
      "epoch 240 loss 0.4601530432701111\n",
      "epoch 241 loss 0.534622311592102\n",
      "epoch 242 loss 0.41887107491493225\n"
     ]
    },
    {
     "name": "stdout",
     "output_type": "stream",
     "text": [
      "epoch 243 loss 0.41412171721458435\n",
      "epoch 244 loss 0.4392877221107483\n",
      "epoch 245 loss 0.43598681688308716\n",
      "epoch 246 loss 0.4117238223552704\n",
      "epoch 247 loss 0.4573063850402832\n",
      "epoch 248 loss 0.41532570123672485\n",
      "epoch 249 loss 0.4162867069244385\n",
      "epoch 250 loss 0.4325094223022461\n",
      "epoch 251 loss 0.5355421304702759\n",
      "epoch 252 loss 0.5328843593597412\n",
      "epoch 253 loss 0.4029110074043274\n",
      "epoch 254 loss 0.4345055818557739\n",
      "epoch 255 loss 0.42151206731796265\n",
      "epoch 256 loss 0.5065068602561951\n",
      "epoch 257 loss 0.3795187175273895\n",
      "epoch 258 loss 0.43132340908050537\n",
      "epoch 259 loss 0.5176178216934204\n",
      "epoch 260 loss 0.44074782729148865\n",
      "epoch 261 loss 0.4245695173740387\n",
      "epoch 262 loss 0.4341445565223694\n",
      "epoch 263 loss 0.41453027725219727\n",
      "epoch 264 loss 0.41112181544303894\n",
      "epoch 265 loss 0.4534958600997925\n",
      "epoch 266 loss 0.43926531076431274\n",
      "epoch 267 loss 0.3988264501094818\n",
      "epoch 268 loss 0.5405302047729492\n",
      "epoch 269 loss 0.44659584760665894\n",
      "epoch 270 loss 0.40077877044677734\n",
      "epoch 271 loss 0.41968560218811035\n",
      "epoch 272 loss 0.4266646206378937\n",
      "epoch 273 loss 0.4695321321487427\n",
      "epoch 274 loss 0.43233028054237366\n",
      "epoch 275 loss 0.43301790952682495\n",
      "epoch 276 loss 0.4336666464805603\n",
      "epoch 277 loss 0.4390217363834381\n",
      "epoch 278 loss 0.4357624650001526\n",
      "epoch 279 loss 0.42837822437286377\n",
      "epoch 280 loss 0.41228431463241577\n",
      "epoch 281 loss 0.5408079624176025\n",
      "epoch 282 loss 0.5634406805038452\n",
      "epoch 283 loss 0.4024098813533783\n",
      "epoch 284 loss 0.40047314763069153\n",
      "epoch 285 loss 0.42727768421173096\n",
      "epoch 286 loss 0.46098607778549194\n",
      "epoch 287 loss 0.5348145961761475\n",
      "epoch 288 loss 0.5311697125434875\n",
      "epoch 289 loss 0.6016725897789001\n",
      "epoch 290 loss 0.45338448882102966\n",
      "epoch 291 loss 0.4940955638885498\n",
      "epoch 292 loss 0.4196164906024933\n",
      "epoch 293 loss 0.4000157117843628\n",
      "epoch 294 loss 0.4150494635105133\n",
      "epoch 295 loss 0.4723852574825287\n",
      "epoch 296 loss 0.41542473435401917\n",
      "epoch 297 loss 0.5355820059776306\n",
      "epoch 298 loss 0.4872056543827057\n",
      "epoch 299 loss 0.45210182666778564\n",
      "epoch 300 loss 0.4283391833305359\n",
      "epoch 301 loss 0.46205389499664307\n",
      "epoch 302 loss 0.4393066167831421\n",
      "epoch 303 loss 0.41127637028694153\n",
      "epoch 304 loss 0.41897499561309814\n",
      "epoch 305 loss 0.4379473030567169\n",
      "epoch 306 loss 0.44018495082855225\n",
      "epoch 307 loss 0.5269555449485779\n",
      "epoch 308 loss 0.399573415517807\n",
      "epoch 309 loss 0.4741864502429962\n",
      "epoch 310 loss 0.48438605666160583\n",
      "epoch 311 loss 0.4192642569541931\n",
      "epoch 312 loss 0.42651888728141785\n",
      "epoch 313 loss 0.4677930474281311\n",
      "epoch 314 loss 0.4352757930755615\n",
      "epoch 315 loss 0.43012216687202454\n",
      "epoch 316 loss 0.41657310724258423\n",
      "epoch 317 loss 0.49904534220695496\n",
      "epoch 318 loss 0.4211617708206177\n",
      "epoch 319 loss 0.3991117775440216\n",
      "epoch 320 loss 0.41179221868515015\n",
      "epoch 321 loss 0.4337269961833954\n",
      "epoch 322 loss 0.4460369646549225\n",
      "epoch 323 loss 0.42898082733154297\n",
      "epoch 324 loss 0.4127176105976105\n",
      "epoch 325 loss 0.43098515272140503\n",
      "epoch 326 loss 0.4002787172794342\n",
      "epoch 327 loss 0.40061047673225403\n",
      "epoch 328 loss 0.4590204358100891\n",
      "epoch 329 loss 0.46235033869743347\n",
      "epoch 330 loss 0.4150454103946686\n",
      "epoch 331 loss 0.42360472679138184\n",
      "epoch 332 loss 0.45269498229026794\n",
      "epoch 333 loss 0.4222440719604492\n",
      "epoch 334 loss 0.4008736312389374\n",
      "epoch 335 loss 0.5091087818145752\n",
      "epoch 336 loss 0.44014614820480347\n",
      "epoch 337 loss 0.48647964000701904\n",
      "epoch 338 loss 0.4062042236328125\n",
      "epoch 339 loss 0.4563022553920746\n",
      "epoch 340 loss 0.45507338643074036\n",
      "epoch 341 loss 0.453127920627594\n",
      "epoch 342 loss 0.46579083800315857\n",
      "epoch 343 loss 0.5795137882232666\n",
      "epoch 344 loss 0.41655904054641724\n",
      "epoch 345 loss 0.42272576689720154\n",
      "epoch 346 loss 0.4588167369365692\n",
      "epoch 347 loss 0.4188885986804962\n",
      "epoch 348 loss 0.5823314189910889\n",
      "epoch 349 loss 0.39053472876548767\n",
      "epoch 350 loss 0.4365622401237488\n",
      "epoch 351 loss 0.42588990926742554\n",
      "epoch 352 loss 0.4056513011455536\n",
      "epoch 353 loss 0.43620190024375916\n",
      "epoch 354 loss 0.529035747051239\n",
      "epoch 355 loss 0.44811248779296875\n",
      "epoch 356 loss 0.4436057507991791\n",
      "epoch 357 loss 0.4243820011615753\n",
      "epoch 358 loss 0.44664597511291504\n",
      "epoch 359 loss 0.41998183727264404\n",
      "epoch 360 loss 0.4610665440559387\n",
      "epoch 361 loss 0.534035325050354\n",
      "epoch 362 loss 0.4651654064655304\n",
      "epoch 363 loss 0.6547996997833252\n",
      "epoch 364 loss 0.42749154567718506\n",
      "epoch 365 loss 0.5311005711555481\n",
      "epoch 366 loss 0.5708053112030029\n",
      "epoch 367 loss 0.4532366991043091\n",
      "epoch 368 loss 0.44797128438949585\n",
      "epoch 369 loss 0.4415377080440521\n",
      "epoch 370 loss 0.45294949412345886\n",
      "epoch 371 loss 0.4419934153556824\n",
      "epoch 372 loss 0.40046438574790955\n",
      "epoch 373 loss 0.4184095859527588\n",
      "epoch 374 loss 0.40911969542503357\n",
      "epoch 375 loss 0.5198278427124023\n",
      "epoch 376 loss 0.43815547227859497\n",
      "epoch 377 loss 0.41488009691238403\n",
      "epoch 378 loss 0.4116038382053375\n",
      "epoch 379 loss 0.4235185384750366\n",
      "epoch 380 loss 0.5424513220787048\n",
      "epoch 381 loss 0.5126198530197144\n",
      "epoch 382 loss 0.5057834982872009\n",
      "epoch 383 loss 0.42776185274124146\n",
      "epoch 384 loss 0.42489999532699585\n",
      "epoch 385 loss 0.4102448523044586\n",
      "epoch 386 loss 0.45737239718437195\n",
      "epoch 387 loss 0.429598867893219\n",
      "epoch 388 loss 0.4420962333679199\n",
      "epoch 389 loss 0.4912072718143463\n",
      "epoch 390 loss 0.3987099528312683\n",
      "epoch 391 loss 0.43169859051704407\n",
      "epoch 392 loss 0.44913917779922485\n",
      "epoch 393 loss 0.45530566573143005\n",
      "epoch 394 loss 0.4652295708656311\n",
      "epoch 395 loss 0.4205556809902191\n",
      "epoch 396 loss 0.4421445429325104\n",
      "epoch 397 loss 0.4651878774166107\n",
      "epoch 398 loss 0.42784395813941956\n",
      "epoch 399 loss 0.4200162887573242\n",
      "epoch 400 loss 0.43292558193206787\n",
      "epoch 401 loss 0.428295373916626\n",
      "epoch 402 loss 0.42117753624916077\n",
      "epoch 403 loss 0.42907971143722534\n",
      "epoch 404 loss 0.5567368268966675\n",
      "epoch 405 loss 0.5890346765518188\n",
      "epoch 406 loss 0.41370469331741333\n",
      "epoch 407 loss 0.40250372886657715\n",
      "epoch 408 loss 0.42590609192848206\n",
      "epoch 409 loss 0.4439091682434082\n",
      "epoch 410 loss 0.4228493571281433\n",
      "epoch 411 loss 0.4168286621570587\n",
      "epoch 412 loss 0.4156450629234314\n",
      "epoch 413 loss 0.3982103168964386\n",
      "epoch 414 loss 0.5293745994567871\n",
      "epoch 415 loss 0.4446818232536316\n",
      "epoch 416 loss 0.4504797160625458\n",
      "epoch 417 loss 0.5648220777511597\n",
      "epoch 418 loss 0.40106651186943054\n",
      "epoch 419 loss 0.5235158801078796\n",
      "epoch 420 loss 0.4299371838569641\n",
      "epoch 421 loss 0.41955751180648804\n",
      "epoch 422 loss 0.42244091629981995\n",
      "epoch 423 loss 0.41372382640838623\n",
      "epoch 424 loss 0.42371001839637756\n",
      "epoch 425 loss 0.5820403695106506\n",
      "epoch 426 loss 0.44055086374282837\n",
      "epoch 427 loss 0.4383278489112854\n",
      "epoch 428 loss 0.44684475660324097\n",
      "epoch 429 loss 0.4536900520324707\n",
      "epoch 430 loss 0.5205017328262329\n",
      "epoch 431 loss 0.4474111795425415\n",
      "epoch 432 loss 0.41939789056777954\n",
      "epoch 433 loss 0.5182045102119446\n",
      "epoch 434 loss 0.39716634154319763\n",
      "epoch 435 loss 0.6051695942878723\n",
      "epoch 436 loss 0.43966546654701233\n",
      "epoch 437 loss 0.4420931041240692\n",
      "epoch 438 loss 0.42272230982780457\n",
      "epoch 439 loss 0.4464547336101532\n",
      "epoch 440 loss 0.4821564555168152\n",
      "epoch 441 loss 0.4223215878009796\n",
      "epoch 442 loss 0.5132164359092712\n",
      "epoch 443 loss 0.5644865036010742\n",
      "epoch 444 loss 0.4665035605430603\n",
      "epoch 445 loss 0.42846933007240295\n",
      "epoch 446 loss 0.4371638298034668\n",
      "epoch 447 loss 0.46527841687202454\n",
      "epoch 448 loss 0.4155708849430084\n",
      "epoch 449 loss 0.4786645472049713\n",
      "epoch 450 loss 0.4315962493419647\n",
      "epoch 451 loss 0.39666587114334106\n",
      "epoch 452 loss 0.4282320439815521\n",
      "epoch 453 loss 0.4321901798248291\n",
      "epoch 454 loss 0.4449523389339447\n",
      "epoch 455 loss 0.550564169883728\n",
      "epoch 456 loss 0.4009406268596649\n",
      "epoch 457 loss 0.4273780584335327\n",
      "epoch 458 loss 0.4364980161190033\n",
      "epoch 459 loss 0.4504586458206177\n",
      "epoch 460 loss 0.5752548575401306\n",
      "epoch 461 loss 0.41936570405960083\n",
      "epoch 462 loss 0.4034082591533661\n",
      "epoch 463 loss 0.42923444509506226\n",
      "epoch 464 loss 0.4724041521549225\n",
      "epoch 465 loss 0.413602352142334\n",
      "epoch 466 loss 0.39090538024902344\n",
      "epoch 467 loss 0.5570737719535828\n",
      "epoch 468 loss 0.4543892741203308\n",
      "epoch 469 loss 0.4019639492034912\n",
      "epoch 470 loss 0.46602848172187805\n",
      "epoch 471 loss 0.4437699019908905\n",
      "epoch 472 loss 0.45763352513313293\n",
      "epoch 473 loss 0.449039489030838\n",
      "epoch 474 loss 0.41282209753990173\n",
      "epoch 475 loss 0.4077063500881195\n",
      "epoch 476 loss 0.4327065348625183\n",
      "epoch 477 loss 0.4200211763381958\n",
      "epoch 478 loss 0.4873789846897125\n",
      "epoch 479 loss 0.4483991265296936\n",
      "epoch 480 loss 0.5537448525428772\n",
      "epoch 481 loss 0.5562956929206848\n"
     ]
    },
    {
     "name": "stdout",
     "output_type": "stream",
     "text": [
      "epoch 482 loss 0.460763156414032\n",
      "epoch 483 loss 0.517801821231842\n",
      "epoch 484 loss 0.47085097432136536\n",
      "epoch 485 loss 0.4106414318084717\n",
      "epoch 486 loss 0.42789340019226074\n",
      "epoch 487 loss 0.5737382173538208\n",
      "epoch 488 loss 0.4041205644607544\n",
      "epoch 489 loss 0.5411214828491211\n",
      "epoch 490 loss 0.5628211498260498\n",
      "epoch 491 loss 0.4497218728065491\n",
      "epoch 492 loss 0.4047980308532715\n",
      "epoch 493 loss 0.5265321135520935\n",
      "epoch 494 loss 0.4443889856338501\n",
      "epoch 495 loss 0.4537888169288635\n",
      "epoch 496 loss 0.40442734956741333\n",
      "epoch 497 loss 0.5427634716033936\n",
      "epoch 498 loss 0.4243718683719635\n",
      "epoch 499 loss 0.3937777578830719\n",
      "[[ 4.34375070e-02  9.49573889e-02 -1.05373934e-01  9.80475098e-02\n",
      "   1.94922149e-01  4.85891564e-04 -1.46817848e-01  5.51644107e-03\n",
      "   1.49879932e-01  1.84898987e-01  7.91382268e-02  3.56184505e-02\n",
      "  -2.30722204e-01 -1.10829230e-02  7.17061311e-02  2.97129210e-02\n",
      "   1.30630866e-01  7.62743801e-02  1.41108364e-01  1.81167603e-01\n",
      "  -1.94640070e-01  3.50175574e-02]\n",
      " [ 1.33872716e-04 -3.91748995e-02 -6.23729900e-02  2.56169587e-01\n",
      "  -6.89841136e-02  1.04528934e-01 -6.02149367e-02  1.76555842e-01\n",
      "   2.49285445e-01 -1.02720104e-01  2.77940631e-02 -5.34737632e-02\n",
      "  -1.76809713e-01  1.81132510e-01 -6.09081388e-02 -9.21867490e-02\n",
      "  -6.35677055e-02 -1.46922134e-02 -1.56899646e-01  3.01112328e-02\n",
      "   2.28499338e-01  2.33680621e-01]\n",
      " [-3.46870422e-02 -8.11603665e-02 -1.68856204e-01  9.21954513e-02\n",
      "  -8.17907453e-02 -3.07945218e-02 -2.03214765e-01 -1.17174827e-01\n",
      "  -2.69158874e-02  9.85868350e-02  1.06082737e-01  2.73900867e-01\n",
      "  -5.49099818e-02 -2.52711698e-02 -5.94877787e-02  1.50387049e-01\n",
      "   1.48226634e-01 -1.82394788e-01 -2.14310596e-03 -2.52153844e-01\n",
      "   2.41617069e-01 -1.30845189e-01]\n",
      " [-1.72019392e-01 -6.23194315e-02  8.99751335e-02 -1.85987964e-01\n",
      "  -3.82727012e-02  1.78221449e-01 -7.71866143e-02  1.98179871e-01\n",
      "   1.23198582e-02 -2.50133693e-01  5.63579537e-02 -2.65481740e-01\n",
      "  -2.62412280e-02 -6.86213747e-02  9.45804119e-02 -4.93745096e-02\n",
      "  -1.77609210e-03 -4.54708450e-02 -3.05340290e-02  2.27506265e-01\n",
      "  -1.88201964e-01  1.53919458e-01]\n",
      " [-2.95202434e-01  1.93400666e-01 -6.46287948e-02 -1.17083319e-01\n",
      "  -2.37218097e-01  5.96385822e-03  2.25808784e-01  1.99124128e-01\n",
      "  -1.04312517e-01  2.86916554e-01  5.37412427e-02  1.58233911e-01\n",
      "   1.54363722e-01  1.05883060e-02  7.76960328e-02  1.50001757e-02\n",
      "  -1.81013241e-01 -3.52680683e-02 -1.72729507e-01 -6.27020374e-02\n",
      "   1.09780654e-01  1.25173599e-01]\n",
      " [-1.80552840e-01 -9.22978818e-02 -1.83590963e-01 -2.51331124e-02\n",
      "   1.84774861e-01 -2.84715384e-01 -8.05398002e-02  1.93424433e-01\n",
      "  -1.08874924e-01  9.95308235e-02  1.36961386e-01 -8.86631608e-02\n",
      "   2.67000973e-01  1.33577347e-01  3.12972665e-02  5.97065641e-03\n",
      "   1.19941488e-01  1.05559811e-01 -1.51298139e-02  4.00054492e-02\n",
      "  -3.39144990e-02 -6.18557185e-02]\n",
      " [-3.37709002e-02  7.61009827e-02 -2.63071881e-04 -7.79271647e-02\n",
      "   1.24696694e-01 -1.08334497e-01 -3.83282662e-03 -3.84447463e-02\n",
      "   2.13756472e-01  4.90891002e-02 -8.37399662e-02  4.69134897e-02\n",
      "  -2.34124079e-01 -1.25851303e-01  1.88380666e-02 -1.65143237e-01\n",
      "   2.22564459e-01  4.28061783e-02 -6.63710386e-03 -1.86034497e-02\n",
      "   1.11468658e-01  8.78380388e-02]\n",
      " [-1.10177815e-01 -3.04604083e-01  1.48026139e-01 -2.24152043e-01\n",
      "   6.82278052e-02  3.34031023e-02  7.90955275e-02  1.21952094e-01\n",
      "   1.08439490e-01  3.56016420e-02  5.88571392e-02 -9.20120031e-02\n",
      "  -2.66802847e-01  1.03332615e-02  1.87226027e-01  1.45871267e-02\n",
      "  -9.57429409e-02 -1.70901045e-01 -3.78449745e-02  1.20350808e-01\n",
      "   1.38235718e-01  1.24344513e-01]\n",
      " [ 6.27973974e-02 -1.10400319e-01 -6.61972687e-02  4.13637348e-02\n",
      "   9.33181643e-02 -9.74420905e-02 -8.47091004e-02  1.08421765e-01\n",
      "   1.03383455e-02 -2.84422785e-01  1.70677274e-01  1.09061539e-01\n",
      "   9.45885107e-02  1.17292881e-01  2.94677112e-02  5.94434142e-02\n",
      "   9.69889686e-02  7.49537349e-02 -3.05395722e-02  6.92948997e-02\n",
      "  -1.96211502e-01  2.07798988e-01]\n",
      " [-4.81316037e-02 -1.17784567e-01 -1.72223777e-01  1.78456753e-01\n",
      "  -1.09344184e-01 -1.49730518e-01  9.70973819e-02  1.26929969e-01\n",
      "  -1.06311068e-01  2.18423605e-01 -4.49512452e-02 -5.00337072e-02\n",
      "  -5.79228923e-02 -8.79507735e-02  6.84880093e-02 -1.81854540e-03\n",
      "   1.05925746e-01 -1.34695262e-01 -1.33527974e-02  6.26597926e-02\n",
      "  -2.74310231e-01  2.48735502e-01]\n",
      " [-2.14202613e-01  1.33174926e-01 -2.62298286e-01 -1.31005272e-01\n",
      "  -1.14671685e-01 -1.83132708e-01  1.09312147e-01  1.45443603e-01\n",
      "   7.51466528e-02 -3.46172159e-03  4.49099429e-02  4.25218046e-02\n",
      "  -1.08968385e-01  7.24804529e-04 -5.33575006e-02 -9.93623510e-02\n",
      "  -3.04737384e-03 -1.83175907e-01  2.22870503e-02  1.12818986e-01\n",
      "  -4.92895171e-02 -1.44641370e-01]\n",
      " [ 6.84012100e-02  1.20891720e-01 -7.71905258e-02 -1.57565162e-01\n",
      "  -1.23703428e-01  2.51758546e-01 -7.20844790e-02  1.99834198e-01\n",
      "   1.17267430e-01  1.36172861e-01 -2.59627551e-01  5.19609898e-02\n",
      "  -5.35647534e-02 -3.14023369e-03  4.28995639e-02 -1.68875128e-01\n",
      "   5.26234247e-02  6.72109518e-03  1.27294064e-01  3.03987294e-01\n",
      "  -1.79430127e-01  1.06119905e-02]\n",
      " [-3.39070847e-03 -2.15654537e-01  8.93514082e-02  1.09790757e-01\n",
      "  -5.34394011e-02 -2.28399914e-02 -2.50276178e-01 -8.50903690e-02\n",
      "  -1.29278734e-01 -2.24499673e-01  1.22913629e-01 -9.96883512e-02\n",
      "   2.68786430e-01 -7.16767535e-02 -5.90063864e-03  2.53354274e-02\n",
      "  -1.92054451e-01 -1.71375468e-01 -8.05701762e-02 -2.73589976e-02\n",
      "   3.38016078e-02  7.53183756e-03]\n",
      " [ 4.37590927e-02  2.26929877e-02  2.66925812e-01  1.40224442e-01\n",
      "  -1.17864475e-01  2.08948880e-01  1.03888614e-02  9.28501424e-04\n",
      "   5.26048318e-02  1.39879659e-01  2.53190458e-01 -1.13216437e-01\n",
      "  -1.08382769e-01 -1.84159875e-02 -2.23366141e-01 -9.42417979e-02\n",
      "   1.60011128e-01  4.85926494e-02 -8.09912905e-02 -3.01962011e-02\n",
      "   5.35975061e-02 -2.24044904e-01]\n",
      " [-6.37196973e-02 -2.51862220e-02  1.89721942e-01 -2.88778931e-01\n",
      "   2.89012164e-01 -2.17652082e-01  1.23685069e-01  6.26695454e-02\n",
      "  -1.42526388e-01  1.66401550e-01 -1.96711048e-01 -7.99515024e-02\n",
      "   2.07077578e-01 -1.10316828e-01 -7.05929101e-02 -7.86899775e-02\n",
      "  -1.32997453e-01  1.32322967e-01 -6.61058351e-02 -1.68745458e-01\n",
      "  -2.97203232e-02 -4.34484370e-02]\n",
      " [ 2.05466319e-02 -1.26120895e-01  1.39562681e-01 -4.79877964e-02\n",
      "   1.87507331e-01  5.69297001e-02  6.61578253e-02  1.89012215e-01\n",
      "   2.74955928e-01 -2.22506985e-01  4.81453910e-02  6.64552823e-02\n",
      "   2.75373131e-01 -6.00704812e-02  1.32109253e-02 -1.40338503e-02\n",
      "  -2.61977352e-02  4.51818667e-02 -4.78680320e-02  9.68737751e-02\n",
      "  -1.97284624e-01 -1.37328297e-01]\n",
      " [-9.24764574e-02  7.64586627e-02  1.66156664e-01 -9.55602825e-02\n",
      "   1.74008861e-01  1.83575287e-01 -5.06741628e-02 -6.86104000e-02\n",
      "  -1.28830105e-01 -1.61889736e-02  1.81910738e-01  2.41437778e-01\n",
      "  -9.34642181e-02 -1.26959562e-01 -1.03181832e-01 -1.07437022e-01\n",
      "   1.12420373e-01  4.19749804e-02 -2.73558963e-02  1.93643987e-01\n",
      "  -2.41396159e-01  1.25811890e-01]\n",
      " [ 2.15890650e-02  1.98329955e-01  7.77275935e-02  3.14509198e-02\n",
      "   1.01656072e-01  7.63826668e-02  5.28116524e-02  8.34859684e-02\n",
      "   1.77032754e-01 -2.49128435e-02  1.92725793e-01 -3.26153673e-02\n",
      "  -4.28145528e-02 -3.71385701e-02 -1.66530296e-01  1.75248429e-01\n",
      "  -9.55336019e-02 -2.28842422e-02  9.05607715e-02 -2.17462003e-01\n",
      "  -5.08676171e-02 -1.04328759e-01]\n",
      " [ 1.18478596e-01  2.33477041e-01 -1.22776210e-01  2.08271399e-01\n",
      "  -4.53691818e-02  1.64517909e-01  1.16217583e-02 -1.13150910e-01\n",
      "  -1.37176486e-02  1.37362823e-01 -5.66834621e-02  1.72102362e-01\n",
      "  -1.13269247e-01 -1.32332250e-01 -8.72856528e-02 -4.24116142e-02\n",
      "  -4.33025323e-03  9.00445729e-02  2.32041359e-01  2.78782472e-02\n",
      "   1.30814314e-02 -2.12100849e-01]\n",
      " [-1.93348572e-01 -2.83963591e-01  3.48928794e-02 -4.80645783e-02\n",
      "   2.23456934e-01  1.59334749e-01 -1.05123602e-01 -3.02781552e-01\n",
      "  -4.60701250e-02 -2.17108339e-01 -8.06110054e-02 -6.82662874e-02\n",
      "  -7.06218928e-02 -2.65139919e-02 -1.91384867e-01  1.55508388e-02\n",
      "  -1.77659318e-01  9.55826119e-02  8.08014348e-02  1.07228875e-01\n",
      "   1.73451468e-01 -7.47837424e-02]\n",
      " [-5.84715381e-02  6.62435368e-02  6.93838820e-02  1.84245288e-01\n",
      "  -4.25457172e-02 -1.60827070e-01 -8.28294009e-02 -3.04827522e-02\n",
      "  -9.33549274e-03 -2.79256999e-01  1.07130699e-01 -1.59750253e-01\n",
      "  -7.80559927e-02 -1.98780537e-01  1.81918934e-01  5.27719073e-02\n",
      "  -1.27822518e-01  1.59975201e-01 -1.42819043e-02  5.71744181e-02\n",
      "  -2.31959641e-01 -3.63938659e-02]\n",
      " [ 1.03985019e-01  1.19143218e-01  2.08535902e-02  2.01946855e-01\n",
      "   4.87319008e-02  1.59765303e-01  4.01695631e-02 -9.37895998e-02\n",
      "  -1.57417372e-01  3.77818681e-02  5.69983106e-03  1.27416208e-01\n",
      "  -1.92286074e-01  1.70465946e-01  7.13753551e-02  1.75164901e-02\n",
      "  -7.61551037e-02 -2.75536060e-01  1.18082315e-01 -1.70421153e-02\n",
      "   1.52877979e-02  4.94158566e-02]\n",
      " [-2.97151785e-02 -2.84917831e-01  1.47998676e-01 -5.34922071e-02\n",
      "  -1.76320255e-01 -5.88262230e-02  2.52996504e-01  4.82761450e-02\n",
      "   3.00825201e-02  1.67759106e-01  8.22166279e-02  9.02066380e-03\n",
      "  -1.22102208e-01 -1.27513304e-01 -1.46176061e-02  1.20257065e-01\n",
      "   1.12860069e-01 -1.60122618e-01 -2.44553238e-02 -1.97590292e-01\n",
      "   4.83838841e-02 -1.34759426e-01]\n",
      " [ 1.80507138e-01  9.69379544e-02 -9.31867436e-02  6.47135824e-02\n",
      "   1.61684096e-01 -2.22373575e-01 -3.02014768e-01  2.13096589e-01\n",
      "  -5.86489290e-02 -1.08211711e-01  9.69771668e-02 -2.26064976e-02\n",
      "  -7.51960054e-02  5.31472228e-02 -1.37164026e-01 -3.24061513e-02\n",
      "   9.02077407e-02 -1.36797071e-01  2.91538626e-01  1.81597397e-01\n",
      "   2.64072150e-01  1.11467659e-01]\n",
      " [ 7.77613372e-02  1.10677578e-01 -1.70512185e-01 -1.58645347e-01\n",
      "  -7.51264840e-02 -1.88347355e-01  9.95879155e-03 -8.05966277e-03\n",
      "  -2.28316605e-01  2.81475872e-01 -8.00866336e-02  8.83391276e-02\n",
      "   9.74170864e-02  1.25426680e-01  7.91413113e-02  1.57556325e-01\n",
      "  -2.18438972e-02  7.85780326e-02 -9.08436924e-02  2.27761909e-01\n",
      "   7.83676580e-02 -7.47031271e-02]\n",
      " [ 4.04030830e-02 -6.47428483e-02 -1.68568324e-02 -6.87087402e-02\n",
      "  -1.65049791e-01 -3.81992501e-03 -4.61189076e-02 -2.89212889e-03\n",
      "  -2.46475548e-01  2.04888418e-01 -2.15018023e-04 -2.65375793e-01\n",
      "   6.21713586e-02 -2.77745910e-03 -1.28077567e-01 -1.51365669e-02\n",
      "  -2.67906636e-01 -6.94725737e-02 -7.94600025e-02  2.89727282e-02\n",
      "   1.39562245e-02 -9.33704674e-02]\n",
      " [-1.63642075e-02  1.24368571e-01 -1.52017474e-01 -1.64270565e-01\n",
      "   1.60721883e-01  1.09626586e-02 -1.46544605e-01 -4.81453203e-02\n",
      "  -4.15231735e-02 -1.84479177e-01  1.49334937e-01 -6.95204362e-02\n",
      "  -1.71872284e-02 -6.10974692e-02 -2.48367250e-01  8.98653734e-03\n",
      "  -9.93208960e-03 -1.18805230e-01 -5.65925427e-02  2.28793584e-02\n",
      "   1.27274804e-02  6.88635334e-02]\n",
      " [ 2.43953928e-01 -1.67376660e-02  5.88933239e-03  1.10459708e-01\n",
      "  -1.55825382e-02  3.30058485e-02  3.70434970e-02 -6.92002401e-02\n",
      "  -4.64786403e-02  7.96536431e-02  9.49844122e-02  1.11939255e-02\n",
      "  -2.46646851e-02 -1.14641681e-01  4.18713986e-04  1.04294255e-01\n",
      "   4.22931537e-02  2.15064958e-01  3.62818092e-02  2.81479908e-03\n",
      "  -5.86774386e-02 -8.96223709e-02]\n",
      " [-6.16627606e-03  1.10850923e-01  1.44263133e-01 -1.79235991e-02\n",
      "  -1.68497398e-01  2.85034806e-01 -1.93895087e-01  1.55785054e-01\n",
      "   6.50980920e-02  5.90164252e-02 -1.16774455e-01  1.46643758e-01\n",
      "   2.24055685e-02  5.53367399e-02 -3.28900106e-02  1.63087957e-02\n",
      "  -2.09027026e-02  1.64599165e-01  3.57059166e-02  1.26575172e-01\n",
      "   2.70082504e-01 -4.22475748e-02]\n",
      " [ 1.29446194e-01 -2.37021983e-01  7.96059445e-02 -1.56561673e-01\n",
      "   3.47356945e-02 -1.92784488e-01  7.81536251e-02 -7.12940395e-02\n",
      "  -1.06680699e-01  2.27564827e-01  1.17847987e-01 -2.30060950e-01\n",
      "   2.97190680e-04 -9.85563323e-02  3.16853286e-03 -7.33341947e-02\n",
      "  -2.41507888e-02  6.15217835e-02  1.11274652e-01  5.57479635e-02\n",
      "   3.98322530e-02  1.78036556e-01]\n",
      " [ 1.05744749e-01  2.17741877e-01 -1.91639468e-01 -1.95974022e-01\n",
      "   2.00830132e-01 -1.05316803e-01  2.46604495e-02  3.46310735e-02\n",
      "   1.41739044e-02 -1.17412664e-01  1.21261030e-01 -1.47139981e-01\n",
      "   2.25974247e-02  1.04718320e-01 -1.36941150e-01  1.62991118e-02\n",
      "   5.96441813e-02  1.57820836e-01 -7.02237040e-02 -3.85949314e-02\n",
      "   2.12966241e-02  2.21198708e-01]\n",
      " [ 5.67554720e-02 -2.08303213e-01  6.33604638e-03  1.48763359e-01\n",
      "  -1.81440562e-02 -1.10109590e-01 -2.15531573e-01  1.81816205e-01\n",
      "   1.79342747e-01 -1.30496085e-01 -2.26402029e-01 -2.09980175e-01\n",
      "   1.32599354e-01  8.18515942e-02  1.24870256e-01 -4.11432673e-04\n",
      "  -2.81884521e-01  1.29488841e-01 -2.88503431e-03  1.44292369e-01\n",
      "   2.05385894e-01  1.25992864e-01]\n",
      " [-8.17861035e-02 -2.51487852e-03  1.41971514e-01 -5.66892400e-02\n",
      "   2.13043708e-02  2.66081721e-01  6.77140756e-03 -1.10026933e-01\n",
      "  -1.91553891e-01  1.45854075e-02 -1.19574487e-01 -2.53211468e-01\n",
      "  -1.08158126e-01  1.05844043e-01 -7.62198716e-02 -1.12723801e-02\n",
      "   1.84868388e-02  2.03076825e-01 -2.20159158e-01  1.11749835e-01\n",
      "  -1.32295132e-01 -1.00641154e-01]\n",
      " [ 1.33474648e-01  1.90318916e-02  1.39854968e-01  1.27064800e-02\n",
      "  -8.00974444e-02  9.42049399e-02 -9.43244174e-02 -3.37934084e-02\n",
      "  -9.44928527e-02  1.19322672e-01  6.32750019e-02  5.75707469e-04\n",
      "  -8.26788414e-03 -3.71647887e-02 -5.19085079e-02  1.04993895e-01\n",
      "   4.38422076e-02  2.95935441e-02  9.02476609e-02  2.48025730e-02\n",
      "   1.31900907e-01 -1.48695886e-01]\n",
      " [ 1.48257017e-01  1.59097780e-02  1.93249248e-02  1.82293672e-02\n",
      "  -1.65889382e-01  3.79317775e-02 -1.15038924e-01  2.23492071e-01\n",
      "  -4.63019870e-02  2.00894829e-02 -1.02356784e-01 -1.75091669e-01\n",
      "  -2.87123233e-01  5.09378165e-02  1.49103984e-01 -1.16774291e-02\n",
      "  -2.16276925e-02  1.13497395e-02 -5.61928228e-02 -3.16984504e-02\n",
      "  -1.24672867e-01 -2.16354832e-01]\n",
      " [ 1.46970123e-01  2.56472491e-02  2.15222985e-01 -4.35262285e-02\n",
      "  -1.23557620e-01  2.29748696e-01 -3.31050600e-04 -2.84367688e-02\n",
      "   5.29376566e-02 -2.01394111e-01 -6.92385584e-02 -8.26472789e-02\n",
      "  -2.63576418e-01  2.26485729e-01 -8.56546219e-03  2.08097860e-01\n",
      "  -5.66405132e-02  2.70297211e-02  9.17283166e-03  1.90502048e-01\n",
      "  -2.57031322e-01  8.55940655e-02]\n",
      " [-3.69539261e-02 -1.01150818e-01  1.56824768e-01 -3.38359512e-02\n",
      "   2.29259774e-01  2.86378026e-01 -3.35830450e-02 -4.54607904e-02\n",
      "   2.62686405e-02  1.71410173e-01 -2.77721852e-01 -3.55263613e-02\n",
      "   8.74635652e-02  1.56228051e-01  1.65425688e-01  3.45842019e-02\n",
      "  -1.39164254e-01 -6.39781356e-02 -2.43688524e-01  2.58579135e-01\n",
      "  -2.57250726e-01  1.42297477e-01]\n",
      " [-1.13630965e-01  1.28234580e-01 -4.37712669e-02  3.73645499e-02\n",
      "   8.62503871e-02 -6.64346740e-02  9.87903774e-02  6.62011001e-03\n",
      "   1.64555013e-01  6.35875948e-03  2.10671742e-02  1.05883643e-01\n",
      "  -2.57999420e-01  2.19912361e-02  1.58429340e-01  5.91598684e-03\n",
      "   7.68894106e-02 -3.87170352e-02  1.14049464e-01  2.12907955e-01\n",
      "   7.34176710e-02 -2.86608506e-02]\n",
      " [ 1.47141144e-01 -1.25633955e-01 -2.21664473e-01 -1.00179702e-01\n",
      "  -7.27785155e-02  1.52647719e-01  6.99003860e-02 -4.80694883e-02\n",
      "  -1.83134496e-01 -2.32216805e-01  7.99913555e-02 -3.85799594e-02\n",
      "  -9.81998742e-02 -2.57991217e-02 -1.61350265e-01  5.55386841e-02\n",
      "   5.12459464e-02 -1.36970310e-02 -1.78222269e-01 -1.57078311e-01\n",
      "  -1.42853498e-01  2.25663170e-01]\n",
      " [-6.83258623e-02 -8.18074942e-02  6.28665090e-02  7.09517002e-02\n",
      "   8.96713510e-02  1.28474206e-01 -1.24425597e-01  2.30501413e-01\n",
      "  -4.92781261e-03 -4.52616848e-02 -3.20851654e-02 -3.60117368e-02\n",
      "  -1.16701856e-01  1.21088244e-01  1.26718134e-02  1.59266666e-01\n",
      "  -1.32161076e-04 -7.91156664e-02 -2.13748544e-01  1.43974811e-01\n",
      "  -7.87661597e-02  3.36151719e-02]\n",
      " [ 2.34818086e-02  2.10404575e-01  8.01672786e-02 -1.94735467e-01\n",
      "  -1.55899346e-01 -1.83919296e-01  9.80057195e-02 -2.18049828e-02\n",
      "  -2.35688657e-01  2.08253860e-01 -6.82552345e-03  2.18127057e-01\n",
      "   1.59615390e-02 -7.11195990e-02 -7.95587003e-02  1.40104905e-01\n",
      "   4.51499689e-03 -2.64137983e-01  1.65488541e-01  4.61535715e-03\n",
      "  -7.08333729e-03  1.64722160e-01]\n",
      " [-1.37318879e-01 -1.88540258e-02 -1.42142043e-01  4.26072851e-02\n",
      "  -6.22058287e-02  1.60727814e-01  2.04994291e-01 -2.42858991e-01\n",
      "   5.71114086e-02 -2.86373738e-02 -1.55536816e-01 -1.25007123e-01\n",
      "   2.18337685e-01 -1.12673171e-01  8.68961029e-03 -1.47805214e-01\n",
      "  -3.93479466e-02 -1.23035893e-01 -1.58121735e-01 -4.21343185e-02\n",
      "  -1.16307199e-01 -2.56522536e-01]\n",
      " [ 6.02727814e-04 -8.23294595e-02 -9.28236321e-02  1.30739272e-01\n",
      "  -1.33071199e-01  2.58617371e-01 -2.37940341e-01 -2.75691986e-01\n",
      "   3.42352949e-02  2.71945726e-02  9.22703091e-03 -1.58984944e-01\n",
      "  -1.32845342e-01  6.78871572e-02  1.84289515e-01  1.41984805e-01\n",
      "  -1.89000554e-02  1.58820987e-01  1.78734168e-01  7.64484406e-02\n",
      "  -7.21615627e-02  9.97236818e-02]]\n"
     ]
    }
   ],
   "source": [
    "with tf.Session() as sess:\n",
    "    sess.run(init)\n",
    "    vars=tf.trainable_variables()\n",
    "    vars_vals=sess.run(vars)\n",
    "    for epoch in range(num_epoch):\n",
    "        num_batches=len(training_features)//batch_size\n",
    "        #learning rate decay\n",
    "        lr = lr * (0.5 **(epoch//25))\n",
    "        for iteration in range(num_batches):\n",
    "            X_batch=next_batch(batch_size,training_features)\n",
    "            sess.run(train,feed_dict={X:X_batch})\n",
    "        train_loss=loss.eval(feed_dict={X:X_batch})\n",
    "        print(\"epoch {} loss {}\".format(epoch,train_loss))\n",
    "        x.append(epoch)\n",
    "        y.append(train_loss)\n",
    "    for var, val in zip(vars, vars_vals):\n",
    "        if var.get_shape()==(43, 22):\n",
    "            l=val\n",
    "print(l)  "
   ]
  },
  {
   "cell_type": "code",
   "execution_count": 278,
   "metadata": {},
   "outputs": [],
   "source": [
    "sum_weights=[]\n",
    "for row in l:\n",
    "    total_weight=0\n",
    "    for a in row:\n",
    "        total_weight+=a\n",
    "    sum_weights.append(total_weight)"
   ]
  },
  {
   "cell_type": "code",
   "execution_count": 279,
   "metadata": {},
   "outputs": [
    {
     "data": {
      "text/plain": [
       "[0.8638833273143973,\n",
       " 0.5358864727750188,\n",
       " -0.34080357337370515,\n",
       " -0.4505611782660708,\n",
       " 0.3456336176022887,\n",
       " 0.16277639521285892,\n",
       " 0.09739979400183074,\n",
       " -0.053557359613478184,\n",
       " 0.47588469088077545,\n",
       " -0.26184441265650094,\n",
       " -0.8642747710109688,\n",
       " 0.3952429990749806,\n",
       " -0.9755833307281137,\n",
       " 0.39102480543078855,\n",
       " -0.5442522782832384,\n",
       " 0.6005139881744981,\n",
       " 0.34526415169239044,\n",
       " 0.4839137867093086,\n",
       " 0.4654502207413316,\n",
       " -0.9960016719996929,\n",
       " -0.6319498168304563,\n",
       " 0.4954107915982604,\n",
       " -0.36458121333271265,\n",
       " 0.6173418443650007,\n",
       " 0.31597672030329704,\n",
       " -1.1860649919544812,\n",
       " -0.7760018091648817,\n",
       " 0.5817467232409399,\n",
       " 1.058408949058503,\n",
       " -0.07321194530231878,\n",
       " 0.3193756975233555,\n",
       " 0.11334729150985368,\n",
       " -0.5742308616172522,\n",
       " 0.45908190606860444,\n",
       " -0.6594001147896051,\n",
       " 0.2824636335717514,\n",
       " 0.44640511460602283,\n",
       " 0.7695114458911121,\n",
       " -1.017329360358417,\n",
       " 0.17177214345429093,\n",
       " 0.11307490570470691,\n",
       " -1.2160409986972809,\n",
       " 0.16375650191912428]"
      ]
     },
     "execution_count": 279,
     "metadata": {},
     "output_type": "execute_result"
    }
   ],
   "source": [
    "sum_weights"
   ]
  },
  {
   "cell_type": "code",
   "execution_count": null,
   "metadata": {},
   "outputs": [],
   "source": []
  },
  {
   "cell_type": "code",
   "execution_count": 280,
   "metadata": {},
   "outputs": [],
   "source": [
    "var_imp=[]\n",
    "for i in range(0,len(sum_weights)):\n",
    "    prod=sum_weights[i]\n",
    "    var_imp.append(prod)"
   ]
  },
  {
   "cell_type": "code",
   "execution_count": 281,
   "metadata": {},
   "outputs": [
    {
     "data": {
      "text/plain": [
       "[0.8638833273143973,\n",
       " 0.5358864727750188,\n",
       " -0.34080357337370515,\n",
       " -0.4505611782660708,\n",
       " 0.3456336176022887,\n",
       " 0.16277639521285892,\n",
       " 0.09739979400183074,\n",
       " -0.053557359613478184,\n",
       " 0.47588469088077545,\n",
       " -0.26184441265650094,\n",
       " -0.8642747710109688,\n",
       " 0.3952429990749806,\n",
       " -0.9755833307281137,\n",
       " 0.39102480543078855,\n",
       " -0.5442522782832384,\n",
       " 0.6005139881744981,\n",
       " 0.34526415169239044,\n",
       " 0.4839137867093086,\n",
       " 0.4654502207413316,\n",
       " -0.9960016719996929,\n",
       " -0.6319498168304563,\n",
       " 0.4954107915982604,\n",
       " -0.36458121333271265,\n",
       " 0.6173418443650007,\n",
       " 0.31597672030329704,\n",
       " -1.1860649919544812,\n",
       " -0.7760018091648817,\n",
       " 0.5817467232409399,\n",
       " 1.058408949058503,\n",
       " -0.07321194530231878,\n",
       " 0.3193756975233555,\n",
       " 0.11334729150985368,\n",
       " -0.5742308616172522,\n",
       " 0.45908190606860444,\n",
       " -0.6594001147896051,\n",
       " 0.2824636335717514,\n",
       " 0.44640511460602283,\n",
       " 0.7695114458911121,\n",
       " -1.017329360358417,\n",
       " 0.17177214345429093,\n",
       " 0.11307490570470691,\n",
       " -1.2160409986972809,\n",
       " 0.16375650191912428]"
      ]
     },
     "execution_count": 281,
     "metadata": {},
     "output_type": "execute_result"
    }
   ],
   "source": [
    "var_imp"
   ]
  },
  {
   "cell_type": "code",
   "execution_count": 282,
   "metadata": {},
   "outputs": [
    {
     "data": {
      "text/plain": [
       "['id',\n",
       " 'dur',\n",
       " 'proto',\n",
       " 'service',\n",
       " 'state',\n",
       " 'spkts',\n",
       " 'dpkts',\n",
       " 'sbytes',\n",
       " 'dbytes',\n",
       " 'rate',\n",
       " 'sttl',\n",
       " 'dttl',\n",
       " 'sload',\n",
       " 'dload',\n",
       " 'sloss',\n",
       " 'dloss',\n",
       " 'sinpkt',\n",
       " 'dinpkt',\n",
       " 'sjit',\n",
       " 'djit',\n",
       " 'swin',\n",
       " 'stcpb',\n",
       " 'dtcpb',\n",
       " 'dwin',\n",
       " 'tcprtt',\n",
       " 'synack',\n",
       " 'ackdat',\n",
       " 'smean',\n",
       " 'dmean',\n",
       " 'trans_depth',\n",
       " 'response_body_len',\n",
       " 'ct_srv_src',\n",
       " 'ct_state_ttl',\n",
       " 'ct_dst_ltm',\n",
       " 'ct_src_dport_ltm',\n",
       " 'ct_dst_sport_ltm',\n",
       " 'ct_dst_src_ltm',\n",
       " 'is_ftp_login',\n",
       " 'ct_ftp_cmd',\n",
       " 'ct_flw_http_mthd',\n",
       " 'ct_src_ltm',\n",
       " 'ct_srv_dst',\n",
       " 'is_sm_ips_ports',\n",
       " 'attack_cat',\n",
       " 'label']"
      ]
     },
     "execution_count": 282,
     "metadata": {},
     "output_type": "execute_result"
    }
   ],
   "source": [
    "features=list(range(1,44))\n",
    "feature_names=list(training_df)\n",
    "feature_names"
   ]
  },
  {
   "cell_type": "code",
   "execution_count": 283,
   "metadata": {},
   "outputs": [],
   "source": [
    "plt.rcParams['figure.figsize']=(20,20)"
   ]
  },
  {
   "cell_type": "code",
   "execution_count": 284,
   "metadata": {},
   "outputs": [
    {
     "data": {
      "text/plain": [
       "Text(0,0.5,'Feature Importance Values')"
      ]
     },
     "execution_count": 284,
     "metadata": {},
     "output_type": "execute_result"
    },
    {
     "data": {
      "image/png": "[encoded data removed]",
      "text/plain": [
       "<matplotlib.figure.Figure at 0x10a388d98d0>"
      ]
     },
     "metadata": {
      "needs_background": "light"
     },
     "output_type": "display_data"
    }
   ],
   "source": [
    "x_vals=np.arange(len(features))\n",
    "plt.bar(x_vals,var_imp,align='center',alpha=1)\n",
    "plt.xticks(x_vals,features)\n",
    "plt.xlabel(\"Feature Indexes\")\n",
    "plt.ylabel(\"Feature Importance Values\")\n"
   ]
  },
  {
   "cell_type": "code",
   "execution_count": 285,
   "metadata": {
    "scrolled": true
   },
   "outputs": [],
   "source": [
    "best_features=sorted(range(len(var_imp)), key=lambda i: var_imp[i], reverse=True)[:10]"
   ]
  },
  {
   "cell_type": "code",
   "execution_count": null,
   "metadata": {},
   "outputs": [],
   "source": []
  },
  {
   "cell_type": "code",
   "execution_count": 286,
   "metadata": {},
   "outputs": [
    {
     "name": "stdout",
     "output_type": "stream",
     "text": [
      "dmean\n",
      "id\n",
      "is_ftp_login\n",
      "dwin\n",
      "dloss\n",
      "smean\n",
      "dur\n",
      "stcpb\n",
      "dinpkt\n",
      "dbytes\n"
     ]
    }
   ],
   "source": [
    "for i in best_features:\n",
    "    print(feature_names[i])"
   ]
  },
  {
   "cell_type": "code",
   "execution_count": 287,
   "metadata": {
    "scrolled": false
   },
   "outputs": [
    {
     "data": {
      "text/plain": [
       "[<matplotlib.lines.Line2D at 0x10a38698668>]"
      ]
     },
     "execution_count": 287,
     "metadata": {},
     "output_type": "execute_result"
    },
    {
     "data": {
      "image/png": "[encoded data removed]",
      "text/plain": [
       "<matplotlib.figure.Figure at 0x10a3846d240>"
      ]
     },
     "metadata": {
      "needs_background": "light"
     },
     "output_type": "display_data"
    }
   ],
   "source": [
    "plt.rcParams['figure.figsize']=(20,20)\n",
    "plt.plot(x,y)"
   ]
  },
  {
   "cell_type": "code",
   "execution_count": 288,
   "metadata": {},
   "outputs": [
    {
     "name": "stdout",
     "output_type": "stream",
     "text": [
      "0.35600739223942646\n"
     ]
    }
   ],
   "source": [
    "print(np.var(var_imp))"
   ]
  },
  {
   "cell_type": "code",
   "execution_count": null,
   "metadata": {},
   "outputs": [],
   "source": []
  },
  {
   "cell_type": "code",
   "execution_count": null,
   "metadata": {},
   "outputs": [],
   "source": []
  },
  {
   "cell_type": "code",
   "execution_count": null,
   "metadata": {},
   "outputs": [],
   "source": []
  },
  {
   "cell_type": "code",
   "execution_count": null,
   "metadata": {},
   "outputs": [],
   "source": []
  },
  {
   "cell_type": "code",
   "execution_count": null,
   "metadata": {},
   "outputs": [],
   "source": []
  },
  {
   "cell_type": "code",
   "execution_count": null,
   "metadata": {},
   "outputs": [],
   "source": []
  },
  {
   "cell_type": "code",
   "execution_count": null,
   "metadata": {},
   "outputs": [],
   "source": []
  },
  {
   "cell_type": "code",
   "execution_count": null,
   "metadata": {},
   "outputs": [],
   "source": []
  },
  {
   "cell_type": "code",
   "execution_count": null,
   "metadata": {},
   "outputs": [],
   "source": []
  },
  {
   "cell_type": "code",
   "execution_count": null,
   "metadata": {},
   "outputs": [],
   "source": []
  },
  {
   "cell_type": "code",
   "execution_count": null,
   "metadata": {},
   "outputs": [],
   "source": []
  },
  {
   "cell_type": "code",
   "execution_count": null,
   "metadata": {},
   "outputs": [],
   "source": []
  }
 ],
 "metadata": {
  "kernelspec": {
   "display_name": "Python 3",
   "language": "python",
   "name": "python3"
  },
  "language_info": {
   "codemirror_mode": {
    "name": "ipython",
    "version": 3
   },
   "file_extension": ".py",
   "mimetype": "text/x-python",
   "name": "python",
   "nbconvert_exporter": "python",
   "pygments_lexer": "ipython3",
   "version": "3.5.2"
  }
 },
 "nbformat": 4,
 "nbformat_minor": 2
}
